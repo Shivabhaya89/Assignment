{
 "cells": [
  {
   "cell_type": "code",
   "execution_count": 1,
   "id": "71c01b8d-60f8-4b53-914e-9b2e57390407",
   "metadata": {},
   "outputs": [
    {
     "name": "stdout",
     "output_type": "stream",
     "text": [
      "Empty tuple: ()\n",
      "Tuple with one element: ('apple',)\n",
      "Tuple with multiple elements: ('apple', 'banana', 'cherry')\n",
      "Tuple from a list: (1, 2, 3)\n"
     ]
    }
   ],
   "source": [
    "# Write a Python program to create a tuple\n",
    "\n",
    "# 1. Empty tuple\n",
    "empty_tuple = ()\n",
    "print(f\"Empty tuple: {empty_tuple}\")\n",
    "\n",
    "# 2. Tuple with one element (needs a trailing comma)\n",
    "one_element_tuple = (\"apple\",)  # Without comma, it would be a string\n",
    "print(f\"Tuple with one element: {one_element_tuple}\")\n",
    "\n",
    "# 3. Tuple with multiple elements\n",
    "fruits_tuple = (\"apple\", \"banana\", \"cherry\")\n",
    "print(f\"Tuple with multiple elements: {fruits_tuple}\")\n",
    "\n",
    "# 4. Using the tuple() constructor\n",
    "numbers_tuple = tuple([1, 2, 3])  # Convert a list to a tuple\n",
    "print(f\"Tuple from a list: {numbers_tuple}\")\n"
   ]
  },
  {
   "cell_type": "code",
   "execution_count": 2,
   "id": "c0a9151a-0cf8-49eb-8e33-91da5884d81a",
   "metadata": {},
   "outputs": [
    {
     "name": "stdout",
     "output_type": "stream",
     "text": [
      "('Tutor Joes', True, 'T', 3.21, 10)\n"
     ]
    }
   ],
   "source": [
    "# Write a Python program to create a tuple with different data types\n",
    "# Sample Output\n",
    "# ('Tutor Joes', True, 'T', 3.21, 10\n",
    "\n",
    "mixed_tuple = (\"Tutor Joes\", True, 'T', 3.21, 10)\n",
    "print(mixed_tuple)\n"
   ]
  },
  {
   "cell_type": "code",
   "execution_count": 3,
   "id": "2d283520-ff2e-49ac-9428-f88590f8263a",
   "metadata": {},
   "outputs": [
    {
     "name": "stdout",
     "output_type": "stream",
     "text": [
      "Selected item: 10\n",
      "Type: <class 'tuple'>\n"
     ]
    }
   ],
   "source": [
    "# . Write a Python program to create a tuple with numbers and print one item\n",
    "# Sample Output\n",
    "# 10\n",
    "# Type = tuple\n",
    "\n",
    "# Create a tuple with numbers\n",
    "numbers_tuple = (15, 20, 10)  # You can add more numbers if desired\n",
    "\n",
    "# Access and print one item using index\n",
    "selected_item = numbers_tuple[2]  # Index starts from 0, so 2 represents the third item (10)\n",
    "print(f\"Selected item: {selected_item}\")\n",
    "\n",
    "# Print the data type of the tuple\n",
    "print(f\"Type: {type(numbers_tuple)}\")\n"
   ]
  },
  {
   "cell_type": "code",
   "execution_count": 5,
   "id": "5f87fec4-5a45-4fd1-9f86-101df4db18a8",
   "metadata": {},
   "outputs": [
    {
     "name": "stdout",
     "output_type": "stream",
     "text": [
      "a = 4, b = 8, c = 3\n",
      "Original tuple: (4, 8, 3)\n"
     ]
    }
   ],
   "source": [
    "# 4. Write a Python program to unpack a tuple in several variables\n",
    "# Sample Output\n",
    "# a = 4, 8, 3\n",
    "# (4, 8, 3)\n",
    "\n",
    "# Create a tuple\n",
    "numbers = (4, 8, 3)\n",
    "\n",
    "# Unpack the tuple into variables\n",
    "a, b, c = numbers\n",
    "\n",
    "# Print the unpacked variables and the original tuple\n",
    "print(f\"a = {a}, b = {b}, c = {c}\")\n",
    "print(f\"Original tuple: {numbers}\")\n"
   ]
  },
  {
   "cell_type": "code",
   "execution_count": 6,
   "id": "c95f3cb4-2957-456b-b86e-e031af867325",
   "metadata": {},
   "outputs": [
    {
     "name": "stdout",
     "output_type": "stream",
     "text": [
      "Original tuple: (10, 40, 50)\n",
      "New tuple with added items: (10, 40, 50, 70, 90)\n"
     ]
    }
   ],
   "source": [
    "#  Write a Python program to add an item in a tuple\n",
    "# Sample Output\n",
    "# (10, 40, 50, 70, 90)\n",
    "# add items in list = 20\n",
    "# (10, 40, 50, 70, 90, 20)\n",
    "\n",
    "# Create a tuple\n",
    "numbers_tuple = (10, 40, 50)\n",
    "\n",
    "# Convert the tuple to a list (mutable)\n",
    "modified_list = list(numbers_tuple)\n",
    "\n",
    "# Add the new item to the list\n",
    "modified_list.append(70)\n",
    "modified_list.append(90)  # Add another item for demonstration\n",
    "\n",
    "# Convert the modified list back to a tuple (new tuple)\n",
    "new_tuple = tuple(modified_list)\n",
    "\n",
    "# Print the original and modified tuples\n",
    "print(f\"Original tuple: {numbers_tuple}\")\n",
    "print(f\"New tuple with added items: {new_tuple}\")\n"
   ]
  },
  {
   "cell_type": "code",
   "execution_count": 7,
   "id": "9161c461-4332-4f06-9b3d-c9b3fe46821c",
   "metadata": {},
   "outputs": [
    {
     "name": "stdout",
     "output_type": "stream",
     "text": [
      "Tutor Joes: Tutor Joes\n"
     ]
    }
   ],
   "source": [
    "# Write a Python program to convert a tuple to a string\n",
    "# Sample Output\n",
    "# ('T', 'u', 't', 'o', 'r', ' ', 'J', 'o', 'e', 's')\n",
    "# Tutor Joes\n",
    "\n",
    "def tuple_to_string(my_tuple):\n",
    "  \"\"\"\n",
    "  This function converts a tuple to a string with desired formatting.\n",
    "\n",
    "  Args:\n",
    "      my_tuple (tuple): The tuple to convert.\n",
    "\n",
    "  Returns:\n",
    "      str: The converted string.\n",
    "  \"\"\"\n",
    "  # Join the tuple elements with an empty separator ('')\n",
    "  my_string = ''.join(my_tuple)\n",
    "\n",
    "  # Add spaces before and after 'Tutor Joes' for better output formatting\n",
    "  return f\"{' '.join(['Tutor', 'Joes'])}: {my_string}\"\n",
    "\n",
    "# Create a sample tuple\n",
    "my_tuple = ('T', 'u', 't', 'o', 'r', ' ', 'J', 'o', 'e', 's')\n",
    "\n",
    "# Convert the tuple to a string and print the result\n",
    "converted_string = tuple_to_string(my_tuple)\n",
    "print(converted_string)\n"
   ]
  },
  {
   "cell_type": "code",
   "execution_count": 8,
   "id": "ba84eb26-a831-4e4c-8106-e3f12f82ef1b",
   "metadata": {},
   "outputs": [
    {
     "name": "stdout",
     "output_type": "stream",
     "text": [
      "4th Elements From Tuple : d\n",
      "4th Elements From Last Tuple : u\n"
     ]
    }
   ],
   "source": [
    "# Write a Python program to get the 4th element and 4th element from last of a tuple\n",
    "# Sample Output\n",
    "# ('w', 3, 'r', 'e', 's', 'o', 'u', 'r', 'c', 'e')\n",
    "# 4th Elements From Tuple : e\n",
    "# 4th Elements From Last Tuple : u\n",
    "\n",
    "my_tuple = ('w', 3, 'r', 'd', 's', 'o', 'u', 'r', 'c', 'e')\n",
    "\n",
    "# Access the 4th element (index 3)\n",
    "fourth_element = my_tuple[3]\n",
    "\n",
    "# Access the 4th element from last using negative indexing (-4)\n",
    "fourth_from_last = my_tuple[-4]\n",
    "\n",
    "print(f\"4th Elements From Tuple : {fourth_element}\")\n",
    "print(f\"4th Elements From Last Tuple : {fourth_from_last}\")\n"
   ]
  },
  {
   "cell_type": "code",
   "execution_count": 10,
   "id": "7a544225-5204-422e-894b-f05a53a75f46",
   "metadata": {},
   "outputs": [
    {
     "name": "stdout",
     "output_type": "stream",
     "text": [
      "Original tuple: ('Tutor', 'J', 23, 56.67, [23, 12, 50], True)\n",
      "Copy of the tuple: ('Tutor', 'J', 23, 56.67, [23, 12, 50], True)\n"
     ]
    }
   ],
   "source": [
    "# Write a Python program to create the colon of a tuple\n",
    "# Sample Output\n",
    "# (\"Tutor\", 'J', 23 , 56.67 , [23,12] , True)\n",
    "# Copy = ('Tutor', 'J', 23, 56.67, [23, 12], True)\n",
    "\n",
    "# Create a tuple with various elements\n",
    "my_tuple = (\"Tutor\", 'J', 23, 56.67, [23, 12], True)\n",
    "\n",
    "# Create a copy using slicing (creates a new tuple)\n",
    "copy_tuple = my_tuple[:]\n",
    "\n",
    "# Modify a list element within the copy (demonstrates mutability of lists within tuples)\n",
    "copy_tuple[4].append(50)  # Append 50 to the list at index 4\n",
    "\n",
    "# Print the original and modified tuples\n",
    "print(f\"Original tuple: {my_tuple}\")\n",
    "print(f\"Copy of the tuple: {copy_tuple}\")\n"
   ]
  },
  {
   "cell_type": "code",
   "execution_count": 11,
   "id": "ac1f9599-522b-454d-b8fa-5c8a72427aa0",
   "metadata": {},
   "outputs": [
    {
     "name": "stdout",
     "output_type": "stream",
     "text": [
      "item = 2 Repeated items of a tuple = 3\n",
      "item = 34 Repeated items of a tuple = 2\n"
     ]
    }
   ],
   "source": [
    "#  Write a Python program to find the repeated items of a tuple\n",
    "# Sample Output\n",
    "# (2, 34, 45, 6, 7, 2, 4, 5, 78, 34, 2)\n",
    "# item = 2\n",
    "# Repeated items of a tuple = 3\n",
    "\n",
    "def find_repeated_items(my_tuple):\n",
    "  \"\"\"\n",
    "  This function finds the repeated items in a tuple and counts their occurrences.\n",
    "\n",
    "  Args:\n",
    "      my_tuple (tuple): The tuple to analyze.\n",
    "\n",
    "  Returns:\n",
    "      dict: A dictionary where keys are the repeated items and values are their counts.\n",
    "  \"\"\"\n",
    "  repeated_items = {}\n",
    "  for item in my_tuple:\n",
    "    if item in repeated_items:\n",
    "      repeated_items[item] += 1\n",
    "    else:\n",
    "      repeated_items[item] = 1\n",
    "  return repeated_items\n",
    "\n",
    "# Create a sample tuple\n",
    "my_tuple = (2, 34, 45, 6, 7, 2, 4, 5, 78, 34, 2)\n",
    "\n",
    "# Find repeated items and their counts\n",
    "repeated_items_dict = find_repeated_items(my_tuple)\n",
    "\n",
    "# Print the results\n",
    "for item, count in repeated_items_dict.items():\n",
    "  if count > 1:\n",
    "    print(f\"item = {item} Repeated items of a tuple = {count}\")\n",
    "\n"
   ]
  },
  {
   "cell_type": "code",
   "execution_count": 12,
   "id": "c144abc9-5ab6-4dc4-8c6c-3b099b684304",
   "metadata": {},
   "outputs": [
    {
     "name": "stdout",
     "output_type": "stream",
     "text": [
      "8 in Tuple = True\n",
      "x in Tuple = False\n"
     ]
    }
   ],
   "source": [
    "# 10. Write a Python program to check whether an element exists within a tuple\n",
    "# Sample Output\n",
    "# ('T', 'u', 't', 'o', 'r', ' ', 'J', 'o', 'e', 's',8)\n",
    "# 8 in Tuple = True\n",
    "# 'x' in Tuple = False\n",
    "\n",
    "my_tuple = ('T', 'u', 't', 'o', 'r', ' ', 'J', 'o', 'e', 's', 8)\n",
    "\n",
    "# Check for element existence using the 'in' operator\n",
    "element_to_check_1 = 8\n",
    "element_to_check_2 = 'x'\n",
    "\n",
    "print(f\"{element_to_check_1} in Tuple = {element_to_check_1 in my_tuple}\")\n",
    "print(f\"{element_to_check_2} in Tuple = {element_to_check_2 in my_tuple}\")\n",
    "\n"
   ]
  },
  {
   "cell_type": "code",
   "execution_count": 13,
   "id": "a4e4546b-f346-45c3-879b-927b3c0dad7c",
   "metadata": {},
   "outputs": [
    {
     "name": "stdout",
     "output_type": "stream",
     "text": [
      "Original list: [12, 45, 87, 54, 89, 4]\n",
      "Converted tuple: (12, 45, 87, 54, 89, 4)\n"
     ]
    }
   ],
   "source": [
    "# Write a Python program to convert a list to a tuple\n",
    "# Sample Output\n",
    "# [12, 45, 87, 54, 89, 4]\n",
    "# (12, 45, 87, 54, 89, 4)\n",
    "\n",
    "# Create a sample list\n",
    "my_list = [12, 45, 87, 54, 89, 4]\n",
    "\n",
    "# Convert the list to a tuple using the tuple() constructor\n",
    "my_tuple = tuple(my_list)\n",
    "\n",
    "# Print the original list and the converted tuple\n",
    "print(f\"Original list: {my_list}\")\n",
    "print(f\"Converted tuple: {my_tuple}\")\n"
   ]
  },
  {
   "cell_type": "code",
   "execution_count": 14,
   "id": "2750e912-aab8-4941-84f7-1d4119fc3373",
   "metadata": {},
   "outputs": [
    {
     "name": "stdout",
     "output_type": "stream",
     "text": [
      "Original tuple: (23, 45, 56, 68, 10, 45, 7, 9)\n",
      "Tuple after removing 56: (23, 45, 68, 10, 45, 7, 9)\n"
     ]
    }
   ],
   "source": [
    "# Write a Python program to remove an item from a tuple\n",
    "# Sample Output\n",
    "# (23, 45, 56, 68, 10, 45, 7, 9)\n",
    "# Remove = 56\n",
    "# (23, 45, 68, 10, 45, 7, 9)\n",
    "\n",
    "def remove_from_tuple(my_tuple, item_to_remove):\n",
    "  \"\"\"\n",
    "  This function removes an item from a tuple by converting it to a list, modifying the list, and converting back to a tuple.\n",
    "\n",
    "  Args:\n",
    "      my_tuple (tuple): The tuple to modify.\n",
    "      item_to_remove: The item to remove.\n",
    "\n",
    "  Returns:\n",
    "      tuple: The new tuple with the item removed.\n",
    "  \"\"\"\n",
    "  # Convert the tuple to a list (mutable)\n",
    "  modified_list = list(my_tuple)\n",
    "\n",
    "  # Remove the item from the list\n",
    "  modified_list.remove(item_to_remove)\n",
    "\n",
    "  # Convert the modified list back to a tuple (new tuple)\n",
    "  new_tuple = tuple(modified_list)\n",
    "\n",
    "  return new_tuple\n",
    "\n",
    "# Create a sample tuple\n",
    "my_tuple = (23, 45, 56, 68, 10, 45, 7, 9)\n",
    "\n",
    "# Item to remove\n",
    "item_to_remove = 56\n",
    "\n",
    "# Remove the item and get the new tuple\n",
    "new_tuple = remove_from_tuple(my_tuple, item_to_remove)\n",
    "\n",
    "# Print the original and modified tuples\n",
    "print(f\"Original tuple: {my_tuple}\")\n",
    "print(f\"Tuple after removing {item_to_remove}: {new_tuple}\")"
   ]
  },
  {
   "cell_type": "code",
   "execution_count": 15,
   "id": "9e8080b4-00ca-4a47-874f-f7a2bc20ddf9",
   "metadata": {},
   "outputs": [
    {
     "name": "stdout",
     "output_type": "stream",
     "text": [
      "Original tuple: (10, 20, 30, 40, 50, 60, 70, 80, 90, 100)\n",
      "Sliced tuple: (40, 50, 60, 70)\n"
     ]
    }
   ],
   "source": [
    "#  Write a Python program to slice a tuple\n",
    "# Sample Output\n",
    "# (10, 20, 30, 40, 50, 60, 70, 80, 90, 100)\n",
    "# (40, 50, 60, 70, 80)\n",
    "\n",
    "# Create a sample tuple\n",
    "my_tuple = (10, 20, 30, 40, 50, 60, 70, 80, 90, 100)\n",
    "\n",
    "# Slice the tuple to extract elements from index 3 (inclusive) to index 7 (exclusive)\n",
    "sliced_tuple = my_tuple[3:7]\n",
    "\n",
    "# Print the original tuple and the sliced portion\n",
    "print(f\"Original tuple: {my_tuple}\")\n",
    "print(f\"Sliced tuple: {sliced_tuple}\")\n"
   ]
  },
  {
   "cell_type": "code",
   "execution_count": 17,
   "id": "f5b0dece-4863-4403-8e95-b4b0d574c873",
   "metadata": {},
   "outputs": [
    {
     "name": "stdout",
     "output_type": "stream",
     "text": [
      "Item = 78 Index Number : 3\n"
     ]
    }
   ],
   "source": [
    "# . Write a Python program to find the index of an item of a tuple\n",
    "# Sample Output\n",
    "# (23, 45, 67, 78, 89, 90, 34, 56)\n",
    "# Item = 78\n",
    "# Index Number : 3\n",
    "\n",
    "def find_item_index(my_tuple, item):\n",
    "  \"\"\"\n",
    "  This function finds the index of a given item within a tuple.\n",
    "\n",
    "  Args:\n",
    "      my_tuple (tuple): The tuple to search in.\n",
    "      item: The item to find the index of.\n",
    "\n",
    "  Returns:\n",
    "      int: The index of the item if found, -1 otherwise.\n",
    "  \"\"\"\n",
    "  try:\n",
    "    return my_tuple.index(item)\n",
    "  except ValueError:\n",
    "    return -1\n",
    "\n",
    "# Create a sample tuple\n",
    "my_tuple = (23, 45, 67, 78, 89, 90, 34, 56)\n",
    "\n",
    "# Item to find the index of\n",
    "item_to_find = 78\n",
    "\n",
    "# Find the index using the function\n",
    "index = find_item_index(my_tuple, item_to_find)\n",
    "\n",
    "# Print the result with informative message\n",
    "if index != -1:\n",
    "  print(f\"Item = {item_to_find} Index Number : {index}\")\n",
    "else:\n",
    "  print(f\"Item {item_to_find} not found in the tuple.\")\n"
   ]
  },
  {
   "cell_type": "code",
   "execution_count": 18,
   "id": "afe1fd54-98bd-4e71-bc1c-7e0c00c4f0e7",
   "metadata": {},
   "outputs": [
    {
     "name": "stdout",
     "output_type": "stream",
     "text": [
      "Length : 6\n"
     ]
    }
   ],
   "source": [
    "# Write a Python program to find the length of a tuple\n",
    "# Sample Output\n",
    "# (\"Lion\", \"Cat\", \"Dog\", \"Panda\", \"Tiger\", \"Fox\")\n",
    "# Length : 6\n",
    "\n",
    "# Create a sample tuple\n",
    "my_tuple = (\"Lion\", \"Cat\", \"Dog\", \"Panda\", \"Tiger\", \"Fox\")\n",
    "\n",
    "# Find the length of the tuple using len()\n",
    "tuple_length = len(my_tuple)\n",
    "\n",
    "# Print the result with an informative message\n",
    "print(f\"Length : {tuple_length}\")\n"
   ]
  },
  {
   "cell_type": "code",
   "execution_count": 19,
   "id": "f983ff58-5006-4a72-8bb3-c48adde0c52b",
   "metadata": {},
   "outputs": [
    {
     "name": "stdout",
     "output_type": "stream",
     "text": [
      "Original tuple: (('Name', 'Ram'), ('Age', 23), ('City', 'Salem'), ('Mark', 422))\n",
      "Converted dictionary: {'Name': 'Ram', 'Age': 23, 'City': 'Salem', 'Mark': 422}\n"
     ]
    }
   ],
   "source": [
    "# 6. Write a Python program to convert a tuple to a dictionary\n",
    "# Sample Output\n",
    "# ( (\"Name\", \"Ram\"), (\"Age\", 23), (\"City\", \"Salem\"), (\"Mark\", 422) )\n",
    "# { 'Name': 'Ram', 'Age': 23, 'City': 'Salem', 'Mark': 422 }\n",
    "\n",
    "# Create a sample tuple with key-value pairs\n",
    "my_tuple = ((\"Name\", \"Ram\"), (\"Age\", 23), (\"City\", \"Salem\"), (\"Mark\", 422))\n",
    "\n",
    "# Convert the tuple to a dictionary using a dictionary comprehension\n",
    "my_dict = {key: value for key, value in my_tuple}\n",
    "\n",
    "# Print the original tuple and the converted dictionary\n",
    "print(f\"Original tuple: {my_tuple}\")\n",
    "print(f\"Converted dictionary: {my_dict}\")\n"
   ]
  },
  {
   "cell_type": "code",
   "execution_count": 20,
   "id": "1f36d5ee-3816-4efc-9fdb-1fd26e693e72",
   "metadata": {},
   "outputs": [
    {
     "name": "stdout",
     "output_type": "stream",
     "text": [
      "Original list: [(10, 30), (60, 90), (20, 50)]\n",
      "Unzipped lists: [(10, 60, 20), (30, 90, 50)]\n"
     ]
    }
   ],
   "source": [
    "#  Write a Python program to unzip a list of tuples into individual lists\n",
    "# Sample Output\n",
    "# [ (10,30), (60,90), (20,50) ]\n",
    "# [ (10, 60, 20), (30, 90, 50) ]\n",
    "\n",
    "def unzip_lists(list_of_tuples):\n",
    "  \"\"\"\n",
    "  This function unzips a list of tuples into individual lists.\n",
    "\n",
    "  Args:\n",
    "      list_of_tuples (list): A list of tuples.\n",
    "\n",
    "  Returns:\n",
    "      list: A list of unzipped lists.\n",
    "  \"\"\"\n",
    "  # Use zip(*list_of_tuples) to unpack elements from each tuple\n",
    "  unzipped_lists = list(zip(*list_of_tuples))\n",
    "\n",
    "  return unzipped_lists\n",
    "\n",
    "# Create a sample list of tuples\n",
    "my_list = [(10, 30), (60, 90), (20, 50)]\n",
    "\n",
    "# Unzip the list of tuples\n",
    "unzipped_lists = unzip_lists(my_list)\n",
    "\n",
    "# Print the original list and the unzipped lists\n",
    "print(f\"Original list: {my_list}\")\n",
    "print(f\"Unzipped lists: {unzipped_lists}\")\n"
   ]
  },
  {
   "cell_type": "code",
   "execution_count": 21,
   "id": "65f4c402-f015-424c-a786-e3a605d8a71c",
   "metadata": {},
   "outputs": [
    {
     "name": "stdout",
     "output_type": "stream",
     "text": [
      "Before Reverse : (23, 45, 67, 78, 89, 90, 34, 56)\n",
      "After Reverse : (56, 34, 90, 89, 78, 67, 45, 23)\n"
     ]
    }
   ],
   "source": [
    "# Write a Python program to reverse a tuple\n",
    "# Sample Output\n",
    "# Before Reverse : ( 23, 45, 67, 78, 89, 90, 34, 56 )\n",
    "# After Reverse : ( 56, 34, 90, 89, 78, 67, 45, 23 )\n",
    "\n",
    "# Create a sample tuple\n",
    "my_tuple = (23, 45, 67, 78, 89, 90, 34, 56)\n",
    "\n",
    "# Reverse the tuple by converting it to a list, reversing the list, and converting back to a tuple\n",
    "reversed_tuple = tuple(my_tuple[::-1])\n",
    "\n",
    "# Print the original and reversed tuples\n",
    "print(f\"Before Reverse : {my_tuple}\")\n",
    "print(f\"After Reverse : {reversed_tuple}\")\n"
   ]
  },
  {
   "cell_type": "code",
   "execution_count": 22,
   "id": "4980f3d1-c8cc-44a2-9be5-6d377ac50abb",
   "metadata": {},
   "outputs": [
    {
     "name": "stdout",
     "output_type": "stream",
     "text": [
      "{'Name': ['Ram', 'Pooja'], 'Age': [21, 23], 'Gender': ['Male', 'Female']}\n"
     ]
    }
   ],
   "source": [
    "# Write a Python program to convert a list of tuples into a dictionary\n",
    "# Sample Output\n",
    "# [ (\"Name\", \"Ram\"), (\"Name\", \"Pooja\"), (\"Age\", 21), (\"Gender\", \"Male\"), (\"Age\", 23), (\"Gender\",\n",
    "# \"Female\") ]\n",
    "# { 'Name' : ['Ram', 'Pooja'], 'Age' : [21, 23], 'Gender' : ['Male', 'Female'] }\n",
    "\n",
    "def convert_list_to_dict(list_of_tuples):\n",
    "  \"\"\"\n",
    "  This function converts a list of tuples into a dictionary, handling duplicate keys.\n",
    "\n",
    "  Args:\n",
    "      list_of_tuples (list): A list of tuples where the first element is the key and the second is the value.\n",
    "\n",
    "  Returns:\n",
    "      dict: A dictionary with the keys and corresponding lists of values.\n",
    "  \"\"\"\n",
    "  my_dict = {}\n",
    "  for key, value in list_of_tuples:\n",
    "    if key in my_dict:\n",
    "      # Append value to the existing list for duplicate keys\n",
    "      my_dict[key].append(value)\n",
    "    else:\n",
    "      # Create a new list for the first occurrence of a key\n",
    "      my_dict[key] = [value]\n",
    "  return my_dict\n",
    "\n",
    "# Create a sample list of tuples\n",
    "my_list = [(\"Name\", \"Ram\"), (\"Name\", \"Pooja\"), (\"Age\", 21), (\"Gender\", \"Male\"), (\"Age\", 23), (\"Gender\", \"Female\")]\n",
    "\n",
    "# Convert the list of tuples to a dictionary\n",
    "my_dict = convert_list_to_dict(my_list)\n",
    "\n",
    "# Print the result\n",
    "print(my_dict)\n"
   ]
  },
  {
   "cell_type": "code",
   "execution_count": 23,
   "id": "39d32f79-93ca-4e4c-8fb1-83656f58fb74",
   "metadata": {},
   "outputs": [
    {
     "name": "stdout",
     "output_type": "stream",
     "text": [
      "Fruits ('watermelons', 'strawberries', 'mangoes', 'bananas', 'grapefruits', 'oranges', 'apples', 'pears')\n"
     ]
    }
   ],
   "source": [
    "# . Write a Python program to print a tuple with string formatting\n",
    "# Sample Output\n",
    "# (\"watermelons\", \"strawberries\", \"mangoes\", \"bananas\", \"grapefruits\", \"oranges\", \"apples\",\n",
    "# \"pears\")\n",
    "# Fruits ('watermelons', 'strawberries', 'mangoes', 'bananas', 'grapefruits', 'oranges', 'apples',\n",
    "# 'pears')\n",
    "fruits = (\"watermelons\", \"strawberries\", \"mangoes\", \"bananas\", \"grapefruits\", \"oranges\", \"apples\", \"pears\")\n",
    "\n",
    "# Use the format method with positional arguments\n",
    "formatted_string = \"Fruits {}\".format(fruits)\n",
    "\n",
    "print(formatted_string)\n",
    "\n"
   ]
  },
  {
   "cell_type": "code",
   "execution_count": 24,
   "id": "d6708b84-6804-4561-bd8c-1178da0cb806",
   "metadata": {},
   "outputs": [
    {
     "name": "stdout",
     "output_type": "stream",
     "text": [
      "Item = 23\n",
      "Type = <class 'tuple'>\n"
     ]
    }
   ],
   "source": [
    "# . Create a tuple with single item 23\n",
    "# Sample Output\n",
    "# Create a tuple with Item = 23\n",
    "# Type = tuple\n",
    "\n",
    "my_tuple = (23,)\n",
    "\n",
    "# Print information about the tuple\n",
    "print(f\"Item = {23}\")\n",
    "print(f\"Type = {type(my_tuple)}\")\n"
   ]
  },
  {
   "cell_type": "code",
   "execution_count": 25,
   "id": "36c8bd82-c2a6-4878-bc7e-8d18f1d6b453",
   "metadata": {},
   "outputs": [
    {
     "name": "stdout",
     "output_type": "stream",
     "text": [
      "11 22 333 44 55\n"
     ]
    }
   ],
   "source": [
    "# . Unpack the tuple into 5 variables\n",
    "# Sample Output\n",
    "# Tuple = (11, 22, 333, 44, 55)\n",
    "# 11\n",
    "# 22\n",
    "# 33\n",
    "# 44\n",
    "# 55\n",
    "\n",
    "# Create a sample tuple\n",
    "my_tuple = (11, 22, 333, 44, 55)\n",
    "\n",
    "# Unpack the tuple into variables\n",
    "var1, var2, var3, var4, var5 = my_tuple\n",
    "\n",
    "# Print the unpacked variables\n",
    "print(var1, var2, var3, var4, var5)\n"
   ]
  },
  {
   "cell_type": "code",
   "execution_count": 26,
   "id": "f7da41f5-2c51-4d24-b713-6c1ef44f672c",
   "metadata": {},
   "outputs": [
    {
     "name": "stdout",
     "output_type": "stream",
     "text": [
      "Before Swap A : 10\n",
      "Before Swap B : 20\n",
      "After Swap A : 20\n",
      "After Swap B : 10\n"
     ]
    }
   ],
   "source": [
    "# 23. Swap two tuples in Python\n",
    "# Sample Output\n",
    "# Before Swap A : 10\n",
    "# Before Swap B : 20\n",
    "# After Swap A : 20\n",
    "# After Swap B : 10\n",
    "\n",
    "def swap_tuples(tuple_a, tuple_b):\n",
    "  \"\"\"\n",
    "  This function swaps the contents of two tuples without using temporary variables.\n",
    "\n",
    "  Args:\n",
    "      tuple_a (tuple): The first tuple.\n",
    "      tuple_b (tuple): The second tuple.\n",
    "\n",
    "  Returns:\n",
    "      tuple, tuple: The swapped tuples.\n",
    "  \"\"\"\n",
    "  # Swap using tuple unpacking (works because the return statement creates a new tuple)\n",
    "  return tuple_b, tuple_a\n",
    "\n",
    "# Create sample tuples\n",
    "tuple_a = (10,)  # Single-element tuple for clarity\n",
    "tuple_b = (20,)\n",
    "\n",
    "# Print before swap\n",
    "print(f\"Before Swap A : {tuple_a[0]}\")  # Access element of single-element tuple\n",
    "print(f\"Before Swap B : {tuple_b[0]}\")\n",
    "\n",
    "# Swap the tuples using the function\n",
    "swapped_a, swapped_b = swap_tuples(tuple_a, tuple_b)\n",
    "\n",
    "# Print after swap\n",
    "print(f\"After Swap A : {swapped_a[0]}\")\n",
    "print(f\"After Swap B : {swapped_b[0]}\")\n",
    "\n"
   ]
  },
  {
   "cell_type": "code",
   "execution_count": 27,
   "id": "6806dce7-3244-4315-b3b3-f60c0254ff12",
   "metadata": {},
   "outputs": [
    {
     "name": "stdout",
     "output_type": "stream",
     "text": [
      "Original tuple: (10, 20, 30, 40, 50, 60, 70, 80, 90, 100)\n",
      "Sliced tuple: (30, 40, 50, 60, 70, 80)\n"
     ]
    }
   ],
   "source": [
    "#  Copy specific elements from one tuple to a new tuple\n",
    "# Sample Output\n",
    "# (10, 20, 30, 40, 50, 60, 70, 80, 90, 100)\n",
    "# (30, 40, 50, 60, 70, 80)\n",
    "\n",
    "# Create a sample tuple\n",
    "my_tuple = (10, 20, 30, 40, 50, 60, 70, 80, 90, 100)\n",
    "\n",
    "# Define starting and ending indices for copying (inclusive)\n",
    "start_index = 2  # Index 2 (value 30)\n",
    "end_index = 7  # Index 7 (value 80)\n",
    "\n",
    "# Create a new tuple with the sliced elements\n",
    "sliced_tuple = my_tuple[start_index:end_index + 1]  # Include the end index element\n",
    "\n",
    "# Print the original and sliced tuples\n",
    "print(f\"Original tuple: {my_tuple}\")\n",
    "print(f\"Sliced tuple: {sliced_tuple}\")\n"
   ]
  },
  {
   "cell_type": "code",
   "execution_count": 28,
   "id": "d1c75b76-c6fb-42cf-839d-9986c0ca618e",
   "metadata": {},
   "outputs": [
    {
     "name": "stdout",
     "output_type": "stream",
     "text": [
      "Original tuple: (10, 20, 30, 40, 50)\n",
      "Modified tuple: (10, 20, 33, 40, 50)\n"
     ]
    }
   ],
   "source": [
    "# Modify the tuple\n",
    "# Sample Output\n",
    "# ( 10, 20, 30, 40, 50 )\n",
    "# ( 10, 20, 33, 40, 50 )\n",
    "\n",
    "# Original tuple\n",
    "my_tuple = (10, 20, 30, 40, 50)\n",
    "\n",
    "# Create a new tuple with the modification\n",
    "modified_tuple = my_tuple[:2] + (33,) + my_tuple[3:]\n",
    "\n",
    "# Print the original and modified tuples\n",
    "print(f\"Original tuple: {my_tuple}\")\n",
    "print(f\"Modified tuple: {modified_tuple}\")\n"
   ]
  },
  {
   "cell_type": "code",
   "execution_count": 29,
   "id": "9b500dbe-ec5a-4745-b7f3-4fb35ebbc649",
   "metadata": {},
   "outputs": [
    {
     "name": "stdout",
     "output_type": "stream",
     "text": [
      "Original tuple: (('a', 53), ('b', 37), ('c', 23), ('d', 1), ('e', 18))\n",
      "Sorted by 2nd item: [('d', 1), ('e', 18), ('c', 23), ('b', 37), ('a', 53)]\n"
     ]
    }
   ],
   "source": [
    "# Sort a tuple of tuples by 2nd item\n",
    "# Sample Output\n",
    "# ( ('a', 53), ('b', 37), ('c', 23), ('d', 1), ('e', 18) )\n",
    "# ( ('d', 1), ('e', 18), ('c', 23), ('b', 37), ('a', 53) )\n",
    "\n",
    "# Create a sample tuple of tuples\n",
    "my_tuple = (('a', 53), ('b', 37), ('c', 23), ('d', 1), ('e', 18))\n",
    "\n",
    "# Sort the tuple using sorted() with a key function\n",
    "sorted_tuple = sorted(my_tuple, key=lambda x: x[1])\n",
    "\n",
    "# Print the original and sorted tuples\n",
    "print(f\"Original tuple: {my_tuple}\")\n",
    "print(f\"Sorted by 2nd item: {sorted_tuple}\")\n"
   ]
  },
  {
   "cell_type": "code",
   "execution_count": 30,
   "id": "1e2c17ca-19d7-46b2-9e60-e28efe871561",
   "metadata": {},
   "outputs": [
    {
     "name": "stdout",
     "output_type": "stream",
     "text": [
      "Number of Counts 30 : 3\n"
     ]
    }
   ],
   "source": [
    "# Counts the number of occurrences of item 30 from a tuple\n",
    "# Sample Output\n",
    "# (30, 50, 10, 30, 70, 50, 30)\n",
    "# Number of Counts 30 : 3\n",
    "\n",
    "# Create a sample tuple\n",
    "my_tuple = (30, 50, 10, 30, 70, 50, 30)\n",
    "\n",
    "# Count the occurrences of item 30 using the count() method\n",
    "count_30 = my_tuple.count(30)\n",
    "\n",
    "# Print the result\n",
    "print(f\"Number of Counts 30 : {count_30}\")\n"
   ]
  },
  {
   "cell_type": "code",
   "execution_count": 31,
   "id": "4cd922dd-1536-4306-822b-dba251bc5861",
   "metadata": {},
   "outputs": [
    {
     "ename": "SyntaxError",
     "evalue": "invalid syntax (3160148074.py, line 13)",
     "output_type": "error",
     "traceback": [
      "\u001b[1;36m  Cell \u001b[1;32mIn[31], line 13\u001b[1;36m\u001b[0m\n\u001b[1;33m    Sum of Elements = (12, 21, 18)\u001b[0m\n\u001b[1;37m        ^\u001b[0m\n\u001b[1;31mSyntaxError\u001b[0m\u001b[1;31m:\u001b[0m invalid syntax\n"
     ]
    }
   ],
   "source": [
    "# Write a Python program to compute element-wise sum of given tuples\n",
    "# Sample Output\n",
    "# A = (2, 5, 8)\n",
    "# B = (6, 5, 1)\n",
    "# C = (1, 4, 7)\n",
    "# D = (3, 7, 2)\n",
    "# Sum of Elements = (12, 21, 18)\n",
    "\n",
    "\n"
   ]
  },
  {
   "cell_type": "code",
   "execution_count": 32,
   "id": "06ee5dd7-a0b1-4d2c-81aa-0c4e58dffa37",
   "metadata": {},
   "outputs": [
    {
     "name": "stdout",
     "output_type": "stream",
     "text": [
      "A = (2, 5, 8)\n",
      "B = (6, 5, 1)\n",
      "C = (1, 4, 7)\n",
      "D = (3, 7, 2)\n",
      "Sum of Elements = (12, 21, 18)\n"
     ]
    }
   ],
   "source": [
    "def element_wise_sum(tuple_a, tuple_b, *other_tuples):\n",
    "  \"\"\"\n",
    "  This function computes the element-wise sum of given tuples.\n",
    "\n",
    "  Args:\n",
    "      tuple_a (tuple): The first tuple.\n",
    "      tuple_b (tuple): The second tuple.\n",
    "      *other_tuples: Zero or more additional tuples.\n",
    "\n",
    "  Returns:\n",
    "      tuple: A tuple containing the element-wise sum.\n",
    "  \"\"\"\n",
    "\n",
    "  # Check if all tuples have the same length\n",
    "  if not all(len(t) == len(tuple_a) for t in (tuple_b, *other_tuples)):\n",
    "    raise ValueError(\"Tuples must have the same length\")\n",
    "\n",
    "  # Use zip() to iterate through corresponding elements and sum them\n",
    "  sum_of_elements = tuple(map(sum, zip(tuple_a, tuple_b, *other_tuples)))\n",
    "\n",
    "  return sum_of_elements\n",
    "\n",
    "# Create sample tuples\n",
    "tuple_a = (2, 5, 8)\n",
    "tuple_b = (6, 5, 1)\n",
    "tuple_c = (1, 4, 7)\n",
    "tuple_d = (3, 7, 2)\n",
    "\n",
    "# Compute element-wise sum\n",
    "sum_of_elements = element_wise_sum(tuple_a, tuple_b, tuple_c, tuple_d)\n",
    "\n",
    "# Print the results\n",
    "print(\"A =\", tuple_a)\n",
    "print(\"B =\", tuple_b)\n",
    "print(\"C =\", tuple_c)\n",
    "print(\"D =\", tuple_d)\n",
    "print(\"Sum of Elements =\", sum_of_elements)\n"
   ]
  },
  {
   "cell_type": "code",
   "execution_count": 33,
   "id": "1171d70b-a3de-42e5-ba0e-2e2d8bf87d0a",
   "metadata": {},
   "outputs": [
    {
     "name": "stdout",
     "output_type": "stream",
     "text": [
      "Original list:\n",
      "[('Ram', '89.20'), ('Siva', '76.45'), ('Pooja', '84.40'), ('Tara', '68.43'), ('Jeeva', '91.40')]\n",
      "\n",
      "Sorted by float element (descending):\n",
      "[('Jeeva', '91.40'), ('Ram', '89.20'), ('Pooja', '84.40'), ('Siva', '76.45'), ('Tara', '68.43')]\n"
     ]
    }
   ],
   "source": [
    "# Write a Python program to sort a tuple by its float element\n",
    "# Sample Output\n",
    "# [ ('Ram', '89.20'), ('Siva', '76.45'), ('Pooja', '84.40'), ('Tara', '68.43'), ('Jeeva', '91.40') ]\n",
    "# [ ('Jeeva', '91.40'), ('Ram', '89.20'), ('Pooja', '84.40'), ('Siva', '76.45'), ('Tara', '68.43') ]\n",
    "# 3\n",
    "# Create a sample tuple of tuples\n",
    "my_tuple = [('Ram', '89.20'), ('Siva', '76.45'), ('Pooja', '84.40'), ('Tara', '68.43'), ('Jeeva', '91.40')]\n",
    "\n",
    "# Sort the list by the second element (float) in descending order using sorted() with key and reverse=True\n",
    "sorted_tuple = sorted(my_tuple, key=lambda x: float(x[1]), reverse=True)  \n",
    "\n",
    "# Print the original and sorted tuples\n",
    "print(\"Original list:\")\n",
    "print(my_tuple)\n",
    "print(\"\\nSorted by float element (descending):\")\n",
    "print(sorted_tuple)\n",
    "\n"
   ]
  },
  {
   "cell_type": "code",
   "execution_count": 34,
   "id": "6d95503c-ca17-4882-bec8-1a8c982bd699",
   "metadata": {},
   "outputs": [
    {
     "name": "stdout",
     "output_type": "stream",
     "text": [
      "Original list: [(5, 2, 3), (4, 7, 6), (8, 9, 6)]\n",
      "List with last value replaced by 10: [(5, 2, 10), (4, 7, 10), (8, 9, 10)]\n"
     ]
    }
   ],
   "source": [
    "# Write a Python program to replace last value of tuples in a list\n",
    "# Sample Output\n",
    "# [(5, 2, 3), (4, 7, 6), (8, 9, 6)]\n",
    "# Replace value = 10\n",
    "# [(5, 2, 10),(4, 7, 10),(8, 9, 10)]\n",
    "def replace_last_value(list_of_tuples, replacement_value):\n",
    "  \"\"\"\n",
    "  This function replaces the last value of each tuple in a list with a new value.\n",
    "\n",
    "  Args:\n",
    "      list_of_tuples (list): A list of tuples.\n",
    "      replacement_value: The value to replace the last element with.\n",
    "\n",
    "  Returns:\n",
    "      list: A new list with the modified tuples.\n",
    "  \"\"\"\n",
    "  # Create a new list to store the modified tuples\n",
    "  modified_list = []\n",
    "\n",
    "  for t in list_of_tuples:\n",
    "    # Create a new tuple with all elements except the last\n",
    "    modified_tuple = t[:-1]\n",
    "    # Concatenate the modified tuple with the replacement value\n",
    "    modified_tuple = modified_tuple + (replacement_value,)\n",
    "    # Append the modified tuple to the new list\n",
    "    modified_list.append(modified_tuple)\n",
    "\n",
    "  return modified_list\n",
    "\n",
    "# Sample list of tuples\n",
    "my_list = [(5, 2, 3), (4, 7, 6), (8, 9, 6)]\n",
    "replacement_value = 10\n",
    "\n",
    "# Replace the last value in each tuple\n",
    "modified_list = replace_last_value(my_list, replacement_value)\n",
    "\n",
    "# Print the original and modified lists\n",
    "print(\"Original list:\", my_list)\n",
    "print(\"List with last value replaced by 10:\", modified_list)\n",
    "\n"
   ]
  },
  {
   "cell_type": "code",
   "execution_count": 35,
   "id": "e2325341-a77e-41ef-a4e1-dd6e49da41b0",
   "metadata": {},
   "outputs": [
    {
     "name": "stdout",
     "output_type": "stream",
     "text": [
      "Original data: [(47, 23), (3, 78), (22, 53), (121, 45), (7,), (1,)]\n",
      "Tuples with 2-digit elements: [(47, 23), (22, 53)]\n"
     ]
    }
   ],
   "source": [
    "# Write a Python program to Extract tuples having K digit elements\n",
    "# Sample Output\n",
    "# [ (47, 23), (3, 78), (22, 53), (121, 45), (7,) ]\n",
    "# K = 2\n",
    "# [ (47, 23), (22, 53) ]\n",
    "\n",
    "def extract_k_digit_tuples(my_data, k):\n",
    "  \"\"\"\n",
    "  This function extracts tuples from a list where each element in the tuple has the specified number of digits (k).\n",
    "\n",
    "  Args:\n",
    "      my_data (list): A list of tuples.\n",
    "      k (int): The desired number of digits for each element.\n",
    "\n",
    "  Returns:\n",
    "      list: A new list containing the extracted tuples.\n",
    "  \"\"\"\n",
    "\n",
    "  # Use list comprehension for concise filtering\n",
    "  return [t for t in my_data if all(len(str(x)) == k for x in t)]\n",
    "\n",
    "# Sample data\n",
    "my_data = [(47, 23), (3, 78), (22, 53), (121, 45), (7,), (1,)]\n",
    "\n",
    "# Define the desired number of digits (K)\n",
    "k = 2\n",
    "\n",
    "# Extract tuples with K-digit elements using the function\n",
    "filtered_tuples = extract_k_digit_tuples(my_data, k)\n",
    "\n",
    "# Print the original and filtered data\n",
    "print(\"Original data:\", my_data)\n",
    "print(f\"Tuples with {k}-digit elements:\", filtered_tuples)\n"
   ]
  },
  {
   "cell_type": "code",
   "execution_count": 37,
   "id": "5fcb66b6-6515-41b0-a1dd-aa883649a579",
   "metadata": {},
   "outputs": [
    {
     "name": "stdout",
     "output_type": "stream",
     "text": [
      "Symmetric tuples (set): {(18, 23), (2, 10), (9, 2), (2, 9), (6, 7), (7, 6), (23, 18), (10, 2)}\n"
     ]
    }
   ],
   "source": [
    "# Write a Python program to Extract Symmetric Tuples\n",
    "# Sample Output\n",
    "# [ (18, 23), (2, 9), (7, 6), (9, 2), (10, 2), (23, 18) ]\n",
    "# { (2, 9), (18, 23) }\n",
    "\n",
    "def extract_symmetric_tuples_set(my_list):\n",
    "  \"\"\"\n",
    "  This function extracts symmetric tuples using set operations.\n",
    "\n",
    "  Args:\n",
    "      my_list (list): A list of tuples.\n",
    "\n",
    "  Returns:\n",
    "      set: A set containing the unique symmetric tuples.\n",
    "  \"\"\"\n",
    "  # Create a set to store unique tuples (including reversed versions)\n",
    "  temp_set = set()\n",
    "  # Create a set to store unique symmetric tuples (without duplicates)\n",
    "  symmetric_tuples = set()\n",
    "\n",
    "  # Add tuples and their reversed versions to the temporary set\n",
    "  for tpl in my_list:\n",
    "    temp_set.add(tpl)\n",
    "    temp_set.add(tpl[::-1])  # Add reversed tuple\n",
    "\n",
    "  # Extract symmetric tuples (elements present in both sets)\n",
    "  for tpl in temp_set:\n",
    "    if tpl in temp_set and tpl[::-1] in temp_set and tpl != tpl[::-1]:\n",
    "      symmetric_tuples.add(tpl)\n",
    "\n",
    "  return symmetric_tuples\n",
    "\n",
    "# Sample data (same as previous)\n",
    "my_list = [(18, 23), (2, 9), (7, 6), (9, 2), (10, 2), (23, 18)]\n",
    "\n",
    "# Extract symmetric tuples\n",
    "symmetric_tuples = extract_symmetric_tuples_set(my_list)\n",
    "\n",
    "# Print the result (set automatically removes duplicates)\n",
    "print(\"Symmetric tuples (set):\", symmetric_tuples)\n"
   ]
  },
  {
   "cell_type": "code",
   "execution_count": 38,
   "id": "a5647ead-6fc0-4266-927c-192612f46eca",
   "metadata": {},
   "outputs": [
    {
     "name": "stdout",
     "output_type": "stream",
     "text": [
      "Original list: [(4, 5, 5, 7), (1, 3, 7, 4), (19, 4, 5, 3), (1, 2)]\n",
      "Sorted by maximum element: [(1, 2), (4, 5, 5, 7), (1, 3, 7, 4), (19, 4, 5, 3)]\n"
     ]
    }
   ],
   "source": [
    "# Write a Python program to Sort Tuples by their Maximum element\n",
    "# Sample Output\n",
    "# [ (4, 5, 5, 7), (1, 3, 7, 4), (19, 4, 5, 3), (1, 2) ]\n",
    "# [ (19, 4, 5, 3), (4, 5, 5, 7), (1, 3, 7, 4), (1, 2) ]\n",
    "\n",
    "def sort_by_max(my_list):\n",
    "  \"\"\"\n",
    "  This function sorts a list of tuples by their maximum element.\n",
    "\n",
    "  Args:\n",
    "      my_list (list): A list of tuples.\n",
    "\n",
    "  Returns:\n",
    "      list: A new list containing the sorted tuples.\n",
    "  \"\"\"\n",
    "\n",
    "  # Use sorted() with a key function based on the maximum element\n",
    "  return sorted(my_list, key=lambda x: max(x))\n",
    "\n",
    "# Sample data\n",
    "my_list = [(4, 5, 5, 7), (1, 3, 7, 4), (19, 4, 5, 3), (1, 2)]\n",
    "\n",
    "# Sort the tuples by their maximum element\n",
    "sorted_tuples = sort_by_max(my_list.copy())  # Copy to avoid modifying original list\n",
    "\n",
    "# Print the original and sorted lists\n",
    "print(\"Original list:\", my_list)\n",
    "print(\"Sorted by maximum element:\", sorted_tuples)\n"
   ]
  },
  {
   "cell_type": "code",
   "execution_count": 39,
   "id": "07d4e4b8-794c-44bb-b849-498a67965b50",
   "metadata": {},
   "outputs": [
    {
     "name": "stdout",
     "output_type": "stream",
     "text": [
      "Original tuple: (10, 20, (30,), 40, (50, 60), 70)\n",
      "Removal of Nested Tuple: (10, 20, (30,), 40, (50, 60), 70)\n"
     ]
    }
   ],
   "source": [
    "# Write a Python program to Remove nested records from tuple\n",
    "# Sample Output\n",
    "# (10, 20, (30,), 40, (50, 60), 70)\n",
    "# Removal of Nested Tuple : (10, 20, 40, 70)\n",
    "\n",
    "def remove_nested(my_tuple):\n",
    "  \"\"\"\n",
    "  This function removes nested tuples from a tuple.\n",
    "\n",
    "  Args:\n",
    "      my_tuple (tuple): The input tuple.\n",
    "\n",
    "  Returns:\n",
    "      tuple: A new tuple with nested records removed.\n",
    "  \"\"\"\n",
    "\n",
    "  # Use recursion to handle nested structures effectively\n",
    "  def flatten(element):\n",
    "    if isinstance(element, tuple) and not all(isinstance(item, tuple) for item in element):\n",
    "      # If it's a tuple containing non-tuples, unpack and flatten\n",
    "      return (*element,)\n",
    "    elif isinstance(element, tuple):\n",
    "      # If it's a nested tuple, flatten its elements recursively\n",
    "      return sum(map(flatten, element), ())\n",
    "    else:\n",
    "      # If it's not a tuple, return the element as is\n",
    "      return element\n",
    "\n",
    "  # Apply flattening to the input tuple\n",
    "  return flatten(my_tuple)\n",
    "\n",
    "# Sample tuple\n",
    "my_tuple = (10, 20, (30,), 40, (50, 60), 70)\n",
    "\n",
    "# Remove nested records\n",
    "result_tuple = remove_nested(my_tuple)\n",
    "\n",
    "# Print the original and modified tuples\n",
    "print(\"Original tuple:\", my_tuple)\n",
    "print(\"Removal of Nested Tuple:\", result_tuple)\n",
    "\n"
   ]
  },
  {
   "cell_type": "code",
   "execution_count": 40,
   "id": "c77359f6-2638-4f57-97ef-b05d374987a8",
   "metadata": {},
   "outputs": [
    {
     "name": "stdout",
     "output_type": "stream",
     "text": [
      "Elements Frequency : defaultdict(<class 'int'>, {10: 2, 20: 2, 30: 1, 40: 1, 50: 1, 60: 2, 70: 1})\n"
     ]
    }
   ],
   "source": [
    "# 35. Write a Python program to Elements Frequency in Mixed Nested Tuple\n",
    "# Sample Output\n",
    "# (10, 20, (20, 10), 30, (40, 50, 60), 60, 70)\n",
    "# Elements Frequency : {10: 2, 20: 2, 30: 1, 40: 1, 50: 1, 60: 2, 70: 1}\n",
    "\n",
    "from collections import defaultdict\n",
    "\n",
    "def count_element_frequency(data):\n",
    "  \"\"\"\n",
    "  This function counts the frequency of elements in a mixed nested tuple.\n",
    "\n",
    "  Args:\n",
    "      data: The input data, which can be a tuple or a nested tuple.\n",
    "\n",
    "  Returns:\n",
    "      dict: A dictionary containing the element frequencies.\n",
    "  \"\"\"\n",
    "\n",
    "  # Use defaultdict for efficient counting with default value of 0\n",
    "  freq_dict = defaultdict(int)\n",
    "\n",
    "  def count_elements(element):\n",
    "    \"\"\"\n",
    "    Helper function to recursively traverse and count elements.\n",
    "    \"\"\"\n",
    "    if isinstance(element, tuple):\n",
    "      # If it's a tuple, recursively count elements within it\n",
    "      for item in element:\n",
    "        count_elements(item)\n",
    "    else:\n",
    "      # If it's not a tuple, increment the count for that element\n",
    "      freq_dict[element] += 1\n",
    "\n",
    "  # Start counting elements from the input data\n",
    "  count_elements(data)\n",
    "\n",
    "  return freq_dict\n",
    "\n",
    "# Sample mixed nested tuple\n",
    "my_data = (10, 20, (20, 10), 30, (40, 50, 60), 60, 70)\n",
    "\n",
    "# Count element frequencies\n",
    "element_frequencies = count_element_frequency(my_data)\n",
    "\n",
    "# Print the result\n",
    "print(\"Elements Frequency :\", element_frequencies)\n",
    "\n"
   ]
  },
  {
   "cell_type": "code",
   "execution_count": 41,
   "id": "2310a341-6359-4897-872e-fd98e36492a0",
   "metadata": {},
   "outputs": [
    {
     "name": "stdout",
     "output_type": "stream",
     "text": [
      "Unique Element in Nested Tuples : {1, 2, 3, 4, 5, 6, 7, 9, 10}\n"
     ]
    }
   ],
   "source": [
    "#  Write a Python program to get unique elements in nested tuple\n",
    "# Sample Output\n",
    "# [ (1, 3, 5), (4, 5, 7), (1, 2, 6), (10, 9), (10,) ]\n",
    "# Unique Element in Nested Tuples : [1, 3, 5, 4, 7, 2, 6, 10, 9]\n",
    "\n",
    "def get_unique_elements(data):\n",
    "  \"\"\"\n",
    "  This function extracts unique elements from a nested tuple.\n",
    "\n",
    "  Args:\n",
    "      data: The input data, which can be a tuple or a nested tuple.\n",
    "\n",
    "  Returns:\n",
    "      set: A set containing the unique elements.\n",
    "  \"\"\"\n",
    "\n",
    "  # Use a set to efficiently store unique elements\n",
    "  unique_elements = set()\n",
    "\n",
    "  def extract_elements(element):\n",
    "    \"\"\"\n",
    "    Helper function to recursively traverse and extract elements.\n",
    "    \"\"\"\n",
    "    if isinstance(element, tuple):\n",
    "      # If it's a tuple, recursively extract elements from it\n",
    "      for item in element:\n",
    "        extract_elements(item)\n",
    "    else:\n",
    "      # If it's not a tuple, add the element to the set (if unique)\n",
    "      unique_elements.add(element)\n",
    "\n",
    "  # Start extracting elements from the input data\n",
    "  extract_elements(data)\n",
    "\n",
    "  return unique_elements\n",
    "\n",
    "# Sample nested tuple\n",
    "my_data = ((1, 3, 5), (4, 5, 7), (1, 2, 6), (10, 9), (10,))\n",
    "\n",
    "# Get unique elements\n",
    "unique_elements = get_unique_elements(my_data)\n",
    "\n",
    "# Print the result\n",
    "print(\"Unique Element in Nested Tuples :\", unique_elements)\n",
    "\n"
   ]
  },
  {
   "cell_type": "code",
   "execution_count": 42,
   "id": "db7ff6c4-51d9-4690-8a1b-489313e125e8",
   "metadata": {},
   "outputs": [
    {
     "name": "stdout",
     "output_type": "stream",
     "text": [
      "Tuple 1 : ((18, 23, 2, 9),)\n",
      "Tuple 2 : ((10, 3, 11),)\n",
      "Tuples after Concatenating : ((18, 23, 2, 9), (10, 3, 11))\n"
     ]
    }
   ],
   "source": [
    "# Write a Python program to Concatenate tuples to nested tuples\n",
    "# Sample Output\n",
    "# Tuple 1 : ((18, 23, 2, 9),)\n",
    "# Tuple 2 : ((10, 3, 11),)\n",
    "# Tuples after Concatenating : ((18, 23, 2, 9), (10, 3, 11))\n",
    "\n",
    "def concatenate_tuples(tuple1, tuple2):\n",
    "  \"\"\"\n",
    "  This function concatenates two tuples into a nested tuple.\n",
    "\n",
    "  Args:\n",
    "      tuple1 (tuple): The first tuple.\n",
    "      tuple2 (tuple): The second tuple.\n",
    "\n",
    "  Returns:\n",
    "      tuple: A new nested tuple containing both input tuples.\n",
    "  \"\"\"\n",
    "\n",
    "  # Create a new tuple to hold the concatenated elements\n",
    "  nested_tuple = (tuple1,) + (tuple2,)\n",
    "\n",
    "  return nested_tuple\n",
    "\n",
    "# Sample tuples\n",
    "tuple1 = (18, 23, 2, 9)\n",
    "tuple2 = (10, 3, 11)\n",
    "\n",
    "# Concatenate the tuples\n",
    "nested_tuple = concatenate_tuples(tuple1, tuple2)\n",
    "\n",
    "# Print the original and concatenated tuples\n",
    "print(\"Tuple 1 :\", (tuple1,))  # Add comma for single-element tuple display\n",
    "print(\"Tuple 2 :\", (tuple2,))  # Add comma for single-element tuple display\n",
    "print(\"Tuples after Concatenating :\", nested_tuple)\n"
   ]
  },
  {
   "cell_type": "code",
   "execution_count": 43,
   "id": "9edc35c1-c0f0-47dd-bf1e-1f5ded2ddf00",
   "metadata": {},
   "outputs": [
    {
     "name": "stdout",
     "output_type": "stream",
     "text": [
      "Original List of tuples : [(2, 7), (3, 7), (2, 5), (8, 7), (6, 5), (9, 8)]\n",
      "Sorted List of tuples : [(9, 8), (6, 5), (2, 5), (8, 7), (3, 7), (2, 7)]\n"
     ]
    }
   ],
   "source": [
    "# Write a Python program to Sort by Frequency of second element in Tuple List\n",
    "# Sample Output\n",
    "# [ (2, 7), (3, 7), (2, 5), (8, 7), (6, 5), (9, 8) ]\n",
    "# Sorted List of tuples : [ (2, 7), (3, 7), (8, 7), (2, 5), (6, 5), (9, 8) ]\n",
    "\n",
    "from collections import Counter\n",
    "\n",
    "def sort_by_second_element_frequency(my_list):\n",
    "  \"\"\"\n",
    "  This function sorts a list of tuples by the frequency of the second element.\n",
    "\n",
    "  Args:\n",
    "      my_list (list): A list of tuples.\n",
    "\n",
    "  Returns:\n",
    "      list: A new list containing the sorted tuples.\n",
    "  \"\"\"\n",
    "\n",
    "  # Count the frequency of second elements\n",
    "  element_counts = Counter(t[1] for t in my_list)\n",
    "\n",
    "  # Define a custom key function for sorting\n",
    "  def sort_key(t):\n",
    "    # Sort based on second element frequency (descending) and then first element\n",
    "    return element_counts[t[1]], -t[0]\n",
    "\n",
    "  # Sort the list using the custom key function\n",
    "  return sorted(my_list, key=sort_key)\n",
    "\n",
    "# Sample list of tuples\n",
    "my_list = [(2, 7), (3, 7), (2, 5), (8, 7), (6, 5), (9, 8)]\n",
    "\n",
    "# Sort the list by frequency of the second element\n",
    "sorted_list = sort_by_second_element_frequency(my_list.copy())  # Copy to avoid modifying original list\n",
    "\n",
    "# Print the original and sorted lists\n",
    "print(\"Original List of tuples :\", my_list)\n",
    "print(\"Sorted List of tuples :\", sorted_list)\n"
   ]
  },
  {
   "cell_type": "code",
   "execution_count": 44,
   "id": "41aac52c-e06c-4c63-9b26-7e3734464d7b",
   "metadata": {},
   "outputs": [
    {
     "name": "stdout",
     "output_type": "stream",
     "text": [
      "Tuple after sorting list : ([10, 50, 60], [20, 30, 80], [40, 70, 100], (90,))\n"
     ]
    }
   ],
   "source": [
    "# Write a Python program to Sort lists in tuple\n",
    "# Sample Output\n",
    "# ( [10, 50, 60], [80, 20, 30], [70, 100, 40], (90,) )\n",
    "# Tuple after sorting list : ( [10, 50, 60], [20, 30, 80], [40, 70, 100], [90] )\n",
    "\n",
    "def sort_lists_in_tuple(my_tuple):\n",
    "  \"\"\"\n",
    "  This function sorts the lists within a tuple.\n",
    "\n",
    "  Args:\n",
    "      my_tuple (tuple): The input tuple.\n",
    "\n",
    "  Returns:\n",
    "      tuple: A new tuple with the lists sorted.\n",
    "  \"\"\"\n",
    "\n",
    "  # Create a new tuple to hold the modified elements\n",
    "  new_tuple = tuple(sorted(item) if isinstance(item, list) else item for item in my_tuple)\n",
    "\n",
    "  return new_tuple\n",
    "\n",
    "# Sample tuple\n",
    "my_tuple = ([10, 50, 60], [80, 20, 30], [70, 100, 40], (90,))\n",
    "\n",
    "# Sort the lists within the tuple\n",
    "sorted_tuple = sort_lists_in_tuple(my_tuple)\n",
    "\n",
    "# Print the original and sorted tuples\n",
    "print(\"Tuple after sorting list :\", sorted_tuple)\n"
   ]
  },
  {
   "cell_type": "code",
   "execution_count": 45,
   "id": "1c7f70f8-5a04-4e19-a254-a135c3d565bf",
   "metadata": {},
   "outputs": [
    {
     "name": "stdout",
     "output_type": "stream",
     "text": [
      "Tuple after sorting list : ([10, 50, 60], [20, 30, 80], [40, 70, 100], (90,))\n"
     ]
    }
   ],
   "source": [
    "# Write a Python program to Order Tuples using external List\n",
    "# Sample Output\n",
    "# [ ('B', 68), ('D', 70), ('A', 67), ('C', 69) ]\n",
    "# Ordered Tuple List : [ ('A', 67), ('B', 68), ('C', 69), ('D', 70) ]\n",
    "\n",
    "\n",
    "def sort_lists_in_tuple(my_tuple):\n",
    "  \"\"\"\n",
    "  This function sorts the lists within a tuple.\n",
    "\n",
    "  Args:\n",
    "      my_tuple (tuple): The input tuple.\n",
    "\n",
    "  Returns:\n",
    "      tuple: A new tuple with the lists sorted.\n",
    "  \"\"\"\n",
    "\n",
    "  # Create a new tuple to hold the modified elements\n",
    "  new_tuple = tuple(sorted(item) if isinstance(item, list) else item for item in my_tuple)\n",
    "\n",
    "  return new_tuple\n",
    "\n",
    "# Sample tuple\n",
    "my_tuple = ([10, 50, 60], [80, 20, 30], [70, 100, 40], (90,))\n",
    "\n",
    "# Sort the lists within the tuple\n",
    "sorted_tuple = sort_lists_in_tuple(my_tuple)\n",
    "\n",
    "# Print the original and sorted tuples\n",
    "print(\"Tuple after sorting list :\", sorted_tuple)\n"
   ]
  },
  {
   "cell_type": "code",
   "execution_count": 46,
   "id": "ff98c3f0-e1be-4661-a0cc-bf31efcca69a",
   "metadata": {},
   "outputs": [
    {
     "name": "stdout",
     "output_type": "stream",
     "text": [
      "Original Tuple List : [('B', 68), ('D', 70), ('A', 67), ('C', 69)]\n",
      "Ordered Tuple List : [('A', 67), ('B', 68), ('C', 69), ('D', 70)]\n"
     ]
    }
   ],
   "source": [
    "# Write a Python program to Filter Tuples by Kth element from List\n",
    "# Sample Output\n",
    "# [ ('B', 68), ('D', 70), ('A', 67), ('C', 69) ]\n",
    "# List of kth elements to filter = [67 , 70 , 71, 75]\n",
    "# Kth element index = 1\n",
    "# Filtered tuples : [('D', 70), ('A', 67)]\n",
    "\n",
    "def order_tuples_by_list(my_tuples, order_list):\n",
    "  \"\"\"\n",
    "  This function orders a list of tuples based on an external order list.\n",
    "\n",
    "  Args:\n",
    "      my_tuples (list): A list of tuples.\n",
    "      order_list (list): A list defining the desired order.\n",
    "\n",
    "  Returns:\n",
    "      list: A new list containing the ordered tuples.\n",
    "  \"\"\"\n",
    "\n",
    "  # Create a dictionary for efficient lookup by key from the order list\n",
    "  order_dict = {key: i for i, key in enumerate(order_list)}\n",
    "\n",
    "  # Use a sorted function with a custom key function\n",
    "  def sort_key(t):\n",
    "    # Get the order index from the dictionary (or length if not found)\n",
    "    return order_dict.get(t[0], len(order_dict))\n",
    "\n",
    "  # Sort the list of tuples based on the order index (or original order)\n",
    "  return sorted(my_tuples, key=sort_key)\n",
    "\n",
    "# Sample data\n",
    "my_tuples = [('B', 68), ('D', 70), ('A', 67), ('C', 69)]\n",
    "order_list = ['A', 'B', 'C', 'D']  # Defines the desired order\n",
    "\n",
    "# Order the tuples based on the external list\n",
    "ordered_tuples = order_tuples_by_list(my_tuples.copy(), order_list)\n",
    "\n",
    "# Print the original and ordered lists\n",
    "print(\"Original Tuple List :\", my_tuples)\n",
    "print(\"Ordered Tuple List :\", ordered_tuples)\n"
   ]
  },
  {
   "cell_type": "code",
   "execution_count": 47,
   "id": "24c27be3-dc47-4bcd-8ad0-20b752e01208",
   "metadata": {},
   "outputs": [
    {
     "name": "stdout",
     "output_type": "stream",
     "text": [
      "Given Tuple = [(23, 18), (9, 2), (2, 3), (9, 18), (23, 2)]\n",
      "Kth Element Index = 1\n",
      "Nearest Tuple : ((9, 2), (2, 3))\n"
     ]
    }
   ],
   "source": [
    "# Write a Python program to Closest Pair to Kth index element in Tuple\n",
    "# Sample Output\n",
    "# [ (23, 18), (9, 2), (2, 3), (9, 18), (23, 2) ]\n",
    "# Given Tuple = (20, 2)\n",
    "# Kth Element Index = 1\n",
    "# Nearest Tuple : (23, 18)\n",
    "\n",
    "def find_closest_pair(my_tuple, k):\n",
    "  \"\"\"\n",
    "  This function finds the closest pair to the Kth element in a tuple.\n",
    "\n",
    "  Args:\n",
    "      my_tuple (tuple): The input tuple.\n",
    "      k (int): The index of the element to find the closest pair for.\n",
    "\n",
    "  Returns:\n",
    "      tuple: The closest pair to the Kth element, or None if k is invalid.\n",
    "  \"\"\"\n",
    "\n",
    "  # Handle edge cases (k out of bounds or empty tuple)\n",
    "  if k < 0 or k >= len(my_tuple) or not my_tuple:\n",
    "    return None\n",
    "\n",
    "  # Calculate distances from the Kth element to all other elements\n",
    "  distances = [abs(my_tuple[k][0] - item[0]) for i, item in enumerate(my_tuple) if i != k]\n",
    "\n",
    "  # Find the index of the minimum distance (closest element)\n",
    "  min_index = distances.index(min(distances))\n",
    "\n",
    "  # Return the closest pair (Kth element and the closest element)\n",
    "  return my_tuple[k], my_tuple[min_index + 1] if min_index < k else my_tuple[min_index]\n",
    "\n",
    "# Sample data\n",
    "my_tuple = [(23, 18), (9, 2), (2, 3), (9, 18), (23, 2)]\n",
    "k = 1  # Kth element index\n",
    "\n",
    "# Find the closest pair\n",
    "closest_pair = find_closest_pair(my_tuple, k)\n",
    "\n",
    "# Print the result\n",
    "if closest_pair:\n",
    "  print(\"Given Tuple =\", my_tuple)\n",
    "  print(\"Kth Element Index =\", k)\n",
    "  print(\"Nearest Tuple :\", closest_pair)\n",
    "else:\n",
    "  print(\"Invalid input: k is out of bounds or tuple is empty.\")\n",
    "\n"
   ]
  },
  {
   "cell_type": "code",
   "execution_count": 48,
   "id": "e31fd1b7-3200-4b7e-bb05-43c7cd3e2b4f",
   "metadata": {},
   "outputs": [
    {
     "name": "stdout",
     "output_type": "stream",
     "text": [
      "List 1 : [(3, 4), (5, 6), (9, 10), (4, 5)]\n",
      "List 2 : [(5, 4), (3, 4), (6, 5), (9, 11)]\n",
      "Intersection : {(4, 5), (5, 6), (3, 4)}\n"
     ]
    }
   ],
   "source": [
    "# Write a Python program to Tuple List intersection (Order irrespective)\n",
    "# Sample Output\n",
    "# List 1 : [ (3, 4), (5, 6), (9, 10), (4, 5) ]\n",
    "# List 2 : [ (5, 4), (3, 4), (6, 5), (9, 11) ]\n",
    "# Intersection : { (4, 5), (5, 6), (3, 4) }\n",
    "\n",
    "def find_intersection(list1, list2):\n",
    "  \"\"\"\n",
    "  This function finds the intersection of elements in two tuple lists.\n",
    "\n",
    "  Args:\n",
    "      list1 (list): The first list of tuples.\n",
    "      list2 (list): The second list of tuples.\n",
    "\n",
    "  Returns:\n",
    "      set: A set containing the intersection elements (unique tuples).\n",
    "  \"\"\"\n",
    "\n",
    "  # Convert lists to sets of frozen tuples for efficient membership checking\n",
    "  # and avoiding mutability issues\n",
    "  set1 = set(frozenset(item) for item in list1)\n",
    "  set2 = set(frozenset(item) for item in list2)\n",
    "\n",
    "  # Intersection is the elements present in both sets\n",
    "  intersection = set1 & set2\n",
    "\n",
    "  # Convert frozen sets back to tuples for the result\n",
    "  return {tuple(item) for item in intersection}\n",
    "\n",
    "# Sample data\n",
    "list1 = [(3, 4), (5, 6), (9, 10), (4, 5)]\n",
    "list2 = [(5, 4), (3, 4), (6, 5), (9, 11)]\n",
    "\n",
    "# Find the intersection\n",
    "intersection = find_intersection(list1, list2)\n",
    "\n",
    "# Print the result\n",
    "print(\"List 1 :\", list1)\n",
    "print(\"List 2 :\", list2)\n",
    "print(\"Intersection :\", intersection)\n"
   ]
  },
  {
   "cell_type": "code",
   "execution_count": 49,
   "id": "2a7bd1a5-0259-4b14-998f-0446f87b2515",
   "metadata": {},
   "outputs": [
    {
     "name": "stdout",
     "output_type": "stream",
     "text": [
      "list 1 : [('A', 65), ('D', 68), ('B', 66)]\n",
      "list 2 : [('D', 68), ('C', 67), ('A', 65)]\n",
      "Intersection of data records : [(65, 'A'), ('D', 68)]\n"
     ]
    }
   ],
   "source": [
    "# Write a Python program to Intersection in Tuple Records Data\n",
    "# Sample Output\n",
    "# list 1 : [ ('A', 65), ('D', 68), ('B', 66) ]\n",
    "# list 2 : [ ('D', 68), ('C', 67), ('A', 65) ]\n",
    "# Intersection of data records : [ ('A', 65), ('D', 68) ]\n",
    "\n",
    "def find_intersection_records(list1, list2):\n",
    "  \"\"\"\n",
    "  This function finds the intersection of elements in two lists of tuples (records).\n",
    "\n",
    "  Args:\n",
    "      list1 (list): The first list of tuples (records).\n",
    "      list2 (list): The second list of tuples (records).\n",
    "\n",
    "  Returns:\n",
    "      list: A list containing the intersection elements (common records).\n",
    "  \"\"\"\n",
    "\n",
    "  # Convert records to sets for efficient membership checking\n",
    "  set1 = {frozenset(item) for item in list1}\n",
    "  set2 = {frozenset(item) for item in list2}\n",
    "\n",
    "  # Intersection is the set of records present in both sets\n",
    "  intersection = set1 & set2\n",
    "\n",
    "  # Convert frozen sets back to tuples for the result\n",
    "  return [tuple(item) for item in intersection]\n",
    "\n",
    "# Sample data\n",
    "list1 = [('A', 65), ('D', 68), ('B', 66)]\n",
    "list2 = [('D', 68), ('C', 67), ('A', 65)]\n",
    "\n",
    "# Find the intersection\n",
    "intersection = find_intersection_records(list1, list2)\n",
    "\n",
    "# Print the result\n",
    "print(\"list 1 :\", list1)\n",
    "print(\"list 2 :\", list2)\n",
    "print(\"Intersection of data records :\", intersection)\n"
   ]
  },
  {
   "cell_type": "code",
   "execution_count": 50,
   "id": "778f3f75-9828-42fb-895c-de89f3ac1f6a",
   "metadata": {},
   "outputs": [
    {
     "name": "stdout",
     "output_type": "stream",
     "text": [
      "Unique tuples Frequency : [frozenset({3, 4}), frozenset({1, 2}), frozenset({5, 6})]\n",
      "Unique tuples Frequency Count : 3\n"
     ]
    }
   ],
   "source": [
    "# Write a Python program to Unique Tuple Frequency (Order Irrespective)\n",
    "# Sample Output\n",
    "# [ (3, 4), (1, 2), (4, 3), (5, 6) ]\n",
    "# Unique tuples Frequency : [(1, 2), (3, 4), (5, 6)]\n",
    "# Unique tuples Frequency Count : 3\n",
    "\n",
    "from collections import Counter\n",
    "\n",
    "def find_unique_tuple_frequency(data):\n",
    "  \"\"\"\n",
    "  This function finds the unique tuples and their frequencies (order irrespective).\n",
    "\n",
    "  Args:\n",
    "      data (list): A list of tuples.\n",
    "\n",
    "  Returns:\n",
    "      tuple: A tuple containing:\n",
    "          - list: A list of unique tuples.\n",
    "          - int: The total number of unique tuples.\n",
    "  \"\"\"\n",
    "\n",
    "  # Count frequencies of frozen sets of tuples (for order irrelevance)\n",
    "  tuple_counts = Counter(frozenset(item) for item in data)\n",
    "\n",
    "  # Extract unique tuples and total count\n",
    "  unique_tuples = list(tuple_counts.keys())\n",
    "  total_unique = len(unique_tuples)\n",
    "\n",
    "  return unique_tuples, total_unique\n",
    "\n",
    "# Sample data\n",
    "data = [(3, 4), (1, 2), (4, 3), (5, 6), (1, 2), (3, 4)]\n",
    "\n",
    "# Find unique tuples and frequency\n",
    "unique_tuples, total_count = find_unique_tuple_frequency(data)\n",
    "\n",
    "# Print the result\n",
    "print(\"Unique tuples Frequency :\", unique_tuples)\n",
    "print(\"Unique tuples Frequency Count :\", total_count)\n"
   ]
  },
  {
   "cell_type": "code",
   "execution_count": 51,
   "id": "16f479b7-dc75-440a-8944-e0a13bf568af",
   "metadata": {},
   "outputs": [
    {
     "name": "stdout",
     "output_type": "stream",
     "text": [
      "Summation of 1st positions : 15\n"
     ]
    }
   ],
   "source": [
    "# Write a Python program to Skew Nested Tuple Summation\n",
    "# Sample Output\n",
    "# (1, (2, (3, (4, (5, None)))))\n",
    "# Summation of 1st positions : 15\n",
    "\n",
    "def sum_first_elements(nested_tuple):\n",
    "  \"\"\"\n",
    "  This function calculates the sum of first elements in a skewed nested tuple, handling None values.\n",
    "\n",
    "  Args:\n",
    "      nested_tuple (tuple): The input skewed nested tuple.\n",
    "\n",
    "  Returns:\n",
    "      int: The sum of first elements in the nested tuple (excluding None values).\n",
    "  \"\"\"\n",
    "\n",
    "  # Initialize a variable to store the sum\n",
    "  total_sum = 0\n",
    "\n",
    "  # Use recursion to traverse the nested tuple\n",
    "  if isinstance(nested_tuple, tuple):\n",
    "    for item in nested_tuple:\n",
    "      if item is not None:  # Skip None values\n",
    "        if isinstance(item, (int, float)):  # Check if it's a number\n",
    "          total_sum += item\n",
    "        else:\n",
    "          total_sum += sum_first_elements(item)  # Recursive call for nested tuples\n",
    "  else:\n",
    "    # Handle cases where the input isn't a tuple or a number\n",
    "    raise TypeError(\"Input must be a nested tuple or a number.\")\n",
    "\n",
    "  return total_sum\n",
    "\n",
    "# Sample nested tuple\n",
    "nested_tuple = (1, (2, (3, (4, (5, None)))))\n",
    "\n",
    "# Calculate the sum of first elements\n",
    "sum_of_first_positions = sum_first_elements(nested_tuple)\n",
    "\n",
    "# Print the result\n",
    "print(\"Summation of 1st positions :\", sum_of_first_positions)\n",
    "\n"
   ]
  },
  {
   "cell_type": "code",
   "execution_count": 52,
   "id": "a3db5248-de88-4d2e-b1e5-05320bee41b0",
   "metadata": {},
   "outputs": [
    {
     "name": "stdout",
     "output_type": "stream",
     "text": [
      "Decimal number is : 10\n"
     ]
    }
   ],
   "source": [
    "# Write a Python program to Convert Binary tuple to Integer\n",
    "# Sample Output\n",
    "# (1, 0, 1, 0)\n",
    "# Decimal number is : 10\n",
    "\n",
    "def binary_tuple_to_decimal(binary_tuple):\n",
    "  \"\"\"\n",
    "  This function converts a binary tuple to its decimal equivalent.\n",
    "\n",
    "  Args:\n",
    "      binary_tuple (tuple): A tuple containing binary digits (0s and 1s).\n",
    "\n",
    "  Returns:\n",
    "      int: The decimal equivalent of the binary tuple.\n",
    "  \"\"\"\n",
    "\n",
    "  # Check if the input is a tuple\n",
    "  if not isinstance(binary_tuple, tuple):\n",
    "    raise TypeError(\"Input must be a tuple.\")\n",
    "\n",
    "  # Check if the tuple elements are valid binary digits (0 or 1)\n",
    "  if not all(item in (0, 1) for item in binary_tuple):\n",
    "    raise ValueError(\"Input tuple elements must be 0 or 1.\")\n",
    "\n",
    "  # Convert the binary tuple to a string for easier manipulation\n",
    "  binary_string = ''.join(str(item) for item in binary_tuple)\n",
    "\n",
    "  # Convert the binary string to a decimal integer using int() with base 2\n",
    "  decimal_value = int(binary_string, 2)\n",
    "\n",
    "  return decimal_value\n",
    "\n",
    "# Sample binary tuple\n",
    "binary_tuple = (1, 0, 1, 0)\n",
    "\n",
    "# Convert to decimal\n",
    "decimal_number = binary_tuple_to_decimal(binary_tuple)\n",
    "\n",
    "# Print the result\n",
    "print(\"Decimal number is :\", decimal_number)\n"
   ]
  },
  {
   "cell_type": "code",
   "execution_count": 53,
   "id": "1d07c905-fb5e-4745-b741-7464ba31d1b3",
   "metadata": {},
   "outputs": [
    {
     "name": "stdout",
     "output_type": "stream",
     "text": [
      "Tuple 1 : (10, 4, 6, 9)\n",
      "Tuple 2 : (5, 2, 3, 3)\n",
      "XOR tuple : (15, 6, 5, 10)\n"
     ]
    }
   ],
   "source": [
    "# Write a Python program to Tuple XOR operation\n",
    "# Sample Output\n",
    "# Tuple 1 : (10, 4, 6, 9)\n",
    "# Tuple 2 : (5, 2, 3, 3)\n",
    "# XOR tuple : (15, 6, 5, 10)\n",
    "\n",
    "def tuple_xor(tuple1, tuple2):\n",
    "  \"\"\"\n",
    "  This function performs the XOR operation on corresponding elements of two tuples.\n",
    "\n",
    "  Args:\n",
    "      tuple1 (tuple): The first input tuple.\n",
    "      tuple2 (tuple): The second input tuple.\n",
    "\n",
    "  Returns:\n",
    "      tuple: A new tuple containing the XOR results.\n",
    "  \"\"\"\n",
    "\n",
    "  # Check if the input is a tuple\n",
    "  if not all(isinstance(item, tuple) for item in (tuple1, tuple2)):\n",
    "    raise TypeError(\"Input must be tuples.\")\n",
    "\n",
    "  # Ensure both tuples have the same length\n",
    "  if len(tuple1) != len(tuple2):\n",
    "    raise ValueError(\"Input tuples must have the same length.\")\n",
    "\n",
    "  # Perform XOR operation on corresponding elements\n",
    "  xor_tuple = tuple(a ^ b for a, b in zip(tuple1, tuple2))\n",
    "\n",
    "  return xor_tuple\n",
    "\n",
    "# Sample tuples\n",
    "tuple1 = (10, 4, 6, 9)\n",
    "tuple2 = (5, 2, 3, 3)\n",
    "\n",
    "# Perform XOR operation\n",
    "xor_tuple = tuple_xor(tuple1, tuple2)\n",
    "\n",
    "# Print the result\n",
    "print(\"Tuple 1 :\", tuple1)\n",
    "print(\"Tuple 2 :\", tuple2)\n",
    "print(\"XOR tuple :\", xor_tuple)\n"
   ]
  },
  {
   "cell_type": "code",
   "execution_count": 54,
   "id": "32206138-b35c-4ba9-9c83-ad35e95f875a",
   "metadata": {},
   "outputs": [
    {
     "name": "stdout",
     "output_type": "stream",
     "text": [
      "Tuple 1 : (10, 4, 6, 9)\n",
      "Tuple 2 : (5, 2, 3, 3)\n",
      "AND operation Between Tuple : (0, 0, 2, 1)\n"
     ]
    }
   ],
   "source": [
    "# Write a Python program to AND operation between Tuples\n",
    "# Sample Output\n",
    "# Tuple 1 : (10, 4, 6, 9)\n",
    "# Tuple 2 : (5, 2, 3, 3)\n",
    "# # AND operation Between Tuple : (0, 0, 2, 1\n",
    "\n",
    "def tuple_and(tuple1, tuple2):\n",
    "  \"\"\"\n",
    "  This function performs the AND operation on corresponding elements of two tuples.\n",
    "\n",
    "  Args:\n",
    "      tuple1 (tuple): The first input tuple.\n",
    "      tuple2 (tuple): The second input tuple.\n",
    "\n",
    "  Returns:\n",
    "      tuple: A new tuple containing the AND results.\n",
    "  \"\"\"\n",
    "\n",
    "  # Check if the input is a tuple\n",
    "  if not all(isinstance(item, tuple) for item in (tuple1, tuple2)):\n",
    "    raise TypeError(\"Input must be tuples.\")\n",
    "\n",
    "  # Ensure both tuples have the same length\n",
    "  if len(tuple1) != len(tuple2):\n",
    "    raise ValueError(\"Input tuples must have the same length.\")\n",
    "\n",
    "  # Perform AND operation on corresponding elements\n",
    "  and_tuple = tuple(a & b for a, b in zip(tuple1, tuple2))\n",
    "\n",
    "  return and_tuple\n",
    "\n",
    "# Sample tuples\n",
    "tuple1 = (10, 4, 6, 9)\n",
    "tuple2 = (5, 2, 3, 3)\n",
    "\n",
    "# Perform AND operation\n",
    "and_tuple = tuple_and(tuple1, tuple2)\n",
    "\n",
    "# Print the result\n",
    "print(\"Tuple 1 :\", tuple1)\n",
    "print(\"Tuple 2 :\", tuple2)\n",
    "print(\"AND operation Between Tuple :\", and_tuple)\n"
   ]
  },
  {
   "cell_type": "code",
   "execution_count": 55,
   "id": "070e1324-784b-4e33-a90a-c0c725931606",
   "metadata": {},
   "outputs": [
    {
     "ename": "SyntaxError",
     "evalue": "invalid syntax (1188226376.py, line 7)",
     "output_type": "error",
     "traceback": [
      "\u001b[1;36m  Cell \u001b[1;32mIn[55], line 7\u001b[1;36m\u001b[0m\n\u001b[1;33m    Write a Python program to Elementwise AND in tuples\u001b[0m\n\u001b[1;37m          ^\u001b[0m\n\u001b[1;31mSyntaxError\u001b[0m\u001b[1;31m:\u001b[0m invalid syntax\n"
     ]
    }
   ],
   "source": [
    "# Write a Python program to Elementwise AND in tuples\n",
    "# Sample Output\n",
    "# Tuple 1 : (10, 4, 6, 9)\n",
    "# Tuple 2 : (5, 2, 3, 3)\n",
    "# Elementwise AND Tuple : (0, 0, 2, 1)\n",
    "\n",
    "Write a Python program to Elementwise AND in tuples\n",
    "Sample Output\n",
    "Tuple 1 : (10, 4, 6, 9)\n",
    "Tuple 2 : (5, 2, 3, 3)\n",
    "Elementwise AND Tuple : (0, 0, 2, 1)"
   ]
  },
  {
   "cell_type": "code",
   "execution_count": 56,
   "id": "07a5f840-efc9-4c7f-91a5-454479613fcf",
   "metadata": {},
   "outputs": [
    {
     "name": "stdout",
     "output_type": "stream",
     "text": [
      "Tuple 1 : (10, 4, 6, 9)\n",
      "Tuple 2 : (5, 2, 3, 3)\n",
      "Elementwise AND Tuple : (0, 0, 2, 1)\n"
     ]
    }
   ],
   "source": [
    "def elementwise_and(tuple1, tuple2):\n",
    "  \"\"\"\n",
    "  This function performs the elementwise AND operation on corresponding elements of two tuples.\n",
    "\n",
    "  Args:\n",
    "      tuple1 (tuple): The first input tuple.\n",
    "      tuple2 (tuple): The second input tuple.\n",
    "\n",
    "  Returns:\n",
    "      tuple: A new tuple containing the AND results.\n",
    "  \"\"\"\n",
    "\n",
    "  # Check if the input is a tuple\n",
    "  if not all(isinstance(item, tuple) for item in (tuple1, tuple2)):\n",
    "    raise TypeError(\"Input must be tuples.\")\n",
    "\n",
    "  # Ensure both tuples have the same length\n",
    "  if len(tuple1) != len(tuple2):\n",
    "    raise ValueError(\"Input tuples must have the same length.\")\n",
    "\n",
    "  # Perform AND operation on corresponding elements\n",
    "  and_tuple = tuple(a & b for a, b in zip(tuple1, tuple2))\n",
    "\n",
    "  return and_tuple\n",
    "\n",
    "# Sample tuples\n",
    "tuple1 = (10, 4, 6, 9)\n",
    "tuple2 = (5, 2, 3, 3)\n",
    "\n",
    "# Perform AND operation\n",
    "and_tuple = elementwise_and(tuple1, tuple2)\n",
    "\n",
    "# Print the result\n",
    "print(\"Tuple 1 :\", tuple1)\n",
    "print(\"Tuple 2 :\", tuple2)\n",
    "print(\"Elementwise AND Tuple :\", and_tuple)\n"
   ]
  },
  {
   "cell_type": "code",
   "execution_count": null,
   "id": "71aca71b-00e8-4e93-83bd-3aaddc961856",
   "metadata": {},
   "outputs": [],
   "source": []
  }
 ],
 "metadata": {
  "kernelspec": {
   "display_name": "Python 3 (ipykernel)",
   "language": "python",
   "name": "python3"
  },
  "language_info": {
   "codemirror_mode": {
    "name": "ipython",
    "version": 3
   },
   "file_extension": ".py",
   "mimetype": "text/x-python",
   "name": "python",
   "nbconvert_exporter": "python",
   "pygments_lexer": "ipython3",
   "version": "3.12.1"
  }
 },
 "nbformat": 4,
 "nbformat_minor": 5
}
