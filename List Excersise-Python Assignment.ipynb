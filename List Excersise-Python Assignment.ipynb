{
 "cells": [
  {
   "cell_type": "code",
   "execution_count": 1,
   "id": "7c5b1050-11bc-4a06-b916-eb6903b4544d",
   "metadata": {},
   "outputs": [
    {
     "name": "stdout",
     "output_type": "stream",
     "text": [
      "Sum all the items = 26\n"
     ]
    }
   ],
   "source": [
    "# 1. Write a Python program to sum all the item\n",
    "\n",
    "s=[1,7,-10,34,2,-8]\n",
    "print(\"Sum all the items =\",sum(s))\n"
   ]
  },
  {
   "cell_type": "code",
   "execution_count": 2,
   "id": "efe0d568-dceb-4a92-a4cc-171ab990b821",
   "metadata": {},
   "outputs": [
    {
     "name": "stdout",
     "output_type": "stream",
     "text": [
      "Multiply all the items in a list : 1680\n"
     ]
    }
   ],
   "source": [
    "#2. Write a Python program to multiply all the items in a list\n",
    "\n",
    "import numpy\n",
    "\n",
    "List=[3,4,5,4,7]\n",
    "result=numpy.prod(List)\n",
    "print(\"Multiply all the items in a list :\",result)"
   ]
  },
  {
   "cell_type": "code",
   "execution_count": 3,
   "id": "9b17edda-317e-4472-9273-1c1f13539c04",
   "metadata": {},
   "outputs": [
    {
     "name": "stdout",
     "output_type": "stream",
     "text": [
      "Largest Number : 34\n"
     ]
    }
   ],
   "source": [
    "#3. Write a Python program to get the largest number from a list\n",
    "\n",
    "List1=[1,7,10,34,2,8]\n",
    "result1=max(List1)\n",
    "print(\"Largest Number :\",result1)"
   ]
  },
  {
   "cell_type": "code",
   "execution_count": 4,
   "id": "36229833-14a6-4ff0-bb6a-19d1c9c348de",
   "metadata": {},
   "outputs": [
    {
     "name": "stdout",
     "output_type": "stream",
     "text": [
      "smallest Number : 2\n"
     ]
    }
   ],
   "source": [
    "#4. Write a Python program to get the smallest number from a list\n",
    "\n",
    "List2=[51,7,10,34,2,8]\n",
    "result2=min(List2)\n",
    "print(\"smallest Number :\",result2)"
   ]
  },
  {
   "cell_type": "code",
   "execution_count": 5,
   "id": "4bbdbff3-d134-49ae-91d5-911f444dc233",
   "metadata": {},
   "outputs": [
    {
     "name": "stdout",
     "output_type": "stream",
     "text": [
      "First and Last Character are same : 2\n"
     ]
    }
   ],
   "source": [
    "#5. Write a Python program to count the number of strings where the string length is 2 or\n",
    "# more and the first and last character are same from a given list of strings\n",
    "\n",
    "def m_word(words):\n",
    "    result=0\n",
    "    for word in words:\n",
    "        if len(word)>1 and word[0] == word[-1]:\n",
    "            result+=1\n",
    "    return result\n",
    "print(\"First and Last Character are same :\",m_word(['abc', 'xyz', 'aba', '1221']))"
   ]
  },
  {
   "cell_type": "code",
   "execution_count": 6,
   "id": "cfdd19d0-b3cf-441f-ade6-fa338b97d420",
   "metadata": {},
   "outputs": [
    {
     "name": "stdout",
     "output_type": "stream",
     "text": [
      "[1, 2, 3, 4, 5, 6, 7, 8]\n"
     ]
    }
   ],
   "source": [
    "#Write a Python program to remove duplicates from a list\n",
    "\n",
    "List3=[1,2,3,7,2,1,5,6,4,8,5,4]\n",
    "print(list(set(List3)))"
   ]
  },
  {
   "cell_type": "code",
   "execution_count": 7,
   "id": "ff6906a6-d32e-41a5-8e4f-57d762e9a1dc",
   "metadata": {},
   "outputs": [
    {
     "name": "stdout",
     "output_type": "stream",
     "text": [
      "list is not empty\n"
     ]
    }
   ],
   "source": [
    "#Write a Python program to check a list is empty or not\n",
    "\n",
    "List4=[34,45,6,5,4,56,7]\n",
    "List5=[]\n",
    "\n",
    "if List4:\n",
    "    print(\"list is not empty\")\n",
    "else:\n",
    "    print(\"list is empty\")"
   ]
  },
  {
   "cell_type": "code",
   "execution_count": 8,
   "id": "0f052ee1-f4a6-4424-9cb1-74de9c8ccddf",
   "metadata": {},
   "outputs": [
    {
     "name": "stdout",
     "output_type": "stream",
     "text": [
      "Original list: [10, 22, 44, 23, 4]\n",
      "Cloned list: [10, 22, 44, 23, 4]\n"
     ]
    }
   ],
   "source": [
    "#8. Write a Python program to clone or copy a list\n",
    "\n",
    "\n",
    "my_list = [10, 22, 44, 23, 4]\n",
    "\n",
    "# Clone the list using slicing\n",
    "cloned_list = my_list[:]  # Colon (:) indicates copy everything\n",
    "\n",
    "# Print the original and cloned list\n",
    "print(f\"Original list: {my_list}\")\n",
    "print(f\"Cloned list: {cloned_list}\")\n"
   ]
  },
  {
   "cell_type": "code",
   "execution_count": 9,
   "id": "8e8b87fd-5c36-4003-902c-13687c4cd786",
   "metadata": {},
   "outputs": [
    {
     "name": "stdout",
     "output_type": "stream",
     "text": [
      "Find the List of Words that are Longer than 4 from a given List of Words\n",
      "Given value of n = 4\n",
      "['sample', 'words', 'varying', 'lengths']\n"
     ]
    }
   ],
   "source": [
    "def find_long_words(word_list, n):\n",
    "    long_words = [word for word in word_list if len(word) > n]\n",
    "    return long_words\n",
    "\n",
    "# Sample list of words\n",
    "words = [\"This\", \"is\", \"a\", \"sample\", \"list\", \"of\", \"words\", \"with\", \"varying\", \"lengths\"]\n",
    "n = 4  # Minimum word length\n",
    "\n",
    "# Find and print long words\n",
    "long_words_list = find_long_words(words, n)\n",
    "print(f\"Find the List of Words that are Longer than {n} from a given List of Words\\nGiven value of n = {n}\")\n",
    "print(long_words_list)"
   ]
  },
  {
   "cell_type": "code",
   "execution_count": 10,
   "id": "6c6c0f1b-1f70-435f-a46f-b8fba26c66ae",
   "metadata": {},
   "outputs": [
    {
     "name": "stdout",
     "output_type": "stream",
     "text": [
      "Lists have at least one common member.\n"
     ]
    }
   ],
   "source": [
    "def have_common_member(list1, list2):\n",
    "\n",
    "    # Iterate through each element in list1\n",
    "  for element1 in list1:\n",
    "    # Iterate through each element in list2\n",
    "    for element2 in list2:\n",
    "      # Check if elements are equal\n",
    "      if element1 == element2:\n",
    "        return True  # Common element found, return True\n",
    "  return False  # No common element found in loops, return False\n",
    "\n",
    "# Sample lists\n",
    "list1 = [1, 2, 3, 4, 5]\n",
    "list2 = [5, 6, 7, 8, 9]\n",
    "\n",
    "# Check for common elements and print result\n",
    "if have_common_member(list1, list2):\n",
    "  print(\"Lists have at least one common member.\")\n",
    "else:\n",
    "  print(\"Lists have no common members.\")\n"
   ]
  },
  {
   "cell_type": "code",
   "execution_count": 11,
   "id": "e780c9cf-0ebc-47cd-bf6d-eb272e8ddcab",
   "metadata": {},
   "outputs": [
    {
     "name": "stdout",
     "output_type": "stream",
     "text": [
      "Original list: ['Cat', 'Dog', 'Elephant', 'Fox', 'Tiger', 'Lion', 'Ponda']\n",
      "List after removing elements at indices 0, 4, and 5: ['Dog', 'Elephant', 'Fox', 'Ponda']\n"
     ]
    }
   ],
   "source": [
    "# Write a Python program to print a specified list after removing the 0th, 4th and 5th elements. (enumerate) Sample Output [\"Cat\", \"Dog\", \"Elephant\", \"Fox\", \"Tiger\", \"Lion\", \"Ponda\"] ['Dog', 'Elephant', 'Fox', 'Ponda']\n",
    "\n",
    "def print_list_after_removing(my_list):\n",
    "  \"\"\"\n",
    "  This function prints a new list after removing elements at specified indices using enumerate.\n",
    "\n",
    "  Args:\n",
    "      my_list: The original list.\n",
    "  \"\"\"\n",
    "\n",
    "  # Use enumerate to get index and element pairs\n",
    "  new_list = [item for i, item in enumerate(my_list) if i not in (0, 4, 5)]\n",
    "  print(f\"Original list: {my_list}\")\n",
    "  print(f\"List after removing elements at indices 0, 4, and 5: {new_list}\")\n",
    "\n",
    "# Sample list\n",
    "my_list = [\"Cat\", \"Dog\", \"Elephant\", \"Fox\", \"Tiger\", \"Lion\", \"Ponda\"]\n",
    "\n",
    "# Print the modified list\n",
    "print_list_after_removing(my_list.copy())  # Avoid modifying the original list\n"
   ]
  },
  {
   "cell_type": "code",
   "execution_count": 12,
   "id": "2307bc1b-6e65-4be9-8c07-526de1084eba",
   "metadata": {},
   "outputs": [
    {
     "name": "stdout",
     "output_type": "stream",
     "text": [
      "Original list: [7, 32, 81, 20, 25, 14, 23, 27]\n",
      "List after removing even numbers: [7, 81, 25, 23, 27]\n"
     ]
    }
   ],
   "source": [
    "#12. Write a Python program to print the numbers of a specified list after removing even\n",
    "# numbers from it\n",
    "# Sample Output\n",
    "# [7,32,81,20,25,14,23,27]\n",
    "# [7, 81, 25, 23, 27]\n",
    "\n",
    "def print_odd_numbers(num_list):\n",
    "\n",
    "  # Filter odd numbers using list comprehension\n",
    "  odd_numbers = [num for num in num_list if num % 2 != 0]\n",
    "  print(f\"Original list: {num_list}\")\n",
    "  print(f\"List after removing even numbers: {odd_numbers}\")\n",
    "\n",
    "# Sample list\n",
    "number_list = [7, 32, 81, 20, 25, 14, 23, 27]\n",
    "\n",
    "# Print the list with odd numbers\n",
    "print_odd_numbers(number_list.copy())  # Avoid modifying the original list\n"
   ]
  },
  {
   "cell_type": "code",
   "execution_count": 13,
   "id": "8d87a6e5-d818-4dcc-b326-0a7059853ac9",
   "metadata": {},
   "outputs": [
    {
     "name": "stdout",
     "output_type": "stream",
     "text": [
      "Original list: ['Fox', 'Ponda', 'Cat', 'Elephant', 'Lion', 'Tiger', 'Dog']\n",
      "Shuffled list: ['Fox', 'Ponda', 'Cat', 'Elephant', 'Lion', 'Tiger', 'Dog']\n"
     ]
    }
   ],
   "source": [
    "# #Write a Python program to shuffle and print a specified list (shuffle)\n",
    "# Sample Output\n",
    "# [\"Cat\", \"Dog\", \"Elephant\", \"Fox\", \"Tiger\", \"Lion\", \"Ponda\"]\n",
    "# # ['Fox', 'Cat', 'Tiger', 'Lion', 'Dog', 'Ponda', 'Elephant']\n",
    "\n",
    "import random\n",
    "\n",
    "def shuffle_and_print(my_list):\n",
    "  \"\"\"\n",
    "  This function shuffles a list and prints the shuffled elements.\n",
    "\n",
    "  Args:\n",
    "      my_list: The list to be shuffled.\n",
    "  \"\"\"\n",
    "\n",
    "  # Shuffle the list using random.shuffle()\n",
    "  random.shuffle(my_list)\n",
    "  print(f\"Original list: {my_list}\")\n",
    "  print(f\"Shuffled list: {my_list}\")\n",
    "\n",
    "# Sample list\n",
    "my_list = [\"Cat\", \"Dog\", \"Elephant\", \"Fox\", \"Tiger\", \"Lion\", \"Ponda\"]\n",
    "\n",
    "# Shuffle and print the list\n",
    "shuffle_and_print(my_list.copy())  # Avoid modifying the original list\n"
   ]
  },
  {
   "cell_type": "code",
   "execution_count": 14,
   "id": "6a6f8d57-757d-47cf-b4b9-9c77a7459cb1",
   "metadata": {},
   "outputs": [
    {
     "name": "stdout",
     "output_type": "stream",
     "text": [
      "First 5 elements : [1, 4, 9, 16, 25]\n",
      "Last 5 elements : [676, 729, 784, 841, 900]\n"
     ]
    }
   ],
   "source": [
    "# Write a Python program to generate and print a list of first and last 5 elements where\n",
    "# the values are square of numbers between 1 and 30\n",
    "# Sample Output\n",
    "# First 5 elements : [1, 4, 9, 16, 25]\n",
    "# Last 5 elements : [625, 676, 729, 784, 841]\n",
    "\n",
    "# Generate list of squares from 1 to 30\n",
    "numbers = [num**2 for num in range(1, 31)]\n",
    "\n",
    "# Get first 5 and last 5 elements\n",
    "first_five = numbers[:5]\n",
    "last_five = numbers[-5:]\n",
    "\n",
    "# Print the results\n",
    "print(\"First 5 elements :\", first_five)\n",
    "print(\"Last 5 elements :\", last_five)\n"
   ]
  },
  {
   "cell_type": "code",
   "execution_count": 15,
   "id": "6db869f5-59d5-4669-9fce-6e952b246b8e",
   "metadata": {},
   "outputs": [
    {
     "name": "stdout",
     "output_type": "stream",
     "text": [
      "Original list: [1, 2, 3]\n",
      "All Permutations: [(1, 2, 3), (1, 3, 2), (2, 1, 3), (2, 3, 1), (3, 1, 2), (3, 2, 1)]\n"
     ]
    }
   ],
   "source": [
    "# Write a Python program to generate all permutations of a list in Python. (itertools)\n",
    "# Sample Output\n",
    "# [1,2,3]\n",
    "# [(1, 2, 3), (1, 3, 2), (2, 1, 3), (2, 3, 1), (3, 1, 2), (3, 2, 1)]\n",
    "\n",
    "from itertools import permutations\n",
    "\n",
    "def generate_permutations(my_list):\n",
    "  \"\"\"\n",
    "  This function generates all permutations of a list using itertools.permutations().\n",
    "\n",
    "  Args:\n",
    "      my_list: The list for which permutations are to be generated.\n",
    "\n",
    "  Returns:\n",
    "      A list of tuples containing all permutations.\n",
    "  \"\"\"\n",
    "\n",
    "  # Use permutations() from itertools\n",
    "  permutations_list = list(permutations(my_list))\n",
    "  return permutations_list\n",
    "\n",
    "# Sample list\n",
    "my_list = [1, 2, 3]\n",
    "\n",
    "# Generate and print permutations\n",
    "all_permutations = generate_permutations(my_list)\n",
    "print(f\"Original list: {my_list}\")\n",
    "print(f\"All Permutations: {all_permutations}\")\n"
   ]
  },
  {
   "cell_type": "code",
   "execution_count": 16,
   "id": "2ac34d84-0104-4839-bbd9-abe57eb93a26",
   "metadata": {},
   "outputs": [
    {
     "name": "stdout",
     "output_type": "stream",
     "text": [
      "Tutor Joes\n"
     ]
    }
   ],
   "source": [
    "# Write a Python program to convert a list of characters into a string\n",
    "# Sample Output\n",
    "# ['T','u','t','o','r',' ','J','o','e','s']\n",
    "# Tutor Joes\n",
    "\n",
    "def convert_list_to_string(char_list):\n",
    "  \"\"\"\n",
    "  This function converts a list of characters into a string using ''.join().\n",
    "\n",
    "  Args:\n",
    "      char_list: The list of characters.\n",
    "\n",
    "  Returns:\n",
    "      The converted string.\n",
    "  \"\"\"\n",
    "\n",
    "  # Join characters using ''.join()\n",
    "  joined_string = ''.join(char_list)\n",
    "  return joined_string\n",
    "\n",
    "# Sample list of characters\n",
    "char_list = ['T','u','t','o','r',' ','J','o','e','s']\n",
    "\n",
    "# Convert and print the string\n",
    "converted_string = convert_list_to_string(char_list)\n",
    "print(converted_string)\n"
   ]
  },
  {
   "cell_type": "code",
   "execution_count": 17,
   "id": "831680e2-889e-4218-91cf-813709026655",
   "metadata": {},
   "outputs": [
    {
     "name": "stdout",
     "output_type": "stream",
     "text": [
      "Item to find the index of 30\n",
      "Index Number of Item = 2\n"
     ]
    }
   ],
   "source": [
    "#  Write a Python program to find the index of an item in a specified list\n",
    "# Sample Output\n",
    "# [20, 70, 30, 90, 10, 30, 90, 10, 80]\n",
    "# Item to find the index of 30\n",
    "# Index Number of Item = 2\n",
    "\n",
    "def find_item_index(my_list, item):\n",
    "  \"\"\"\n",
    "  This function finds the index of the first occurrence of an item in a list.\n",
    "\n",
    "  Args:\n",
    "      my_list: The list to search.\n",
    "      item: The item to find the index of.\n",
    "\n",
    "  Returns:\n",
    "      The index of the item if found, otherwise -1.\n",
    "  \"\"\"\n",
    "\n",
    "  try:\n",
    "    # Find the index using index()\n",
    "    item_index = my_list.index(item)\n",
    "    return item_index\n",
    "  except ValueError:\n",
    "    return -1  # Item not found\n",
    "\n",
    "# Sample list\n",
    "my_list = [20, 70, 30, 90, 10, 30, 90, 10, 80]\n",
    "item_to_find = 30\n",
    "\n",
    "# Find and print the index\n",
    "item_index = find_item_index(my_list, item_to_find)\n",
    "if item_index != -1:\n",
    "  print(f\"Item to find the index of {item_to_find}\")\n",
    "  print(f\"Index Number of Item = {item_index}\")\n",
    "else:\n",
    "  print(f\"Item {item_to_find} not found in the list.\")\n"
   ]
  },
  {
   "cell_type": "code",
   "execution_count": 18,
   "id": "38955e97-550b-4821-b175-1ee19728e3dc",
   "metadata": {},
   "outputs": [
    {
     "name": "stdout",
     "output_type": "stream",
     "text": [
      "Original nested list: [[20, 30, 70], [30, 90, 10], [30, 20], [70, 90, 10, 80]]\n",
      "Flattened list: [20, 30, 70, 30, 90, 10, 30, 20, 70, 90, 10, 80]\n"
     ]
    }
   ],
   "source": [
    "# Write a Python program to flatten a shallow list\n",
    "# Sample Output\n",
    "# [[20,30,70],[30,90,10], [30,20], [70,90,10,80]]\n",
    "# [20, 30, 70, 30, 90, 10, 30, 20, 70, 90, 10, 80]\n",
    "\n",
    "def flatten_list(nested_list):\n",
    "  \"\"\"\n",
    "  This function flattens a shallow list into a single list.\n",
    "\n",
    "  Args:\n",
    "      nested_list: The list to be flattened.\n",
    "\n",
    "  Returns:\n",
    "      A new list containing the flattened elements.\n",
    "  \"\"\"\n",
    "\n",
    "  flat_list = []\n",
    "  for item in nested_list:\n",
    "    # Check if item is a list, if so, extend the flat list with its elements\n",
    "    if isinstance(item, list):\n",
    "      flat_list.extend(item)\n",
    "    else:\n",
    "      flat_list.append(item)\n",
    "  return flat_list\n",
    "\n",
    "# Sample nested list\n",
    "nested_list = [[20, 30, 70], [30, 90, 10], [30, 20], [70, 90, 10, 80]]\n",
    "\n",
    "# Flatten and print the list\n",
    "flattened_list = flatten_list(nested_list.copy())  # Avoid modifying the original list\n",
    "print(f\"Original nested list: {nested_list}\")\n",
    "print(f\"Flattened list: {flattened_list}\")\n",
    "\n"
   ]
  },
  {
   "cell_type": "code",
   "execution_count": 19,
   "id": "8716ff0e-4e86-4181-8627-f6c044029e65",
   "metadata": {},
   "outputs": [
    {
     "name": "stdout",
     "output_type": "stream",
     "text": [
      "List1: [10, 20, 30, 40]\n",
      "Modified List2: ['Cat', 'Dog', 'Lion', 'Ponda', 10, 20, 30, 40]\n"
     ]
    }
   ],
   "source": [
    "# Write a Python program to add a list to the second list\n",
    "# Sample Output\n",
    "# [10, 20, 30, 40]\n",
    "# [\"Cat\", \"Dog\", \"Lion\", \"Ponda\"]\n",
    "# [10, 20, 30, 40, 'Cat', 'Dog', 'Lion', 'Ponda']\n",
    "\n",
    "def add_list_to_list(list1, list2):\n",
    "  \"\"\"\n",
    "  This function adds the elements from list1 to the end of list2 using extend().\n",
    "\n",
    "  Args:\n",
    "      list1: The list to be added.\n",
    "      list2: The list to which elements are to be appended.\n",
    "  \"\"\"\n",
    "\n",
    "  list2.extend(list1)\n",
    "\n",
    "# Sample lists\n",
    "list1 = [10, 20, 30, 40]\n",
    "list2 = [\"Cat\", \"Dog\", \"Lion\", \"Ponda\"]\n",
    "\n",
    "# Add list1 to list2 and print the result\n",
    "add_list_to_list(list1, list2)\n",
    "print(f\"List1: {list1}\")\n",
    "print(f\"Modified List2: {list2}\")\n"
   ]
  },
  {
   "cell_type": "code",
   "execution_count": 20,
   "id": "716d6766-03b8-4ce6-a59a-610137cc844e",
   "metadata": {},
   "outputs": [
    {
     "name": "stdout",
     "output_type": "stream",
     "text": [
      "Item randomly from a list : Tiger\n"
     ]
    }
   ],
   "source": [
    "# Write a Python program to select an item randomly from a list Using random.choice()\n",
    "# Sample Output\n",
    "# [\"Cat\", \"Dog\", \"Elephant\", \"Fox\", \"Tiger\", \"Lion\", \"Ponda\"]\n",
    "# Item randomly from a list : Fox\n",
    "\n",
    "import random\n",
    "\n",
    "def select_random_item(my_list):\n",
    "  \"\"\"\n",
    "  This function selects a random item from a list using random.choice().\n",
    "\n",
    "  Args:\n",
    "      my_list: The list to select from.\n",
    "\n",
    "  Returns:\n",
    "      A random item from the list.\n",
    "  \"\"\"\n",
    "\n",
    "  # Select random item using random.choice()\n",
    "  random_item = random.choice(my_list)\n",
    "  return random_item\n",
    "\n",
    "# Sample list\n",
    "my_list = [\"Cat\", \"Dog\", \"Elephant\", \"Fox\", \"Tiger\", \"Lion\", \"Ponda\"]\n",
    "\n",
    "# Select and print a random item\n",
    "selected_item = select_random_item(my_list)\n",
    "print(f\"Item randomly from a list : {selected_item}\")\n",
    "\n"
   ]
  },
  {
   "cell_type": "code",
   "execution_count": 21,
   "id": "ca144c26-8192-4f62-a750-8e6e03e82eaf",
   "metadata": {},
   "outputs": [
    {
     "name": "stdout",
     "output_type": "stream",
     "text": [
      "Compare List1 and List2 : False\n",
      "Compare List1 and List3 : False\n"
     ]
    }
   ],
   "source": [
    "# Write a python program to check whether two lists are circularly identical\n",
    "# Sample Output\n",
    "# [8, 8, 12, 12, 8]\n",
    "# [8, 8, 8, 12, 12]\n",
    "# [1, 8, 8, 12, 12]\n",
    "# Compare List1 and List2 : True\n",
    "# Compare List1 and List3 : False\n",
    "\n",
    "def are_circularly_identical(list1, list2):\n",
    " \n",
    "\n",
    "  n = len(list1)\n",
    "  m = len(list2)\n",
    "\n",
    "  # Check if lengths are equal\n",
    "  if n != m:\n",
    "    return False\n",
    "\n",
    "  # Create a concatenated string with n repetitions of list2\n",
    "  concat_list = ''.join([str(x) for x in list2 * n])\n",
    "\n",
    "  # Check if list1 is a substring of the concatenated string at any starting position\n",
    "  return any(concat_list[i: i + n] == ''.join([str(x) for x in list1]) for i in range(n))\n",
    "\n",
    "# Sample lists\n",
    "list1 = [8, 8, 12, 12, 8]\n",
    "list2 = [8, 8, 8, 12, 12]\n",
    "list3 = [1, 8, 8, 12, 12]\n",
    "\n",
    "# Compare lists and print results\n",
    "print(\"Compare List1 and List2 :\", are_circularly_identical(list1, list2))\n",
    "print(\"Compare List1 and List3 :\", are_circularly_identical(list1, list3))\n"
   ]
  },
  {
   "cell_type": "code",
   "execution_count": 22,
   "id": "00067c4b-677d-4ffe-8eb0-3bb33a6b6511",
   "metadata": {},
   "outputs": [
    {
     "name": "stdout",
     "output_type": "stream",
     "text": [
      "Second Smallest Number : 4\n"
     ]
    }
   ],
   "source": [
    "# . Write a Python program to find the second smallest number in a list\n",
    "# Sample Output\n",
    "# [2,4,56,78,4,34,5,8,9]\n",
    "# # Second Smallest Number : 4\n",
    "\n",
    "def find_second_smallest(number_list):\n",
    "  \"\"\"\n",
    "  This function finds the second smallest number in a list.\n",
    "\n",
    "  Args:\n",
    "      number_list: The list of numbers.\n",
    "\n",
    "  Returns:\n",
    "      The second smallest number in the list, or None if the list has less than 2 elements.\n",
    "  \"\"\"\n",
    "\n",
    "  # Handle cases with less than 2 elements\n",
    "  if len(number_list) < 2:\n",
    "    return None\n",
    "\n",
    "  # Remove duplicates and sort the list\n",
    "  unique_sorted_list = sorted(set(number_list))\n",
    "\n",
    "  # Check if there's a second element (second smallest)\n",
    "  if len(unique_sorted_list) > 1:\n",
    "    return unique_sorted_list[1]\n",
    "  else:\n",
    "    return None\n",
    "\n",
    "# Sample list\n",
    "number_list = [2, 4, 56, 78, 4, 34, 5, 8, 9]\n",
    "\n",
    "# Find and print the second smallest number\n",
    "second_smallest = find_second_smallest(number_list)\n",
    "if second_smallest is not None:\n",
    "  print(f\"Second Smallest Number : {second_smallest}\")\n",
    "else:\n",
    "  print(\"List has less than 2 unique elements.\")\n"
   ]
  },
  {
   "cell_type": "code",
   "execution_count": 23,
   "id": "44b14c89-070c-4ce1-a2cd-27a20c7eaba5",
   "metadata": {},
   "outputs": [
    {
     "name": "stdout",
     "output_type": "stream",
     "text": [
      "Second Largest Number : 82\n"
     ]
    }
   ],
   "source": [
    "# Write a Python program to find the second largest number in a list\n",
    "# Sample Output\n",
    "# [82,4,56,78,4,34,5,100,9]\n",
    "# Second Largest Number : 82\n",
    "\n",
    "def find_second_largest(number_list):\n",
    "  \"\"\"\n",
    "  This function finds the second largest number in a list.\n",
    "\n",
    "  Args:\n",
    "      number_list: The list of numbers.\n",
    "\n",
    "  Returns:\n",
    "      The second largest number in the list, or None if the list has less than 2 elements.\n",
    "  \"\"\"\n",
    "\n",
    "  # Handle cases with less than 2 elements\n",
    "  if len(number_list) < 2:\n",
    "    return None\n",
    "\n",
    "  # Remove duplicates and sort the list in descending order\n",
    "  unique_sorted_list = sorted(set(number_list), reverse=True)\n",
    "\n",
    "  # Check if there's a second element (second largest)\n",
    "  if len(unique_sorted_list) > 1:\n",
    "    return unique_sorted_list[1]\n",
    "  else:\n",
    "    return None\n",
    "\n",
    "# Sample list\n",
    "number_list = [82, 4, 56, 78, 4, 34, 5, 100, 9]\n",
    "\n",
    "# Find and print the second largest number\n",
    "second_largest = find_second_largest(number_list)\n",
    "if second_largest is not None:\n",
    "  print(f\"Second Largest Number : {second_largest}\")\n",
    "else:\n",
    "  print(\"List has less than 2 unique elements.\")\n"
   ]
  },
  {
   "cell_type": "code",
   "execution_count": 24,
   "id": "6a484eaa-ff54-4f88-83ff-82b8e4303935",
   "metadata": {},
   "outputs": [
    {
     "name": "stdout",
     "output_type": "stream",
     "text": [
      "Unique Values: [34, 4, 5, 9, 10, 78, 82, 56]\n"
     ]
    }
   ],
   "source": [
    "# Write a Python program to get unique values from a list\n",
    "# Sample Output\n",
    "# [82, 4, 10, 56, 78, 4, 34, 5, 10, 9]\n",
    "# [34, 4, 5, 9, 10, 78, 82, 56]\n",
    "\n",
    "def get_unique_values(input_list):\n",
    "  \"\"\"\n",
    "  This function removes duplicates from a list and returns the unique elements using a set.\n",
    "\n",
    "  Args:\n",
    "      input_list: The list from which to remove duplicates.\n",
    "\n",
    "  Returns:\n",
    "      A list containing the unique elements from the input list.\n",
    "  \"\"\"\n",
    "\n",
    "  # Use set() to remove duplicates and convert back to list\n",
    "  unique_list = list(set(input_list))\n",
    "  return unique_list\n",
    "\n",
    "# Sample list\n",
    "input_list = [82, 4, 10, 56, 78, 4, 34, 5, 10, 9]\n",
    "\n",
    "# Get and print the unique values\n",
    "unique_values = get_unique_values(input_list)\n",
    "print(f\"Unique Values: {unique_values}\")\n",
    "\n"
   ]
  },
  {
   "cell_type": "code",
   "execution_count": 25,
   "id": "9e57d93c-d48c-442d-9adb-260b446df9ae",
   "metadata": {},
   "outputs": [
    {
     "name": "stdout",
     "output_type": "stream",
     "text": [
      "Element Frequencies: Counter({50: 3, 10: 2, 30: 2, 20: 2, 60: 2, 40: 2})\n"
     ]
    }
   ],
   "source": [
    "# Write a Python program to get the frequency of the elements in a list.\n",
    "# Sample Output\n",
    "# [10, 30, 50, 10, 20, 60, 20, 60, 40, 40, 50, 50, 30]\n",
    "# Counter({50: 3, 10: 2, 30: 2, 20: 2, 60: 2, 40: 2})\n",
    "\n",
    "\n",
    "from collections import Counter\n",
    "\n",
    "def get_element_frequencies(input_list):\n",
    "  \"\"\"\n",
    "  This function counts the frequency of elements in a list using collections.Counter.\n",
    "\n",
    "  Args:\n",
    "      input_list: The list for which to count element frequencies.\n",
    "\n",
    "  Returns:\n",
    "      A collections.Counter object containing the element frequencies.\n",
    "  \"\"\"\n",
    "\n",
    "  element_counts = Counter(input_list)\n",
    "  return element_counts\n",
    "\n",
    "# Sample list\n",
    "input_list = [10, 30, 50, 10, 20, 60, 20, 60, 40, 40, 50, 50, 30]\n",
    "\n",
    "# Get and print the element frequencies\n",
    "element_frequencies = get_element_frequencies(input_list)\n",
    "print(f\"Element Frequencies: {element_frequencies}\")\n"
   ]
  },
  {
   "cell_type": "code",
   "execution_count": 26,
   "id": "c4a2ffd6-9dd5-4177-b859-2a3f80c36605",
   "metadata": {},
   "outputs": [
    {
     "name": "stdout",
     "output_type": "stream",
     "text": [
      "Concatenated List with Combined Elements: ['T1', 'T2', 'T3', 'T4', 'T5', 'T6', 'T7', 'T8', 'T9', 'T10', 'J1', 'J2', 'J3', 'J4', 'J5', 'J6', 'J7', 'J8', 'J9', 'J10']\n"
     ]
    }
   ],
   "source": [
    "# . Create a list by concatenating a given list which range goes from 1 to n\n",
    "# Sample Output\n",
    "# ['T', 'J']\n",
    "# N = 10\n",
    "# ['T1', 'J1', 'T2', 'J2', 'T3', 'J3', 'T4', 'J4', 'T5', 'J5', 'T6', 'J6', 'T7', 'J7', 'T8', 'J8', 'T9', 'J9', 'T10', 'J10']\n",
    "\n",
    "def concatenate_with_range_combined(given_list, n):\n",
    "  \"\"\"\n",
    "  This function concatenates a given list with elements formed by combining\n",
    "  each element in the list with numbers from a range 1 to n (inclusive).\n",
    "\n",
    "  Args:\n",
    "      given_list: The list to be used for combining.\n",
    "      n: The upper bound of the range (inclusive).\n",
    "\n",
    "  Returns:\n",
    "      A new list containing the combined elements.\n",
    "  \"\"\"\n",
    "\n",
    "  # Use list comprehension to create combined elements\n",
    "  combined_list = [f\"{item}{i}\" for item in given_list for i in range(1, n + 1)]\n",
    "\n",
    "  return combined_list\n",
    "\n",
    "# Sample list and n\n",
    "given_list = ['T', 'J']\n",
    "n = 10\n",
    "\n",
    "# Concatenate and print the list\n",
    "concatenated_list = concatenate_with_range_combined(given_list.copy(), n)\n",
    "print(f\"Concatenated List with Combined Elements: {concatenated_list}\")\n",
    "\n"
   ]
  },
  {
   "cell_type": "code",
   "execution_count": 27,
   "id": "59c56964-4eed-4f3a-9208-b0391516d7d9",
   "metadata": {},
   "outputs": [
    {
     "name": "stdout",
     "output_type": "stream",
     "text": [
      "Unique Identification Number : 0x7ffdd08e3d58\n",
      "Unique Identification String : 0x2489dca8d70\n"
     ]
    }
   ],
   "source": [
    "# Write a Python program to get variable unique identification number or string\n",
    "# Sample Output\n",
    "# x = 30\n",
    "# s = \"Tutor Joes\"\n",
    "# Unique Identification Number : 7005f980\n",
    "# Unique Identification String : c24bb0\n",
    "\n",
    "def get_unique_id(data):\n",
    "  \"\"\"\n",
    "  This function returns the unique identifier of the data using the id() function.\n",
    "\n",
    "  Args:\n",
    "      data: The data for which to get the unique identifier (can be a number, string, or other object).\n",
    "\n",
    "  Returns:\n",
    "      The unique identifier of the data in hexadecimal format.\n",
    "  \"\"\"\n",
    "\n",
    "  # Get the unique identifier using id() and format as hex\n",
    "  unique_id = hex(id(data))\n",
    "  return unique_id\n",
    "\n",
    "# Sample data (number and string)\n",
    "x = 30\n",
    "s = \"Tutor Joes\"\n",
    "\n",
    "# Get and print unique IDs\n",
    "unique_id_number = get_unique_id(x)\n",
    "unique_id_string = get_unique_id(s)\n",
    "print(f\"Unique Identification Number : {unique_id_number}\")\n",
    "print(f\"Unique Identification String : {unique_id_string}\")\n",
    "\n"
   ]
  },
  {
   "cell_type": "code",
   "execution_count": 28,
   "id": "0647fdb3-accb-4e0f-b909-90bee71baccb",
   "metadata": {},
   "outputs": [
    {
     "name": "stdout",
     "output_type": "stream",
     "text": [
      "Common items from two lists : {89, 34, 67}\n"
     ]
    }
   ],
   "source": [
    "# Write a Python program to find common items from two lists\n",
    "# Sample Output\n",
    "# [23,45,67,78,89,34]\n",
    "# [34,89,55,56,39,67]\n",
    "# Common items from two lists : {89, 34, 67}\n",
    "\n",
    "def find_common_items(list1, list2):\n",
    "  \"\"\"\n",
    "  This function finds the common items between two lists.\n",
    "\n",
    "  Args:\n",
    "      list1: The first list.\n",
    "      list2: The second list.\n",
    "\n",
    "  Returns:\n",
    "      A set containing the common items from both lists.\n",
    "  \"\"\"\n",
    "\n",
    "  # Use set intersection to find common elements\n",
    "  common_items = set(list1) & set(list2)\n",
    "  return common_items\n",
    "\n",
    "# Sample lists\n",
    "list1 = [23, 45, 67, 78, 89, 34]\n",
    "list2 = [34, 89, 55, 56, 39, 67]\n",
    "\n",
    "# Find and print common items\n",
    "common_items = find_common_items(list1, list2)\n",
    "print(f\"Common items from two lists : {common_items}\")\n"
   ]
  },
  {
   "cell_type": "code",
   "execution_count": 29,
   "id": "fd513b1d-7c0a-44e0-8afb-3f275c69583f",
   "metadata": {},
   "outputs": [
    {
     "name": "stdout",
     "output_type": "stream",
     "text": [
      "C ['cat', 'cow']\n",
      "D ['dog']\n",
      "T ['tiger', 'turtle']\n",
      "L ['lion']\n",
      "F ['Fox']\n",
      "S ['Shark', 'Snake']\n",
      "M ['mouse', 'monkey']\n",
      "B ['bear']\n"
     ]
    }
   ],
   "source": [
    "# Write a Python program to split a list based on first character of word\n",
    "# Sample Output\n",
    "# [\"cat\", \"dog\", \"cow\", \"tiger\", \"lion\", \"Fox\", \"Shark\", \"Snake\", \"turtle\", \"mouse\", \"monkey\",\n",
    "# \"bear\"]\n",
    "# F\n",
    "#  Fox\n",
    "# S\n",
    "#  Shark\n",
    "#  Snake\n",
    "# b\n",
    "#  bear\n",
    "# c\n",
    "#  cat\n",
    "#  cow\n",
    "# d\n",
    "#  dog\n",
    "# l\n",
    "#  lion\n",
    "# m\n",
    "#  monkey\n",
    "#  mouse\n",
    "# t\n",
    "#  tiger\n",
    "#  turtle\n",
    "\n",
    "\n",
    "from collections import defaultdict\n",
    "\n",
    "def split_list_by_first_char(word_list):\n",
    "  \"\"\"\n",
    "  This function splits a list of words based on the first character of each word.\n",
    "\n",
    "  Args:\n",
    "      word_list: The list of words to be split.\n",
    "\n",
    "  Returns:\n",
    "      A dictionary where keys are the first characters and values are lists of words starting with those characters.\n",
    "  \"\"\"\n",
    "\n",
    "  char_to_words = defaultdict(list)\n",
    "  for word in word_list:\n",
    "    first_char = word[0].lower()  # Convert first character to lowercase\n",
    "    char_to_words[first_char].append(word)\n",
    "  return char_to_words\n",
    "\n",
    "# Sample list of words\n",
    "word_list = [\"cat\", \"dog\", \"cow\", \"tiger\", \"lion\", \"Fox\", \"Shark\", \"Snake\", \"turtle\", \"mouse\", \"monkey\", \"bear\"]\n",
    "\n",
    "# Split the list and print the results\n",
    "char_to_words = split_list_by_first_char(word_list)\n",
    "for char, words in char_to_words.items():\n",
    "  print(f\"{char.upper()} {words}\")\n"
   ]
  },
  {
   "cell_type": "code",
   "execution_count": 30,
   "id": "b12078dd-a3a7-41e5-bdee-d31971db844c",
   "metadata": {},
   "outputs": [
    {
     "name": "stdout",
     "output_type": "stream",
     "text": [
      "Odd Numbers: [1, 3, 7, 5, 9, 7, 9]\n"
     ]
    }
   ],
   "source": [
    "# Write a Python program to select the odd number of a list\n",
    "# Sample Output\n",
    "# [1,2,4,3,6,7,5,8,9,7,8,9,10]\n",
    "# [1, 3, 7, 5, 9, 7, 9]\n",
    "\n",
    "def select_odd_numbers(number_list):\n",
    "  \"\"\"\n",
    "  This function selects the odd numbers from a list.\n",
    "\n",
    "  Args:\n",
    "      number_list: The list of numbers.\n",
    "\n",
    "  Returns:\n",
    "      A list containing only the odd numbers from the input list.\n",
    "  \"\"\"\n",
    "\n",
    "  odd_numbers = [num for num in number_list if num % 2 != 0]\n",
    "  return odd_numbers\n",
    "\n",
    "# Sample list\n",
    "number_list = [1, 2, 4, 3, 6, 7, 5, 8, 9, 7, 8, 9, 10]\n",
    "\n",
    "# Select and print the odd numbers\n",
    "odd_numbers = select_odd_numbers(number_list)\n",
    "print(f\"Odd Numbers: {odd_numbers}\")\n"
   ]
  },
  {
   "cell_type": "code",
   "execution_count": 31,
   "id": "a1548dd6-0d00-4bd2-b05c-ac5b7189a02d",
   "metadata": {},
   "outputs": [
    {
     "name": "stdout",
     "output_type": "stream",
     "text": [
      "No of Unique Items in List : 6\n"
     ]
    }
   ],
   "source": [
    "# Write a Python Program to count unique values inside a list\n",
    "# Sample Output\n",
    "# [10, 20, 30, 50, 80, 70, 70, 80, 10]\n",
    "# No of Unique Items in List : 6\n",
    "\n",
    "def count_unique_values(input_list):\n",
    "  \"\"\"\n",
    "  This function counts the number of unique elements in a list using a set.\n",
    "\n",
    "  Args:\n",
    "      input_list: The list for which to count unique elements.\n",
    "\n",
    "  Returns:\n",
    "      The number of unique elements in the input list.\n",
    "  \"\"\"\n",
    "\n",
    "  # Use set() to remove duplicates and get the count\n",
    "  unique_count = len(set(input_list))\n",
    "  return unique_count\n",
    "\n",
    "# Sample list\n",
    "input_list = [10, 20, 30, 50, 80, 70, 70, 80, 10]\n",
    "\n",
    "# Count and print the number of unique items\n",
    "unique_count = count_unique_values(input_list)\n",
    "print(f\"No of Unique Items in List : {unique_count}\")\n"
   ]
  },
  {
   "cell_type": "code",
   "execution_count": 32,
   "id": "3ca1652b-3e45-40ab-8a10-33f158a7def6",
   "metadata": {},
   "outputs": [
    {
     "name": "stdout",
     "output_type": "stream",
     "text": [
      "Duplication removal list product : 144\n"
     ]
    }
   ],
   "source": [
    "# Write a Python Program to List product excluding duplicates\n",
    "# Sample Output\n",
    "# [2, 1, 2, 4, 6, 4, 3, 2, 1]\n",
    "# Duplication removal list product : 144\n",
    "\n",
    "def product_excluding_duplicates(input_list):\n",
    "  \"\"\"\n",
    "  This function calculates the product of unique elements in a list.\n",
    "\n",
    "  Args:\n",
    "      input_list: The list for which to calculate the product of unique elements.\n",
    "\n",
    "  Returns:\n",
    "      The product of all unique elements in the input list.\n",
    "  \"\"\"\n",
    "\n",
    "  # Use set() to remove duplicates and convert back to list for multiplication\n",
    "  unique_elements = list(set(input_list))\n",
    "\n",
    "  # Calculate the product using a loop or functools.reduce (optional)\n",
    "  product = 1\n",
    "  for element in unique_elements:\n",
    "    product *= element\n",
    "\n",
    "  # Alternative using functools.reduce (uncomment the line below if desired)\n",
    "  # from functools import reduce\n",
    "  # product = reduce(lambda x, y: x * y, unique_elements, 1)\n",
    "\n",
    "  return product\n",
    "\n",
    "# Sample list\n",
    "input_list = [2, 1, 2, 4, 6, 4, 3, 2, 1]\n",
    "\n",
    "# Calculate and print the product of unique elements\n",
    "product = product_excluding_duplicates(input_list)\n",
    "print(f\"Duplication removal list product : {product}\")\n"
   ]
  },
  {
   "cell_type": "code",
   "execution_count": 33,
   "id": "ab46c4be-3b3b-4652-9eb7-3d760894d5cb",
   "metadata": {},
   "outputs": [
    {
     "name": "stdout",
     "output_type": "stream",
     "text": [
      "Elements with Frequency > 3 : []\n"
     ]
    }
   ],
   "source": [
    "# Write a Python Program to Extract elements with Frequency greater than K\n",
    "# Sample Output\n",
    "# [4, 6, 4, 3, 3, 4, 3, 7, 8, 8]\n",
    "\n",
    "from collections import Counter\n",
    "\n",
    "def extract_frequent_elements(input_list, threshold):\n",
    "  \"\"\"\n",
    "  This function extracts elements with a frequency greater than the threshold (K) from a list.\n",
    "\n",
    "  Args:\n",
    "      input_list: The list from which to extract frequent elements.\n",
    "      threshold: The minimum frequency (K) for an element to be considered frequent.\n",
    "\n",
    "  Returns:\n",
    "      A list containing elements that appear more than 'threshold' times in the input list.\n",
    "  \"\"\"\n",
    "\n",
    "  # Count element frequencies using Counter\n",
    "  element_counts = Counter(input_list)\n",
    "\n",
    "  # Extract elements with frequency greater than threshold\n",
    "  frequent_elements = [element for element, count in element_counts.items() if count > threshold]\n",
    "\n",
    "  return frequent_elements\n",
    "\n",
    "# Sample list and threshold\n",
    "input_list = [4, 6, 4, 3, 3, 4, 3, 7, 8, 8]\n",
    "threshold = 3\n",
    "\n",
    "# Extract and print frequent elements\n",
    "frequent_elements = extract_frequent_elements(input_list, threshold)\n",
    "print(f\"Elements with Frequency > {threshold} : {frequent_elements}\")\n"
   ]
  },
  {
   "cell_type": "code",
   "execution_count": 34,
   "id": "a4ba9939-296b-4c34-9497-af2449033a6f",
   "metadata": {},
   "outputs": [
    {
     "name": "stdout",
     "output_type": "stream",
     "text": [
      "Does list contain all elements in range : True\n"
     ]
    }
   ],
   "source": [
    "# 34. Write a Python Program to Test if List contains elements in Range\n",
    "# Sample Output\n",
    "# [4, 5, 6, 7, 3, 9]\n",
    "# Does list contain all elements in range : True\n",
    "\n",
    "def check_list_in_range(input_list, start, end):\n",
    "  \"\"\"\n",
    "  This function checks if all elements in a list are within a specified range (inclusive).\n",
    "\n",
    "  Args:\n",
    "      input_list: The list to be checked.\n",
    "      start: The lower bound of the range (inclusive).\n",
    "      end: The upper bound of the range (inclusive).\n",
    "\n",
    "  Returns:\n",
    "      True if all elements in the list are within the range, False otherwise.\n",
    "  \"\"\"\n",
    "\n",
    "  # Use all() with list comprehension for efficiency\n",
    "  all_in_range = all(start <= element <= end for element in input_list)\n",
    "  return all_in_range\n",
    "\n",
    "# Sample list, start, and end values\n",
    "input_list = [4, 5, 6, 7, 3, 9]\n",
    "start = 3\n",
    "end = 9\n",
    "\n",
    "# Check and print the result\n",
    "is_in_range = check_list_in_range(input_list, start, end)\n",
    "print(f\"Does list contain all elements in range : {is_in_range}\")\n"
   ]
  },
  {
   "cell_type": "code",
   "execution_count": 35,
   "id": "0fc3dd65-67f3-4bcf-bf1b-18060ec84062",
   "metadata": {},
   "outputs": [
    {
     "name": "stdout",
     "output_type": "stream",
     "text": [
      "Three Consecutive common numbers = 18, 9\n"
     ]
    }
   ],
   "source": [
    "# Write a Python program to check if the list contains three consecutive common\n",
    "# numbers in Python\n",
    "# Sample Output\n",
    "# [18, 18, 18, 6, 3, 4, 9, 9, 9]\n",
    "# Three Consecutive common numbers = 18, 9\n",
    "\n",
    "def has_consecutive_duplicates(input_list):\n",
    "  \"\"\"\n",
    "  This function checks if a list contains three consecutive elements with the same value.\n",
    "\n",
    "  Args:\n",
    "      input_list: The list to be checked.\n",
    "\n",
    "  Returns:\n",
    "      A list containing the elements that appear three times consecutively in the list, \n",
    "      or an empty list if no such elements are found.\n",
    "  \"\"\"\n",
    "\n",
    "  consecutive_duplicates = []\n",
    "  for i in range(len(input_list) - 2):\n",
    "    current_value = input_list[i]\n",
    "    # Check if the next two elements are the same as the current value\n",
    "    if current_value == input_list[i + 1] == input_list[i + 2]:\n",
    "      consecutive_duplicates.append(current_value)\n",
    "\n",
    "  return consecutive_duplicates\n",
    "\n",
    "# Sample list\n",
    "input_list = [18, 18, 18, 6, 3, 4, 9, 9, 9]\n",
    "\n",
    "# Check for consecutive duplicates and print the result\n",
    "consecutive_elements = has_consecutive_duplicates(input_list)\n",
    "if consecutive_elements:\n",
    "  print(\"Three Consecutive common numbers =\", \", \".join(map(str, consecutive_elements)))\n",
    "else:\n",
    "  print(\"No three consecutive common numbers found in the list\")\n"
   ]
  },
  {
   "cell_type": "code",
   "execution_count": 36,
   "id": "3a493bda-c217-4171-9bd3-c21453ac9305",
   "metadata": {},
   "outputs": [
    {
     "name": "stdout",
     "output_type": "stream",
     "text": [
      "Strongest Neighbors: [20, 30, 20, 30, 400, 30]\n"
     ]
    }
   ],
   "source": [
    "# Write a Python program to find the Strongest Neighbour\n",
    "# Sample Output\n",
    "# [10,20,30,20,30,400]\n",
    "# 20 30 30 30 400\n",
    "\n",
    "def find_strongest_neighbors(input_list):\n",
    "  \"\"\"\n",
    "  This function finds the strongest neighbor (largest element among adjacent elements) \n",
    "  for each element in a list.\n",
    "\n",
    "  Args:\n",
    "      input_list: The list for which to find strongest neighbors.\n",
    "\n",
    "  Returns:\n",
    "      A list containing the strongest neighbor for each element in the input list.\n",
    "  \"\"\"\n",
    "\n",
    "  neighbor_list = []\n",
    "  for i in range(len(input_list)):\n",
    "    # Handle edge cases (first and last element)\n",
    "    if i == 0:\n",
    "      neighbor = input_list[i + 1]  # Strongest neighbor for first element is the next element\n",
    "    elif i == len(input_list) - 1:\n",
    "      neighbor = input_list[i - 1]  # Strongest neighbor for last element is the previous element\n",
    "    else:\n",
    "      # Compare current element with both neighbors and choose the larger one\n",
    "      left_neighbor = input_list[i - 1]\n",
    "      right_neighbor = input_list[i + 1]\n",
    "      neighbor = max(left_neighbor, right_neighbor)\n",
    "\n",
    "    neighbor_list.append(neighbor)\n",
    "  return neighbor_list\n",
    "\n",
    "# Sample list\n",
    "input_list = [10, 20, 30, 20, 30, 400]\n",
    "\n",
    "# Find and print strongest neighbors\n",
    "strongest_neighbors = find_strongest_neighbors(input_list)\n",
    "print(f\"Strongest Neighbors: {strongest_neighbors}\")\n",
    "\n"
   ]
  },
  {
   "cell_type": "code",
   "execution_count": 37,
   "id": "2e144d47-ac7b-408b-82ff-a08ec44d2173",
   "metadata": {},
   "outputs": [
    {
     "name": "stdout",
     "output_type": "stream",
     "text": [
      "1 2 3\n",
      "1 3 2\n",
      "2 1 3\n",
      "2 3 1\n",
      "3 1 2\n",
      "3 2 1\n"
     ]
    }
   ],
   "source": [
    "# . Write a Python Program to print all Possible Combinations from the three Digits\n",
    "# Sample Output\n",
    "# [1, 2, 3]\n",
    "# 1 2 3\n",
    "\n",
    "from itertools import permutations\n",
    "\n",
    "def find_all_combinations(digits):\n",
    "  \"\"\"\n",
    "  This function finds all possible combinations (order matters) of the elements in a list.\n",
    "\n",
    "  Args:\n",
    "      digits: The list of digits from which to generate combinations.\n",
    "\n",
    "  Returns:\n",
    "      A list containing all possible permutations (combinations) of the elements in the input list.\n",
    "  \"\"\"\n",
    "\n",
    "  # Use itertools.permutations for efficient combination generation\n",
    "  permutations_list = list(permutations(digits))\n",
    "  return permutations_list\n",
    "\n",
    "# Sample digits\n",
    "digits = [1, 2, 3]\n",
    "\n",
    "# Find and print all combinations\n",
    "all_combinations = find_all_combinations(digits)\n",
    "for combination in all_combinations:\n",
    "  # Print each combination element separately\n",
    "  print(*combination)\n"
   ]
  },
  {
   "cell_type": "code",
   "execution_count": 38,
   "id": "0acbf074-5f7b-4bdf-98a3-61e9f2179a28",
   "metadata": {},
   "outputs": [
    {
     "name": "stdout",
     "output_type": "stream",
     "text": [
      "All Valid Combinations: []\n"
     ]
    }
   ],
   "source": [
    "def find_combinations_with_condition(data_list, condition_func):\n",
    "  \"\"\"\n",
    "  This function finds all combinations from a list that satisfy a user-defined condition.\n",
    "\n",
    "  Args:\n",
    "      data_list: The list containing elements to combine.\n",
    "      condition_func: A function that takes a combination and returns True if it meets the condition.\n",
    "\n",
    "  Returns:\n",
    "      A list containing all valid combinations that satisfy the condition.\n",
    "  \"\"\"\n",
    "\n",
    "  all_combinations = []\n",
    "  for i in range(len(data_list)):\n",
    "    current_element = data_list[i]\n",
    "    # Recursively find combinations from the remaining elements\n",
    "    remaining_combinations = find_combinations_with_condition(data_list[i + 1:], condition_func)\n",
    "\n",
    "    # Check condition and append valid combinations\n",
    "    for combination in remaining_combinations:\n",
    "      new_combination = [current_element] + combination\n",
    "      if condition_func(new_combination):\n",
    "        all_combinations.append(new_combination)\n",
    "\n",
    "  return all_combinations\n",
    "\n",
    "# Sample data list and condition function\n",
    "data_list = ['Tutor Joes', ['Software', 'Computer'], ['Solution', 'Education']]\n",
    "\n",
    "def condition_func(combination):\n",
    "  \"\"\"\n",
    "  This is an example condition function. You can replace it with your actual condition.\n",
    "  This example checks if the first element (Tutor Joes) is present and at least one element from each sublist.\n",
    "\n",
    "  Args:\n",
    "      combination: A combination list to check.\n",
    "\n",
    "  Returns:\n",
    "      True if the combination meets the condition, False otherwise.\n",
    "  \"\"\"\n",
    "  return (\n",
    "      'Tutor Joes' in combination and\n",
    "      any(item in combination for sublist in data_list[1:] for item in sublist)\n",
    "  )\n",
    "\n",
    "# Find and print all valid combinations\n",
    "valid_combinations = find_combinations_with_condition(data_list, condition_func)\n",
    "print(f\"All Valid Combinations: {valid_combinations}\")\n"
   ]
  },
  {
   "cell_type": "code",
   "execution_count": 39,
   "id": "2659fe16-fa05-4ec0-8a9c-7897e394156f",
   "metadata": {},
   "outputs": [
    {
     "name": "stdout",
     "output_type": "stream",
     "text": [
      "All Unique Combinations: [('C', 1), ('B', 3), ('A', 3), ('B', 2), ('C', 3), ('B', 1), ('C', 2), ('A', 2), ('A', 1)]\n"
     ]
    }
   ],
   "source": [
    "# Write a Python program to get all unique combinations of two Lists\n",
    "# Sample Output\n",
    "# ['A','B','C']\n",
    "# [1,2,3]\n",
    "# [ [('A', 1), ('B', 2), ('C', 3)], [('A', 1), ('C', 2), ('B', 3)], [('B', 1), ('A', 2), ('C', 3)], [('B', 1), ('C', 2), ('A', 3)],\n",
    "# [('C', 1), ('A', 2), ('B', 3)], [('C', 1), ('B', 2), ('A', 3)] ]\n",
    "\n",
    "from itertools import product\n",
    "\n",
    "def get_unique_combinations(list1, list2):\n",
    "  \"\"\"\n",
    "  This function finds all unique combinations of elements from two lists.\n",
    "\n",
    "  Args:\n",
    "      list1: The first list.\n",
    "      list2: The second list.\n",
    "\n",
    "  Returns:\n",
    "      A list containing all unique combinations of elements from the two input lists.\n",
    "  \"\"\"\n",
    "\n",
    "  # Use itertools.product for efficient combination generation\n",
    "  all_combinations = product(list1, list2)\n",
    "  # Convert to set to remove duplicates and back to list\n",
    "  unique_combinations = list(set(all_combinations))\n",
    "\n",
    "  return unique_combinations\n",
    "\n",
    "# Sample lists\n",
    "list1 = ['A', 'B', 'C']\n",
    "list2 = [1, 2, 3]\n",
    "\n",
    "# Find and print all unique combinations\n",
    "unique_combinations = get_unique_combinations(list1, list2)\n",
    "print(f\"All Unique Combinations: {unique_combinations}\")\n"
   ]
  },
  {
   "cell_type": "code",
   "execution_count": 40,
   "id": "15b51c9b-faaf-41f3-95a7-9f6abaf98bf8",
   "metadata": {},
   "outputs": [
    {
     "name": "stdout",
     "output_type": "stream",
     "text": [
      "List after removing all '1': [3, 4, 6, 5]\n"
     ]
    }
   ],
   "source": [
    "# Write a Python program to remove all the occurrences of an element from a list\n",
    "# Sample Output\n",
    "# [1, 3, 4, 6, 5, 1]\n",
    "# [3, 4, 6, 5]\n",
    "\n",
    "def remove_all(input_list, element):\n",
    "  \"\"\"\n",
    "  This function removes all occurrences of a specified element from a list.\n",
    "\n",
    "  Args:\n",
    "      input_list: The list from which to remove elements.\n",
    "      element: The element to be removed.\n",
    "\n",
    "  Returns:\n",
    "      A new list with all occurrences of the element removed.\n",
    "  \"\"\"\n",
    "\n",
    "  # List comprehension for concise element filtering\n",
    "  return [item for item in input_list if item != element]\n",
    "\n",
    "# Sample list and element to remove\n",
    "input_list = [1, 3, 4, 6, 5, 1]\n",
    "element_to_remove = 1\n",
    "\n",
    "# Remove all occurrences and print the result\n",
    "filtered_list = remove_all(input_list, element_to_remove)\n",
    "print(f\"List after removing all '{element_to_remove}': {filtered_list}\")\n"
   ]
  },
  {
   "cell_type": "code",
   "execution_count": 41,
   "id": "1b97ad37-26df-4bdc-96bd-b19b7055f50f",
   "metadata": {},
   "outputs": [
    {
     "name": "stdout",
     "output_type": "stream",
     "text": [
      "Replaced List: ['Tutor Joes', 'Computer', 'Education']\n"
     ]
    }
   ],
   "source": [
    "# Write a Python Program to Replace index elements with elements in Other List\n",
    "# Sample Output\n",
    "# ['Tutor Joes', 'Computer', 'Education']\n",
    "# [2, 1, 0, 1, 0, 2, 2, 0, 1, 0, 1, 2]\n",
    "# ['Education', 'Computer', 'Tutor Joes', 'Computer', 'Tutor Joes', 'Education', 'Education', 'Tutor\n",
    "# Joes', 'Computer', 'Tutor Joes', 'Computer', 'Ed\n",
    "\n",
    "\n",
    "def replace_with_indices(input_list, index_list, replacement_list):\n",
    "  \"\"\"\n",
    "  This function replaces elements in a list with elements from another list based on the provided indices.\n",
    "\n",
    "  Args:\n",
    "      input_list: The list containing elements to be replaced.\n",
    "      index_list: A list of indices specifying which elements to replace.\n",
    "      replacement_list: The list containing elements to use for replacements.\n",
    "\n",
    "  Returns:\n",
    "      A new list with the elements replaced based on the indices and replacements provided.\n",
    "\n",
    "  Raises:\n",
    "      ValueError: If the lengths of index_list and replacement_list are not equal, \n",
    "                  or if an index is out of range for the input_list.\n",
    "  \"\"\"\n",
    "\n",
    "  if len(index_list) != len(replacement_list):\n",
    "    raise ValueError(\"Lengths of index_list and replacement_list must be equal\")\n",
    "\n",
    "  # Create a copy to avoid modifying the original list\n",
    "  result_list = list(input_list)\n",
    "\n",
    "  for i, index in enumerate(index_list):\n",
    "    if 0 <= index < len(input_list):  # Check for valid index\n",
    "      result_list[index] = replacement_list[i]\n",
    "    else:\n",
    "      raise ValueError(f\"Index {index} is out of range for the input list\")\n",
    "\n",
    "  return result_list\n",
    "\n",
    "# Sample lists\n",
    "input_list = ['Tutor Joes', 'Computer', 'Education']\n",
    "index_list = [2, 1, 0, 1, 0, 2, 2, 0, 1, 0, 1, 2]\n",
    "replacement_list = ['Education', 'Computer', 'Tutor Joes', 'Computer', 'Tutor Joes', 'Education', 'Education', 'Tutor Joes', 'Computer', 'Tutor Joes', 'Computer', 'Education']\n",
    "\n",
    "# Replace elements with indices and print the result\n",
    "try:\n",
    "  replaced_list = replace_with_indices(input_list, index_list, replacement_list)\n",
    "  print(f\"Replaced List: {replaced_list}\")\n",
    "except ValueError as e:\n",
    "  print(f\"Error: {e}\")\n"
   ]
  },
  {
   "cell_type": "code",
   "execution_count": 42,
   "id": "65e7bb8b-cf67-4f11-b375-d4bcd3939e10",
   "metadata": {},
   "outputs": [
    {
     "name": "stdout",
     "output_type": "stream",
     "text": [
      "Records with 2 occurrences of 5: []\n"
     ]
    }
   ],
   "source": [
    "# Write a Python Program to Retain records with N occurrences of K\n",
    "# Sample Output\n",
    "# [ (4, 5, 6, 5, 4), (4, 5, 3), (5, 5, 2), (3, 4, 9) ]\n",
    "# K = 5\n",
    "# N = 2\n",
    "# [ (4, 5, 6, 5, 4), (5, 5, 2) ]\n",
    "\n",
    "from collections import Counter\n",
    "\n",
    "def retain_with_n_occurrences(data_list, k, n):\n",
    "  \"\"\"\n",
    "  This function retains records (tuples) from a list where an element (K) appears N times.\n",
    "\n",
    "  Args:\n",
    "      data_list: The list of tuples containing elements.\n",
    "      k: The element to count occurrences for.\n",
    "      n: The desired number of occurrences of the element (K).\n",
    "\n",
    "  Returns:\n",
    "      A new list containing only the records where the element (K) appears N times.\n",
    "  \"\"\"\n",
    "\n",
    "  # Count occurrences of each element\n",
    "  element_counts = Counter(item for sublist in data_list for item in sublist)\n",
    "\n",
    "  # Filter records based on K's occurrence count\n",
    "  return [record for record in data_list if element_counts[k] == n]\n",
    "\n",
    "# Sample data list, K, and N\n",
    "data_list = [(4, 5, 6, 5, 4), (4, 5, 3), (5, 5, 2), (3, 4, 9)]\n",
    "k = 5\n",
    "n = 2\n",
    "\n",
    "# Find and print records with N occurrences of K\n",
    "filtered_list = retain_with_n_occurrences(data_list, k, n)\n",
    "print(f\"Records with {n} occurrences of {k}: {filtered_list}\")\n"
   ]
  },
  {
   "cell_type": "code",
   "execution_count": 43,
   "id": "43bb6ad3-b10f-4b0b-892d-6082eb66f847",
   "metadata": {},
   "outputs": [
    {
     "name": "stdout",
     "output_type": "stream",
     "text": [
      "Swapped List: ['Tutor', 'Education', 'Computer', 'joes']\n"
     ]
    }
   ],
   "source": [
    "# Write a Python Program to Swap elements in String list\n",
    "# Sample Output\n",
    "# ['Tutor', 'joes', 'Computer', 'Education']\n",
    "# ['Tutor', \"Joe's\", 'Software', 'Solutions']\n",
    "\n",
    "def swap_elements(string_list, index1, index2):\n",
    "  \"\"\"\n",
    "  This function swaps elements at specified indices in a list of strings.\n",
    "\n",
    "  Args:\n",
    "      string_list: The list of strings to swap elements in.\n",
    "      index1: The zero-based index of the first element to swap.\n",
    "      index2: The zero-based index of the second element to swap.\n",
    "\n",
    "  Returns:\n",
    "      A new list with the elements at the given indices swapped.\n",
    "\n",
    "  Raises:\n",
    "      IndexError: If either index is out of range for the string_list.\n",
    "  \"\"\"\n",
    "\n",
    "  if 0 <= index1 < len(string_list) and 0 <= index2 < len(string_list):\n",
    "    # Create a copy to avoid modifying the original list\n",
    "    swapped_list = list(string_list)\n",
    "    swapped_list[index1], swapped_list[index2] = swapped_list[index2], swapped_list[index1]\n",
    "    return swapped_list\n",
    "  else:\n",
    "    raise IndexError(\"Indices must be within the range of the string list\")\n",
    "\n",
    "# Sample string list\n",
    "string_list = ['Tutor', 'joes', 'Computer', 'Education']\n",
    "\n",
    "# Swap elements at indices 1 and 3 (zero-based indexing)\n",
    "try:\n",
    "  swapped_list = swap_elements(string_list, 1, 3)\n",
    "  print(f\"Swapped List: {swapped_list}\")\n",
    "except IndexError as e:\n",
    "  print(f\"Error: {e}\")\n",
    "\n"
   ]
  },
  {
   "cell_type": "code",
   "execution_count": 44,
   "id": "d3cfcb4f-500f-4dc6-bb45-1e791137ee67",
   "metadata": {},
   "outputs": [
    {
     "name": "stdout",
     "output_type": "stream",
     "text": [
      "Original list: ['Tutor', 'joes', 'Computer', 'Education']\n",
      "Reversed list: ['rotuT', 'seoj', 'retupmoC', 'noitacudE']\n"
     ]
    }
   ],
   "source": [
    "# . Write a Python program to reverse All Strings in String List\n",
    "# Sample Output\n",
    "# Original list = ['Tutor', 'joes', 'Computer', 'Education']\n",
    "# Reversed list = ['rotuT', 'seoj', 'retupmoC', 'noitacudE']\n",
    "# Reversed list = ['Education', 'Computer', 'joes', 'Tutor']\n",
    "\n",
    "def reverse_all_strings(string_list):\n",
    "  \"\"\"\n",
    "  This function reverses all strings in a list of strings.\n",
    "\n",
    "  Args:\n",
    "      string_list: The list of strings to reverse.\n",
    "\n",
    "  Returns:\n",
    "      A new list containing the reversed strings.\n",
    "  \"\"\"\n",
    "\n",
    "  # List comprehension for concise string reversal\n",
    "  return [string[::-1] for string in string_list]\n",
    "\n",
    "# Sample string list\n",
    "original_list = ['Tutor', 'joes', 'Computer', 'Education']\n",
    "\n",
    "# Reverse all strings and print the results\n",
    "reversed_list = reverse_all_strings(original_list)\n",
    "print(f\"Original list: {original_list}\")\n",
    "print(f\"Reversed list: {reversed_list}\")\n"
   ]
  },
  {
   "cell_type": "code",
   "execution_count": 45,
   "id": "847a70c7-23d3-4b11-99d7-4d1801c43501",
   "metadata": {},
   "outputs": [
    {
     "name": "stdout",
     "output_type": "stream",
     "text": [
      "K (20) is out of range for the list length\n"
     ]
    }
   ],
   "source": [
    "# Write a Python program to find the character position of Kth word from a list of strings\n",
    "# Sample Output\n",
    "# ['Tutor', 'joes', 'Computer', 'Education']\n",
    "# K = 20\n",
    "# Index of character at Kth position word: 3\n",
    "\n",
    "def find_kth_char_position(string_list, k):\n",
    "  \"\"\"\n",
    "  This function finds the character position of the Kth word (zero-based indexing) from a list of strings.\n",
    "\n",
    "  Args:\n",
    "      string_list: The list of strings to search.\n",
    "      k: The index of the word (zero-based).\n",
    "\n",
    "  Returns:\n",
    "      The character position (index) of the Kth word, or -1 if K is out of range.\n",
    "\n",
    "  Raises:\n",
    "      ValueError: If K is negative.\n",
    "  \"\"\"\n",
    "\n",
    "  if k < 0:\n",
    "    raise ValueError(\"K cannot be negative\")\n",
    "\n",
    "  total_chars = 0  # Track total characters across all words\n",
    "  for i, word in enumerate(string_list):\n",
    "    if i == k:\n",
    "      return total_chars  # Return position if Kth word is found\n",
    "    total_chars += len(word) + 1  # Add word length and 1 for space\n",
    "\n",
    "  return -1  # K is out of range\n",
    "\n",
    "# Sample string list and K value\n",
    "string_list = ['Tutor', 'joes', 'Computer', 'Education']\n",
    "k = 20\n",
    "\n",
    "try:\n",
    "  char_position = find_kth_char_position(string_list, k)\n",
    "  if char_position == -1:\n",
    "    print(f\"K ({k}) is out of range for the list length\")\n",
    "  else:\n",
    "    print(f\"Index of character at Kth ({k}) position word: {char_position}\")\n",
    "except ValueError as e:\n",
    "  print(f\"Error: {e}\")\n"
   ]
  },
  {
   "cell_type": "code",
   "execution_count": 46,
   "id": "d76693ca-5611-4ef7-9433-0705eb39df29",
   "metadata": {},
   "outputs": [
    {
     "name": "stdout",
     "output_type": "stream",
     "text": [
      "Strings count with matching prefix 'Tj': 0\n"
     ]
    }
   ],
   "source": [
    "# Write a Python Program to Prefix frequency in string List\n",
    "# Sample Output\n",
    "# ['TjC', 'TjCpp', 'TjPython', 'Java']\n",
    "# Prefix = 'Tj'\n",
    "# Strings count with matching frequency : 3\n",
    "\n",
    "from collections import Counter\n",
    "\n",
    "def find_prefix_frequency(string_list, prefix):\n",
    "  \"\"\"\n",
    "  This function finds the number of strings in a list that start with a given prefix.\n",
    "\n",
    "  Args:\n",
    "      string_list: The list of strings to search.\n",
    "      prefix: The prefix to search for.\n",
    "\n",
    "  Returns:\n",
    "      The number of strings in the list that start with the prefix.\n",
    "  \"\"\"\n",
    "\n",
    "  # Count occurrences of prefixes using list comprehension\n",
    "  prefix_counts = Counter(string for string in string_list if string.startswith(prefix))\n",
    "\n",
    "  # Get the count for the specific prefix (if it exists)\n",
    "  count = prefix_counts.get(prefix, 0)\n",
    "\n",
    "  return count\n",
    "\n",
    "# Sample string list and prefix\n",
    "string_list = ['TjC', 'TjCpp', 'TjPython', 'Java']\n",
    "prefix = 'Tj'\n",
    "\n",
    "# Find and print the count of strings with the prefix\n",
    "count = find_prefix_frequency(string_list, prefix)\n",
    "print(f\"Strings count with matching prefix '{prefix}': {count}\")\n"
   ]
  },
  {
   "cell_type": "code",
   "execution_count": 47,
   "id": "ce28583b-c738-48c3-949d-16c7643c6253",
   "metadata": {},
   "outputs": [
    {
     "name": "stdout",
     "output_type": "stream",
     "text": [
      "List after splitting on prefix 'Tj': [['TjC'], ['TjCpp'], ['TjPython', 'Java', 'tj']]\n"
     ]
    }
   ],
   "source": [
    "# Write a Python Program to Split Strings on Prefix Occurrence\n",
    "# Sample Output\n",
    "# ['TjC', 'TjCpp', 'TjPython', 'Java', 'tj']\n",
    "# Prefix = 'Tj'\n",
    "# [ ['TjC'], ['TjCpp'], ['TjPython', 'Java', 'tj'] ]\n",
    "\n",
    "\n",
    "def split_strings_on_prefix(string_list, prefix):\n",
    "  \"\"\"\n",
    "  This function splits a list of strings into sublists based on the occurrence of a prefix.\n",
    "\n",
    "  Args:\n",
    "      string_list: The list of strings to split.\n",
    "      prefix: The prefix to split on.\n",
    "\n",
    "  Returns:\n",
    "      A list of sublists, where each sublist contains strings that share the same prefix \n",
    "      (including the prefix itself if it exists as a separate string).\n",
    "  \"\"\"\n",
    "\n",
    "  result = []\n",
    "  current_sublist = []\n",
    "  for string in string_list:\n",
    "    if string.startswith(prefix):\n",
    "      if current_sublist:  # Add previous sublist if not empty\n",
    "        result.append(current_sublist)\n",
    "      current_sublist = [string]  # Start a new sublist with the prefix\n",
    "    else:\n",
    "      current_sublist.append(string)  # Add non-prefix strings to the current sublist\n",
    "\n",
    "  # Add the last sublist if it's not empty\n",
    "  if current_sublist:\n",
    "    result.append(current_sublist)\n",
    "\n",
    "  return result\n",
    "\n",
    "# Sample string list and prefix\n",
    "string_list = ['TjC', 'TjCpp', 'TjPython', 'Java', 'tj']\n",
    "prefix = 'Tj'\n",
    "\n",
    "# Split strings and print the result\n",
    "split_lists = split_strings_on_prefix(string_list, prefix)\n",
    "print(f\"List after splitting on prefix '{prefix}': {split_lists}\")\n"
   ]
  },
  {
   "cell_type": "code",
   "execution_count": 48,
   "id": "9bf7a35d-333a-48d1-8201-3d2b19b2234b",
   "metadata": {},
   "outputs": [
    {
     "name": "stdout",
     "output_type": "stream",
     "text": [
      "Original list: ['P', 'Y', 'T', 'H', 'O', 'N']\n",
      "Replaced list: ['T', 'T', 'T', 'T', 'T', 'T']\n"
     ]
    }
   ],
   "source": [
    "# Write a Python program to Replace all Characters of a List Except the given character\n",
    "# Sample Output\n",
    "# ['P', 'Y', 'T', 'H', 'O', 'N']\n",
    "# ['@', '@', 'T', '@', '@', '@']\n",
    "\n",
    "\n",
    "def replace_except_char(char_list, replace_char):\n",
    "  \"\"\"\n",
    "  This function replaces all characters in a list except the given character.\n",
    "\n",
    "  Args:\n",
    "      char_list: The list of characters to replace.\n",
    "      replace_char: The character to keep.\n",
    "\n",
    "  Returns:\n",
    "      A new list with all characters except `replace_char` replaced with another character.\n",
    "  \"\"\"\n",
    "\n",
    "  return [replace_char if char != replace_char else char for char in char_list]\n",
    "\n",
    "# Sample character list and replacement character\n",
    "char_list = ['P', 'Y', 'T', 'H', 'O', 'N']\n",
    "replace_char = 'T'\n",
    "\n",
    "# Replace characters and print the result\n",
    "replaced_list = replace_except_char(char_list, replace_char)\n",
    "print(f\"Original list: {char_list}\")\n",
    "print(f\"Replaced list: {replaced_list}\")\n"
   ]
  },
  {
   "cell_type": "code",
   "execution_count": 49,
   "id": "7e5311f7-7db4-4cae-b7aa-6391412ed537",
   "metadata": {},
   "outputs": [
    {
     "name": "stdout",
     "output_type": "stream",
     "text": [
      "Original list: ['TutorJoes', 'ComputerEducations']\n",
      "List with spaces added: ['Tutor Joes', 'Computer Educations']\n"
     ]
    }
   ],
   "source": [
    "# Write a Python Program to Add Space between Potential Words\n",
    "# Sample Output\n",
    "# ['TutorJoes', 'ComputerEducations']\n",
    "# # [' Tutor Joes', ' Computer Educations']\n",
    "\n",
    "def add_spaces(string_list):\n",
    "  \"\"\"\n",
    "  This function adds spaces between potential words in a list of strings.\n",
    "\n",
    "  Args:\n",
    "      string_list: The list of strings to process.\n",
    "\n",
    "  Returns:\n",
    "      A new list with spaces added between potential words.\n",
    "  \"\"\"\n",
    "\n",
    "  # Function for efficient character-wise processing (optional)\n",
    "  def split_on_case_change(word):\n",
    "    \"\"\"\n",
    "    This function splits a word on uppercase letter transitions.\n",
    "\n",
    "    Args:\n",
    "        word: The word to split.\n",
    "\n",
    "    Returns:\n",
    "        A list of potential words from the original word.\n",
    "    \"\"\"\n",
    "    result = []\n",
    "    current_word = \"\"\n",
    "    for char in word:\n",
    "      if char.isupper() and current_word:\n",
    "        result.append(current_word)\n",
    "        current_word = \"\"\n",
    "      current_word += char\n",
    "    if current_word:\n",
    "      result.append(current_word)\n",
    "    return result\n",
    "\n",
    "  # Process each string in the list\n",
    "  result_list = []\n",
    "  for string in string_list:\n",
    "    # Use list comprehension for potential words (optional)\n",
    "    potential_words = split_on_case_change(string)  # Uncomment for case-based splitting\n",
    "    # potential_words = [char for char in string]  # Comment out for case-based splitting\n",
    "\n",
    "    # Join potential words with spaces\n",
    "    spaced_string = \" \".join(potential_words)\n",
    "    result_list.append(spaced_string)\n",
    "\n",
    "  return result_list\n",
    "\n",
    "# Sample string list\n",
    "string_list = ['TutorJoes', 'ComputerEducations']\n",
    "\n",
    "# Add spaces and print the result\n",
    "spaced_list = add_spaces(string_list)\n",
    "print(f\"Original list: {string_list}\")\n",
    "print(f\"List with spaces added: {spaced_list}\")\n"
   ]
  },
  {
   "cell_type": "code",
   "execution_count": null,
   "id": "fb085d0a-504b-418a-bbcd-edb43e42bdd5",
   "metadata": {},
   "outputs": [],
   "source": []
  }
 ],
 "metadata": {
  "kernelspec": {
   "display_name": "Python 3 (ipykernel)",
   "language": "python",
   "name": "python3"
  },
  "language_info": {
   "codemirror_mode": {
    "name": "ipython",
    "version": 3
   },
   "file_extension": ".py",
   "mimetype": "text/x-python",
   "name": "python",
   "nbconvert_exporter": "python",
   "pygments_lexer": "ipython3",
   "version": "3.12.1"
  }
 },
 "nbformat": 4,
 "nbformat_minor": 5
}
