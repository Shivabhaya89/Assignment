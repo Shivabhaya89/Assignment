{
 "cells": [
  {
   "cell_type": "markdown",
   "id": "112bfb11-04cc-4cd0-939c-cddb435a0bbb",
   "metadata": {},
   "source": [
    "## TASK 1"
   ]
  },
  {
   "cell_type": "code",
   "execution_count": 1,
   "id": "fb27ce14-c2b3-4c17-bbf1-a398a259da2a",
   "metadata": {},
   "outputs": [
    {
     "name": "stdin",
     "output_type": "stream",
     "text": [
      "Enter Ramesh's basic salary:  22\n"
     ]
    },
    {
     "name": "stdout",
     "output_type": "stream",
     "text": [
      "Ramesh's gross salary: 35.20\n"
     ]
    }
   ],
   "source": [
    "#  Ramesh's basic salary is input through the keyboard. His dearness allowance is 40% of\n",
    "# basic salary, and house rent allowance is 20% of basic salary. Write a program to calculate\n",
    "# his gross salary.\n",
    "\n",
    "def calculate_gross_salary():\n",
    "\n",
    "  try:\n",
    "    basic_salary = float(input(\"Enter Ramesh's basic salary: \"))\n",
    "    dearness_allowance = basic_salary * 0.4\n",
    "    house_rent_allowance = basic_salary * 0.2\n",
    "    gross_salary = basic_salary + dearness_allowance + house_rent_allowance\n",
    "    print(f\"Ramesh's gross salary: {gross_salary:.2f}\")\n",
    "  except ValueError:\n",
    "    print(\"Invalid input. Please enter a valid number for basic salary.\")\n",
    "\n",
    "if __name__ == \"__main__\":\n",
    "  calculate_gross_salary()\n",
    "\n"
   ]
  },
  {
   "cell_type": "code",
   "execution_count": 2,
   "id": "eac98e80-4dcc-41e1-8f77-40e6dd6cd45f",
   "metadata": {},
   "outputs": [
    {
     "name": "stdin",
     "output_type": "stream",
     "text": [
      "Enter distance in kilometers:  33\n"
     ]
    },
    {
     "name": "stdout",
     "output_type": "stream",
     "text": [
      "33.0 km is equivalent to:\n",
      "- 33000.00 meters\n",
      "- 108267.72 feet\n",
      "- 1299212.64 inches\n",
      "- 3300000.00 centimeters\n"
     ]
    }
   ],
   "source": [
    "# The distance between two cities (in km.) is input through the keyboard. Write a program\n",
    "# to convert and print this distance in meters, feet, inches and centimeters.\n",
    "\n",
    "def convert_distance_units(distance_km):\n",
    "  \n",
    "\n",
    "  conversion_factors = {\n",
    "      \"meters\": 1000,\n",
    "      \"feet\": 3280.84,\n",
    "      \"inches\": 3280.84 * 12,\n",
    "      \"centimeters\": 1000 * 100\n",
    "  }\n",
    "\n",
    "  converted_distances = {}\n",
    "  for unit, factor in conversion_factors.items():\n",
    "    converted_distances[unit] = distance_km * factor\n",
    "\n",
    "  return converted_distances\n",
    "\n",
    "def main():\n",
    "  \"\"\"\n",
    "  This function prompts the user for the distance in kilometers, calls the conversion function,\n",
    "  and prints the results.\n",
    "  \"\"\"\n",
    "\n",
    "  try:\n",
    "    distance_km = float(input(\"Enter distance in kilometers: \"))\n",
    "    converted_distances = convert_distance_units(distance_km)\n",
    "\n",
    "    print(f\"{distance_km} km is equivalent to:\")\n",
    "    for unit, distance in converted_distances.items():\n",
    "      print(f\"- {distance:.2f} {unit}\")\n",
    "  except ValueError:\n",
    "    print(\"Invalid input. Please enter a valid number for distance.\")\n",
    "\n",
    "if __name__ == \"__main__\":\n",
    "  main()\n"
   ]
  },
  {
   "cell_type": "code",
   "execution_count": 3,
   "id": "eeb463c4-3585-466d-9b2e-928d37e5ddb3",
   "metadata": {},
   "outputs": [
    {
     "name": "stdin",
     "output_type": "stream",
     "text": [
      "Enter marks for subject 1:  33\n",
      "Enter marks for subject 2:  33\n",
      "Enter marks for subject 3:  33\n",
      "Enter marks for subject 4:  33\n",
      "Enter marks for subject 5:  33\n"
     ]
    },
    {
     "name": "stdout",
     "output_type": "stream",
     "text": [
      "Aggregate marks: 165\n",
      "Percentage marks: 33.00%\n"
     ]
    }
   ],
   "source": [
    "# If the marks obtained by a student in five different subjects are input through the\n",
    "# keyboard, find out the aggregate marks and percentage marks obtained by the student.\n",
    "# Assume that the maximum marks that can be obtained by a student in each subject is 100.\n",
    "def calculate_marks():\n",
    "  \"\"\"\n",
    "  This function calculates the aggregate and percentage marks of a student in five subjects.\n",
    "  \"\"\"\n",
    "\n",
    "  try:\n",
    "    total_marks = 0\n",
    "    max_marks = 100\n",
    "\n",
    "    for subject in range(1, 6):\n",
    "      # Input with validation\n",
    "      while True:\n",
    "        marks = input(f\"Enter marks for subject {subject}: \")\n",
    "        try:\n",
    "          marks = int(marks)\n",
    "          if 0 <= marks <= max_marks:\n",
    "            break\n",
    "          else:\n",
    "            print(f\"Invalid marks. Please enter a value between 0 and {max_marks}.\")\n",
    "        except ValueError:\n",
    "          print(\"Invalid input. Please enter a valid number.\")\n",
    "\n",
    "      total_marks += marks\n",
    "\n",
    "    aggregate = total_marks\n",
    "    percentage = (total_marks / (max_marks * 5)) * 100\n",
    "\n",
    "    print(f\"Aggregate marks: {aggregate}\")\n",
    "    print(f\"Percentage marks: {percentage:.2f}%\")\n",
    "  except KeyboardInterrupt:\n",
    "    print(\"\\nExiting program...\")\n",
    "\n",
    "if __name__ == \"__main__\":\n",
    "  calculate_marks()\n",
    "\n"
   ]
  },
  {
   "cell_type": "code",
   "execution_count": 4,
   "id": "36c559a8-fd3e-4da3-b2d8-023e2c335fb5",
   "metadata": {},
   "outputs": [
    {
     "name": "stdin",
     "output_type": "stream",
     "text": [
      "Enter the temperature in Fahrenheit:  33\n"
     ]
    },
    {
     "name": "stdout",
     "output_type": "stream",
     "text": [
      "33.00°F is equivalent to 0.56°C\n"
     ]
    }
   ],
   "source": [
    "# Temperature of a city in Fahrenheit degrees is input through the keyboard. Write a\n",
    "# program to convert this temperature into Centigrade degrees\n",
    "\n",
    "# Prompt the user to enter the temperature in Fahrenheit\n",
    "temp_fahrenheit = float(input(\"Enter the temperature in Fahrenheit: \"))\n",
    "\n",
    "# Formula to convert Fahrenheit to Centigrade\n",
    "temp_centigrade = (temp_fahrenheit - 32) * 5 / 9\n",
    "\n",
    "# Print the temperature in Fahrenheit and Centigrade\n",
    "print(f\"{temp_fahrenheit:.2f}°F is equivalent to {temp_centigrade:.2f}°C\")\n",
    "\n"
   ]
  },
  {
   "cell_type": "code",
   "execution_count": 5,
   "id": "cf15cf3b-b498-4a5d-920d-0a9e5bb2748c",
   "metadata": {},
   "outputs": [
    {
     "name": "stdin",
     "output_type": "stream",
     "text": [
      "Enter the length of the rectangle:  33\n",
      "Enter the breadth of the rectangle:  33\n",
      "Enter the radius of the circle:  33\n"
     ]
    },
    {
     "name": "stdout",
     "output_type": "stream",
     "text": [
      "Rectangle:\n",
      "\tArea: 1089.00\n",
      "\tPerimeter: 132.00\n",
      "Circle:\n",
      "\tArea: 3421.19\n",
      "\tCircumference: 207.34\n"
     ]
    }
   ],
   "source": [
    "# 5. The length & breadth of a rectangle and radius of a circle are input through the\n",
    "# keyboard. Write a program to calculate the area & perimeter of the rectangle, and the area\n",
    "# & circumference of the circle.\n",
    "\n",
    "# Define functions to calculate rectangle properties\n",
    "def rectangle_area(length, breadth):\n",
    "  \"\"\"Calculates the area of a rectangle.\"\"\"\n",
    "  return length * breadth\n",
    "\n",
    "def rectangle_perimeter(length, breadth):\n",
    "  \"\"\"Calculates the perimeter of a rectangle.\"\"\"\n",
    "  return 2 * (length + breadth)\n",
    "\n",
    "# Define functions to calculate circle properties\n",
    "def circle_area(radius):\n",
    "  \"\"\"Calculates the area of a circle.\"\"\"\n",
    "  pi = 3.14159  # Define pi for circle calculations\n",
    "  return pi * radius * radius\n",
    "\n",
    "def circle_circumference(radius):\n",
    "  \"\"\"Calculates the circumference of a circle.\"\"\"\n",
    "  pi = 3.14159  # Define pi for circle calculations\n",
    "  return 2 * pi * radius\n",
    "\n",
    "# Get rectangle dimensions from user\n",
    "length = float(input(\"Enter the length of the rectangle: \"))\n",
    "breadth = float(input(\"Enter the breadth of the rectangle: \"))\n",
    "\n",
    "# Get circle radius from user\n",
    "radius = float(input(\"Enter the radius of the circle: \"))\n",
    "\n",
    "# Calculate rectangle properties\n",
    "rectangle_area_value = rectangle_area(length, breadth)\n",
    "rectangle_perimeter_value = rectangle_perimeter(length, breadth)\n",
    "\n",
    "# Calculate circle properties\n",
    "circle_area_value = circle_area(radius)\n",
    "circle_circumference_value = circle_circumference(radius)\n",
    "\n",
    "# Print results\n",
    "print(\"Rectangle:\")\n",
    "print(f\"\\tArea: {rectangle_area_value:.2f}\")  # Display area with 2 decimal places\n",
    "print(f\"\\tPerimeter: {rectangle_perimeter_value:.2f}\")\n",
    "\n",
    "print(\"Circle:\")\n",
    "print(f\"\\tArea: {circle_area_value:.2f}\")  # Display area with 2 decimal places\n",
    "print(f\"\\tCircumference: {circle_circumference_value:.2f}\")\n",
    "\n",
    "\n"
   ]
  },
  {
   "cell_type": "code",
   "execution_count": 6,
   "id": "39a6d241-d91f-4aff-aa03-658a65185729",
   "metadata": {},
   "outputs": [
    {
     "name": "stdin",
     "output_type": "stream",
     "text": [
      "Enter the value for C:  33\n",
      "Enter the value for D:  33\n"
     ]
    },
    {
     "name": "stdout",
     "output_type": "stream",
     "text": [
      "After interchange:\n",
      "C: 33\n",
      "D: 33\n"
     ]
    }
   ],
   "source": [
    "# Two numbers are input through the keyboard into two locations C and D. Write a\n",
    "# program to interchange the contents of C and D\n",
    "\n",
    "\n",
    "# Initialize variables C and D\n",
    "C = int(input(\"Enter the value for C: \"))\n",
    "D = int(input(\"Enter the value for D: \"))\n",
    "\n",
    "# Temporary variable to hold the value of C\n",
    "temp = C\n",
    "\n",
    "# Assign the value of D to C\n",
    "C = D\n",
    "\n",
    "# Assign the original value of C (stored in temp) to D\n",
    "D = temp\n",
    "\n",
    "# Print the interchanged values\n",
    "print(\"After interchange:\")\n",
    "print(f\"C: {C}\")\n",
    "print(f\"D: {D}\")\n"
   ]
  },
  {
   "cell_type": "code",
   "execution_count": 7,
   "id": "95c5574e-3a5a-4d6d-bf5a-baa9b064d9cb",
   "metadata": {},
   "outputs": [
    {
     "name": "stdin",
     "output_type": "stream",
     "text": [
      "Enter a five-digit number:  33\n"
     ]
    },
    {
     "name": "stdout",
     "output_type": "stream",
     "text": [
      "Invalid input. Please enter a five-digit number.\n"
     ]
    }
   ],
   "source": [
    "## If a five-digit number is input through the keyboard, write a program to calculate the\n",
    "# sum of its digits. ( Hint: Use the modulus operator '%')\n",
    "\n",
    "number = int(input(\"Enter a five-digit number: \"))\n",
    "\n",
    "# Input validation (check if the number has 5 digits)\n",
    "if number < 10000 or number > 99999:\n",
    "  print(\"Invalid input. Please enter a five-digit number.\")\n",
    "else:  \n",
    "  # Initialize sum to 0\n",
    "  sum_of_digits = 0\n",
    "\n",
    "  # Extract digits one by one using the modulo operator (%) and division (//)\n",
    "  digit1 = number // 10000  # Thousands digit\n",
    "  digit2 = (number % 10000) // 1000  # Hundreds digit\n",
    "  digit3 = (number % 1000) // 100  # Tens digit\n",
    "  digit4 = (number % 100) // 10  # Units digit (tens place)\n",
    "  digit5 = number % 10  # Last digit (ones place) \n",
    "\n",
    "  # Calculate the sum of digits\n",
    "  sum_of_digits = digit1 + digit2 + digit3 + digit4 + digit5\n",
    "\n",
    "  # Print the sum of digits\n",
    "  print(f\"Sum of digits: {sum_of_digits}\")\n"
   ]
  },
  {
   "cell_type": "code",
   "execution_count": 8,
   "id": "c182aa8b-ca3f-4be3-8772-9fc0e2e05196",
   "metadata": {},
   "outputs": [
    {
     "name": "stdin",
     "output_type": "stream",
     "text": [
      "Enter a five-digit number:  3\n"
     ]
    },
    {
     "name": "stdout",
     "output_type": "stream",
     "text": [
      "Invalid input. Please enter a five-digit number.\n"
     ]
    }
   ],
   "source": [
    "# If a five-digit number is input through the keyboard, write a program to reverse the\n",
    "# number\n",
    "\n",
    "number = int(input(\"Enter a five-digit number: \"))\n",
    "\n",
    "# Input validation (check if the number has 5 digits)\n",
    "if number < 10000 or number > 99999:\n",
    "  print(\"Invalid input. Please enter a five-digit number.\")\n",
    "else:\n",
    "  reversed_number = 0\n",
    "  original_number = number\n",
    "\n",
    "  # Extract digits one by one using the modulo operator (%) and build the reversed number\n",
    "  while number > 0:\n",
    "    digit = number % 10\n",
    "    reversed_number = reversed_number * 10 + digit\n",
    "    number //= 10  # Remove the last digit from the original number\n",
    "\n",
    "  # Print the reversed number\n",
    "  print(f\"Reversed number: {reversed_number}\")\n"
   ]
  },
  {
   "cell_type": "code",
   "execution_count": 9,
   "id": "b330dbe7-fdbf-4cbf-9c74-49338bd01068",
   "metadata": {},
   "outputs": [
    {
     "name": "stdin",
     "output_type": "stream",
     "text": [
      "Enter a four-digit number:  3\n"
     ]
    },
    {
     "name": "stdout",
     "output_type": "stream",
     "text": [
      "Invalid input. Please enter a four-digit number.\n"
     ]
    }
   ],
   "source": [
    "# . If a four-digit number is input through the keyboard, write a program to obtain the sum\n",
    "# of the first and last digit of this number.\n",
    "\n",
    "number = int(input(\"Enter a four-digit number: \"))\n",
    "\n",
    "# Input validation (check if the number has 4 digits)\n",
    "if number < 1000 or number > 9999:\n",
    "  print(\"Invalid input. Please enter a four-digit number.\")\n",
    "else:\n",
    "  # Extract the first digit using integer division\n",
    "  first_digit = number // 1000\n",
    "\n",
    "  # Extract the last digit using the modulo operator\n",
    "  last_digit = number % 10\n",
    "\n",
    "  # Calculate the sum of first and last digit\n",
    "  sum_of_digits = first_digit + last_digit\n",
    "\n",
    "  # Print the sum of digits\n",
    "  print(f\"Sum of first and last digit: {sum_of_digits}\")\n"
   ]
  },
  {
   "cell_type": "code",
   "execution_count": 10,
   "id": "657aeaa3-1f69-4a94-8cf5-f502f8b45744",
   "metadata": {},
   "outputs": [
    {
     "name": "stdout",
     "output_type": "stream",
     "text": [
      "Total number of illiterate men: 13600\n",
      "Total number of illiterate women: 28000\n"
     ]
    }
   ],
   "source": [
    "#  In a town, the percentage of men is 52. The percentage of total literacy is 48. If total\n",
    "# percentage of literate men is 35 of the total population, write a program to find the total\n",
    "# number of illiterate men and women if the population of the town is 80,000.\n",
    "\n",
    "# Total population of the town\n",
    "total_population = 80000\n",
    "\n",
    "# Percentage of men\n",
    "men_percentage = 52\n",
    "women_percentage = 100 - men_percentage  # Percentage of women\n",
    "\n",
    "# Total literacy rate\n",
    "total_literacy_percentage = 48\n",
    "\n",
    "# Percentage of literate men (as a portion of the total population)\n",
    "literate_men_percentage = 35\n",
    "\n",
    "# Calculate the number of men and women\n",
    "men_count = total_population * (men_percentage / 100)\n",
    "women_count = total_population * (women_percentage / 100)\n",
    "\n",
    "# Calculate the total number of literate people\n",
    "literate_population = total_population * (total_literacy_percentage / 100)\n",
    "\n",
    "# Calculate the number of literate men (as a portion of the total population)\n",
    "literate_men_count = total_population * (literate_men_percentage / 100)\n",
    "\n",
    "# Calculate the number of illiterate men and women\n",
    "illiterate_men_count = men_count - literate_men_count\n",
    "illiterate_women_count = women_count - (literate_population - literate_men_count)\n",
    "\n",
    "# Print the results\n",
    "print(f\"Total number of illiterate men: {int(illiterate_men_count)}\")\n",
    "print(f\"Total number of illiterate women: {int(illiterate_women_count)}\")\n"
   ]
  },
  {
   "cell_type": "code",
   "execution_count": 11,
   "id": "6aa7637a-74a2-4064-b81c-073d7fdd253b",
   "metadata": {},
   "outputs": [
    {
     "name": "stdin",
     "output_type": "stream",
     "text": [
      "Enter the amount to withdraw in hundreds:  3\n"
     ]
    },
    {
     "name": "stdout",
     "output_type": "stream",
     "text": [
      "Number of Rs.100 notes: 0\n",
      "Number of Rs.50 notes: 0\n",
      "Number of Rs.10 notes: 0\n"
     ]
    }
   ],
   "source": [
    "# . A cashier has currency notes of denominations 10, 50 and 100. If the amount to be\n",
    "# withdrawn is input through the keyboard in hundreds, find the total number of currency\n",
    "# notes of each denomination the cashier will have to give to the withdrawer.\n",
    "\n",
    "\n",
    "withdrawal_amount = int(input(\"Enter the amount to withdraw in hundreds: \"))\n",
    "\n",
    "# Denomination values\n",
    "hundred_value = 100\n",
    "fifty_value = 50\n",
    "ten_value = 10\n",
    "\n",
    "# Calculate the number of notes of each denomination\n",
    "hundred_notes = withdrawal_amount // hundred_value\n",
    "remaining_amount = withdrawal_amount % hundred_value\n",
    "\n",
    "fifty_notes = remaining_amount // fifty_value\n",
    "remaining_amount = remaining_amount % fifty_value\n",
    "\n",
    "ten_notes = remaining_amount // ten_value\n",
    "\n",
    "# Print the results\n",
    "print(f\"Number of Rs.100 notes: {hundred_notes}\")\n",
    "print(f\"Number of Rs.50 notes: {fifty_notes}\")\n",
    "print(f\"Number of Rs.10 notes: {ten_notes}\")\n"
   ]
  },
  {
   "cell_type": "code",
   "execution_count": 12,
   "id": "01942e01-d9ec-480f-891b-3a08983c3921",
   "metadata": {},
   "outputs": [
    {
     "name": "stdin",
     "output_type": "stream",
     "text": [
      "Enter the total selling price of 15 items:  3\n",
      "Enter the total profit earned:  3\n"
     ]
    },
    {
     "name": "stdout",
     "output_type": "stream",
     "text": [
      "Cost price of one item: 0.00\n"
     ]
    }
   ],
   "source": [
    "# . If the total selling price of 15 items and the total profit earned on them is input through\n",
    "# the keyboard, write a program to find the cost price of one item\n",
    "\n",
    "total_selling_price = float(input(\"Enter the total selling price of 15 items: \"))\n",
    "total_profit = float(input(\"Enter the total profit earned: \"))\n",
    "\n",
    "# Calculate the total cost price\n",
    "total_cost_price = total_selling_price - total_profit\n",
    "\n",
    "# Calculate the cost price of one item\n",
    "cost_price_per_item = total_cost_price / 15\n",
    "\n",
    "# Print the cost price of one item (assuming two decimal places)\n",
    "print(f\"Cost price of one item: {cost_price_per_item:.2f}\")\n"
   ]
  },
  {
   "cell_type": "code",
   "execution_count": 13,
   "id": "9bd23959-3a64-4c28-8df7-93d611c8aaf6",
   "metadata": {},
   "outputs": [
    {
     "name": "stdin",
     "output_type": "stream",
     "text": [
      "Enter a five-digit number:  3\n"
     ]
    },
    {
     "name": "stdout",
     "output_type": "stream",
     "text": [
      "Invalid input. Please enter a five-digit number.\n"
     ]
    }
   ],
   "source": [
    "# . If a five-digit number is input through the keyboard, write a program to print a new\n",
    "# number by adding one to each of its digits. For example, if the number that is input is\n",
    "# 12391 then the output should be displayed as 23402.\n",
    "\n",
    "number = int(input(\"Enter a five-digit number: \"))\n",
    "\n",
    "# Input validation (check if the number has 5 digits)\n",
    "if number < 10000 or number > 99999:\n",
    "  print(\"Invalid input. Please enter a five-digit number.\")\n",
    "else:\n",
    "  # Initialize a variable to store the modified number\n",
    "  new_number = 0\n",
    "  # Place value for each digit (10000 for thousands digit, 1000 for hundreds digit, and so on)\n",
    "  place_value = 10000\n",
    "\n",
    "  while number > 0:\n",
    "    # Extract the last digit\n",
    "    digit = number % 10\n",
    "\n",
    "    # Add 1 to the digit (handling carry if necessary)\n",
    "    new_digit = (digit + 1) % 10\n",
    "\n",
    "    # Add the modified digit to the new number with the appropriate place value\n",
    "    new_number += new_digit * place_value\n",
    "\n",
    " # Remove the last digit from the original number\n",
    "    number //= 10\n",
    "\n",
    "    # Reduce the place value for the next iteration\n",
    "    place_value //= 10\n",
    "\n",
    "  # Print the new number\n",
    "  print(f\"New number: {new_number}\")\n"
   ]
  },
  {
   "cell_type": "markdown",
   "id": "d58d335e-a454-4bc4-99a9-ab35d8fed81c",
   "metadata": {},
   "source": [
    "## TASK  2"
   ]
  },
  {
   "cell_type": "code",
   "execution_count": null,
   "id": "ae4a06e7-7031-4cc4-8925-6d52a1fe62bf",
   "metadata": {},
   "outputs": [],
   "source": [
    "# While purchasing certain items, a discount of 10% is offered if the quantity purchased is\n",
    "# more than 10. If quantity and price per item are input through the keyboard, write a\n",
    "# program to calculate the total expenses.\n",
    "\n",
    "quantity = int(input(\"Enter the quantity of items purchased: \"))\n",
    "price_per_item = float(input(\"Enter the price per item: \"))\n",
    "\n",
    "# Calculate total price without discount\n",
    "total_price = quantity * price_per_item\n",
    "\n",
    "# Apply discount if quantity is more than 10\n",
    "if quantity > 10:\n",
    "  discount_rate = 0.1  # Discount percentage as a decimal (10%)\n",
    "  discount_amount = total_price * discount_rate\n",
    "  total_price_after_discount = total_price - discount_amount\n",
    "  print(f\"Total expenses with discount: {total_price_after_discount:.2f}\")\n",
    "else:\n",
    "  print(f\"Total expenses without discount: {total_price:.2f}\")\n",
    "\n"
   ]
  },
  {
   "cell_type": "code",
   "execution_count": null,
   "id": "c66426c0-33bc-4a6d-838b-d56e99e5ff4c",
   "metadata": {},
   "outputs": [],
   "source": [
    "# #The current year and the year in which the employee joined the organization are entered\n",
    "# through the keyboard. If the number of years for which the employee has served the\n",
    "# organization is greater than 3 then a bonus of Rs. 2500/- is given to the employee. If the\n",
    "# years of service are not greater than 3, then the program should do nothing.\n",
    "\n",
    "current_year = int(input(\"Enter the current year: \"))\n",
    "join_year = int(input(\"Enter the year the employee joined: \"))\n",
    "\n",
    "# Calculate years of service\n",
    "years_of_service = current_year - join_year\n",
    "\n",
    "# Check for bonus eligibility (more than 3 years)\n",
    "if years_of_service > 3:\n",
    "  bonus_amount = 2500\n",
    "  print(f\"The employee is eligible for a bonus of Rs. {bonus_amount}.\")\n",
    "else:\n",
    "  print(\"The employee is not eligible for a bonus this year.\")\n"
   ]
  },
  {
   "cell_type": "code",
   "execution_count": 2,
   "id": "7e1b15fb-4598-45f9-be22-d2976d1dc543",
   "metadata": {},
   "outputs": [
    {
     "name": "stdin",
     "output_type": "stream",
     "text": [
      "Enter the employee's basic salary:  33\n"
     ]
    },
    {
     "name": "stdout",
     "output_type": "stream",
     "text": [
      "Gross salary: Rs. 66.00\n"
     ]
    }
   ],
   "source": [
    "# If his basic salary is less than Rs. 1500, then HRA = 10% of basic salary and DA = 90% of\n",
    "# basic salary. If his salary is either equal to or above Rs. 1500, then HRA = Rs. 500 and DA =\n",
    "# 98% of basic salary. If the employee's salary is input through the keyboard write a program\n",
    "# to find his gross salary\n",
    "\n",
    "basic_salary = float(input(\"Enter the employee's basic salary: \"))\n",
    "\n",
    "# Calculate HRA and DA based on salary range\n",
    "if basic_salary < 1500:\n",
    "  hra = 0.1 * basic_salary  # 10% of basic salary\n",
    "  da = 0.9 * basic_salary  # 90% of basic salary\n",
    "else:\n",
    "  hra = 500  # Fixed amount for HRA\n",
    "  da = 0.98 * basic_salary  # 98% of basic salary\n",
    "\n",
    "# Calculate gross salary\n",
    "gross_salary = basic_salary + hra + da\n",
    "\n",
    "# Print the gross salary\n",
    "print(f\"Gross salary: Rs. {gross_salary:.2f}\")\n"
   ]
  },
  {
   "cell_type": "code",
   "execution_count": 3,
   "id": "ea693891-59ca-4283-8660-612240a800f0",
   "metadata": {},
   "outputs": [
    {
     "name": "stdin",
     "output_type": "stream",
     "text": [
      "Enter marks for subject 1:  3434\n",
      "Enter marks for subject 2:  34\n",
      "Enter marks for subject 3:  34\n",
      "Enter marks for subject 4:  34\n",
      "Enter marks for subject 5:  34\n"
     ]
    },
    {
     "name": "stdout",
     "output_type": "stream",
     "text": [
      "Marks obtained:\n",
      "\tSubject 1: 3434\n",
      "\tSubject 2: 34\n",
      "\tSubject 3: 34\n",
      "\tSubject 4: 34\n",
      "\tSubject 5: 34\n",
      "\n",
      "Total Marks: 3570\n",
      "Percentage: 714.00\n",
      "Division: First\n"
     ]
    }
   ],
   "source": [
    " # The marks obtained by a student in 5 different subjects are input through the keyboard. The student gets a division as per the following rules: Write a program to calculate the division obtained by the student. a. Percentage above or equal to 60 - First division b. Percentage between 50 and 59 - Second division c. Percentage \n",
    "\n",
    "# Function to calculate total marks\n",
    "def calculate_total_marks(marks):\n",
    "  \"\"\"Calculates the sum of marks in a list of subjects.\"\"\"\n",
    "  total = sum(marks)\n",
    "  return total\n",
    "\n",
    "# Function to calculate the percentage\n",
    "def calculate_percentage(total_marks):\n",
    "  \"\"\"Calculates the percentage from total marks.\"\"\"\n",
    "  percentage = total_marks / 500 * 100  # Assuming full marks are 500\n",
    "  return percentage\n",
    "\n",
    "# Function to determine the division\n",
    "def determine_division(percentage):\n",
    "  \"\"\"Assigns division based on the percentage.\"\"\"\n",
    "  if percentage >= 60:\n",
    "    division = \"First\"\n",
    "  elif 50 <= percentage < 60:\n",
    "    division = \"Second\"\n",
    "  elif 40 <= percentage < 50:\n",
    "    division = \"Third\"\n",
    "  else:\n",
    "    division = \"Fail\"\n",
    "  return division\n",
    "\n",
    "# Get marks from user\n",
    "marks = []\n",
    "for i in range(1, 6):\n",
    "  subject_mark = int(input(f\"Enter marks for subject {i}: \"))\n",
    "  marks.append(subject_mark)\n",
    "\n",
    "# Calculate total marks, percentage, and division\n",
    "total_marks = calculate_total_marks(marks)\n",
    "percentage = calculate_percentage(total_marks)\n",
    "division = determine_division(percentage)\n",
    "\n",
    "# Print the results\n",
    "print(\"Marks obtained:\")\n",
    "for i in range(1, 6):\n",
    "  print(f\"\\tSubject {i}: {marks[i-1]}\")  # Print subject marks with index adjustment\n",
    "\n",
    "print(f\"\\nTotal Marks: {total_marks}\")\n",
    "print(f\"Percentage: {percentage:.2f}\")  # Display percentage with 2 decimal places\n",
    "print(f\"Division: {division}\")\n"
   ]
  },
  {
   "cell_type": "code",
   "execution_count": null,
   "id": "0dfae994-edd6-453b-8652-55f792364ed6",
   "metadata": {},
   "outputs": [],
   "source": [
    "#### . A company insures its drivers in the following cases:\n",
    "# a. If the driver is married.\n",
    "# b. If the driver is unmarried, male & above 30 years of age.\n",
    "# c. If the driver is unmarried, female & above 25 years of age.\n",
    "marital_status = input(\"Enter marital status (married/unmarried): \")\n",
    "gender = input(\"Enter gender (male/female): \")\n",
    "age = int(input(\"Enter age: \"))\n",
    "\n",
    "# Check eligibility based on conditions\n",
    "eligible = False  # Initialize eligibility flag\n",
    "\n",
    "if marital_status.lower() == \"married\":  # Case a: Married\n",
    "  eligible = True\n",
    "elif marital_status.lower() == \"unmarried\":  # Cases b & c: Unmarried\n",
    "  if gender.lower() == \"male\" and age >= 30:  # Case b: Unmarried, male, above 30\n",
    "    eligible = True\n",
    "  elif gender.lower() == \"female\" and age >= 25:  # Case c: Unmarried, female, above 25\n",
    "    eligible = True\n",
    "\n",
    "# Print the result\n",
    "if eligible:\n",
    "  print(\"Driver is eligible for insurance.\")\n",
    "else:\n",
    "  print(\"Driver is not eligible for insurance.\")\n",
    "\n"
   ]
  },
  {
   "cell_type": "code",
   "execution_count": 7,
   "id": "04f0278f-8c9f-4a1c-82ed-980af36d2402",
   "metadata": {},
   "outputs": [
    {
     "name": "stdin",
     "output_type": "stream",
     "text": [
      "Enter employee's gender (male/female):  male\n",
      "Enter years of service:  200\n",
      "Enter qualifications (Post-Graduate/Graduate):  graduate\n"
     ]
    },
    {
     "name": "stdout",
     "output_type": "stream",
     "text": [
      "Invalid input. Please enter valid gender and qualifications.\n"
     ]
    }
   ],
   "source": [
    "# . Write a program to calculate the salary as per the following table:\n",
    "# Gender Year of Service Qualifications Salary\n",
    "# Male >= 10 Post - Graduate 15000\n",
    "# >= 10 Graduate 10000\n",
    "# < 10 Post - Graduate 10000\n",
    "# < 10 Graduate 7000\n",
    "# Female >= 10 Post - Graduate 12000\n",
    "# >= 10 Graduate 9000\n",
    "# < 10 Post - Graduate 10000\n",
    "# < 10 Graduate 6000\n",
    "\n",
    "def calculate_salary(gender, years_of_service, qualifications):\n",
    "  \"\"\"Calculates the salary based on gender, years of service, and qualifications.\n",
    "\n",
    "  Args:\n",
    "      gender: String representing the employee's gender (\"male\" or \"female\").\n",
    "      years_of_service: Integer representing the number of years the employee has served.\n",
    "      qualifications: String representing the employee's qualifications (\"Post-Graduate\" or \"Graduate\").\n",
    "\n",
    "  Returns:\n",
    "      Float representing the calculated salary, or -1 if invalid input is provided.\n",
    "  \"\"\"\n",
    "\n",
    "  # Validate input (optional, but recommended for robustness)\n",
    "  valid_genders = [\"male\", \"female\"]\n",
    "  valid_qualifications = [\"Post-Graduate\", \"Graduate\"]\n",
    "  if gender.lower() not in valid_genders or qualifications not in valid_qualifications:\n",
    "    return -1  # Indicate invalid input\n",
    "\n",
    "  # Base salary for Graduate qualification\n",
    "  base_graduate_salary = {\n",
    "      \"male\": 7000,\n",
    "      \"female\": 6000\n",
    "  }\n",
    "\n",
    "  # Bonus for Post-Graduate qualification\n",
    "  post_graduate_bonus = 3000  # Applies to both genders\n",
    "\n",
    "  # Bonus for experience (> 10 years)\n",
    "  experience_bonus = {\n",
    "      \"male\": 5000,\n",
    "      \"female\": 4000\n",
    "  }\n",
    "\n",
    "  # Calculate salary based on conditions\n",
    "  salary = base_graduate_salary[gender.lower()]\n",
    "  if qualifications == \"Post-Graduate\":\n",
    "    salary += post_graduate_bonus\n",
    "  if years_of_service >= 10:\n",
    "    salary += experience_bonus[gender.lower()]\n",
    "\n",
    "  return salary\n",
    "\n",
    "# Get input from user\n",
    "gender = input(\"Enter employee's gender (male/female): \")\n",
    "years_of_service = int(input(\"Enter years of service: \"))\n",
    "qualifications = input(\"Enter qualifications (Post-Graduate/Graduate): \")\n",
    "\n",
    "# Calculate and print salary\n",
    "salary = calculate_salary(gender, years_of_service, qualifications)\n",
    "\n",
    "if salary == -1:\n",
    "  print(\"Invalid input. Please enter valid gender and qualifications.\")\n",
    "else:\n",
    "  print(f\"Employee's salary: Rs. {salary}\")\n"
   ]
  },
  {
   "cell_type": "code",
   "execution_count": 8,
   "id": "e1a19a6f-b491-43de-beb9-691e11ba81a3",
   "metadata": {},
   "outputs": [
    {
     "name": "stdin",
     "output_type": "stream",
     "text": [
      "Enter the cost price of the item:  44\n",
      "Enter the selling price of the item:  44\n"
     ]
    },
    {
     "name": "stdout",
     "output_type": "stream",
     "text": [
      "No profit, no loss (break-even)\n"
     ]
    }
   ],
   "source": [
    "# If cost price and selling price of an item is input through the keyboard, write a program\n",
    "# to determine whether the seller has made profit or incurred loss. Also determine how\n",
    "# much profit he made or loss he incurred.\n",
    "\n",
    "cost_price = float(input(\"Enter the cost price of the item: \"))\n",
    "selling_price = float(input(\"Enter the selling price of the item: \"))\n",
    "\n",
    "# Calculate profit or loss\n",
    "profit_loss = selling_price - cost_price\n",
    "\n",
    "if profit_loss > 0:\n",
    "  print(\"Profit made: Rs.\", profit_loss)\n",
    "elif profit_loss < 0:\n",
    "  print(\"Loss incurred: Rs.\", abs(profit_loss))  # Use abs() for absolute value of loss\n",
    "else:\n",
    "  print(\"No profit, no loss (break-even)\")\n"
   ]
  },
  {
   "cell_type": "code",
   "execution_count": 9,
   "id": "fd8b636b-9057-46d9-b879-79d547e62132",
   "metadata": {},
   "outputs": [
    {
     "name": "stdin",
     "output_type": "stream",
     "text": [
      "Enter an integer:  23\n"
     ]
    },
    {
     "name": "stdout",
     "output_type": "stream",
     "text": [
      "23 is an odd number.\n"
     ]
    }
   ],
   "source": [
    "# . Any integer is input through the keyboard. Write a program to find out whether it is an\n",
    "# odd number or even number. (Hint: Use the % (modulus) operator)\n",
    "\n",
    "number = int(input(\"Enter an integer: \"))\n",
    "\n",
    "# Check for even or odd using modulo operator\n",
    "if number % 2 == 0:\n",
    "  print(f\"{number} is an even number.\")\n",
    "else:\n",
    "  print(f\"{number} is an odd number.\")\n",
    "\n"
   ]
  },
  {
   "cell_type": "code",
   "execution_count": 10,
   "id": "4ac71506-3b4f-4b62-b133-da81bfefd508",
   "metadata": {},
   "outputs": [
    {
     "name": "stdin",
     "output_type": "stream",
     "text": [
      "Enter a five-digit number:  23232\n"
     ]
    },
    {
     "name": "stdout",
     "output_type": "stream",
     "text": [
      "23232 is a palindrome.\n"
     ]
    }
   ],
   "source": [
    "# A five-digit number is entered through the keyboard. Write a program to obtain the\n",
    "# reversed number and to determine whether the original and reversed numbers are equal\n",
    "# or not.\n",
    "\n",
    "number = int(input(\"Enter a five-digit number: \"))\n",
    "\n",
    "# Input validation (check for five digits)\n",
    "if number < 10000 or number > 99999:\n",
    "  print(\"Invalid input. Please enter a five-digit number.\")\n",
    "else:\n",
    "  # Extract digits (reversing the order)\n",
    "  reversed_number = 0\n",
    "  original_number = number\n",
    "  while number > 0:\n",
    "    digit = number % 10\n",
    "    reversed_number = reversed_number * 10 + digit\n",
    "    number //= 10\n",
    "\n",
    "  # Check for equality (palindrome)\n",
    "  if original_number == reversed_number:\n",
    "    print(f\"{original_number} is a palindrome.\")\n",
    "  else:\n",
    "    print(f\"{original_number} is not a palindrome. Reversed number: {reversed_number}\")\n"
   ]
  },
  {
   "cell_type": "code",
   "execution_count": 11,
   "id": "2c7f7790-1913-4fd8-88b2-a08f9808da77",
   "metadata": {},
   "outputs": [
    {
     "name": "stdin",
     "output_type": "stream",
     "text": [
      "Enter Ram's age:  23\n",
      "Enter Shyam's age:  3\n",
      "Enter Ajay's age:  32\n"
     ]
    },
    {
     "name": "stdout",
     "output_type": "stream",
     "text": [
      "Shyam is the youngest.\n"
     ]
    }
   ],
   "source": [
    "# If the ages of Ram, Shyam and Ajay are input through the keyboard, write a program to\n",
    "# determine the youngest of the three.\n",
    "\n",
    "ram_age = int(input(\"Enter Ram's age: \"))\n",
    "shyam_age = int(input(\"Enter Shyam's age: \"))\n",
    "ajay_age = int(input(\"Enter Ajay's age: \"))\n",
    "\n",
    "# Find the minimum age\n",
    "youngest_age = min(ram_age, shyam_age, ajay_age)\n",
    "\n",
    "# Determine who is the youngest (using conditional statements for clarity)\n",
    "if ram_age == youngest_age:\n",
    "  print(\"Ram is the youngest.\")\n",
    "elif shyam_age == youngest_age:\n",
    "  print(\"Shyam is the youngest.\")\n",
    "else:\n",
    "  print(\"Ajay is the youngest.\")\n"
   ]
  },
  {
   "cell_type": "code",
   "execution_count": 12,
   "id": "1ba8f796-bff2-404e-9455-e44869aaaa7b",
   "metadata": {},
   "outputs": [
    {
     "name": "stdin",
     "output_type": "stream",
     "text": [
      "Enter the first angle of the triangle (in degrees):  33\n",
      "Enter the second angle of the triangle (in degrees):  33\n",
      "Enter the third angle of the triangle (in degrees):  33\n"
     ]
    },
    {
     "name": "stdout",
     "output_type": "stream",
     "text": [
      "Triangle is not valid. The sum of angles must be 180 degrees.\n"
     ]
    }
   ],
   "source": [
    "#  Write a program to check whether a triangle is valid or not, when the three angles of\n",
    "# the triangle are entered through the keyboard. A triangle is valid if the sum of all the three\n",
    "# angles is equal to 180 degrees.\n",
    "\n",
    "angle1 = float(input(\"Enter the first angle of the triangle (in degrees): \"))\n",
    "angle2 = float(input(\"Enter the second angle of the triangle (in degrees): \"))\n",
    "angle3 = float(input(\"Enter the third angle of the triangle (in degrees): \"))\n",
    "\n",
    "# Calculate the sum of angles\n",
    "total_angle = angle1 + angle2 + angle3\n",
    "\n",
    "# Check for valid triangle (sum of angles must be 180 degrees)\n",
    "if total_angle == 180:\n",
    "  print(\"Triangle is valid.\")\n",
    "else:\n",
    "  print(\"Triangle is not valid. The sum of angles must be 180 degrees.\")\n",
    "\n",
    "\n",
    "\n"
   ]
  },
  {
   "cell_type": "code",
   "execution_count": 13,
   "id": "4769f1f8-a21a-45a8-9f23-4a5bd3003d99",
   "metadata": {},
   "outputs": [
    {
     "name": "stdin",
     "output_type": "stream",
     "text": [
      "Enter a number:  33\n"
     ]
    },
    {
     "name": "stdout",
     "output_type": "stream",
     "text": [
      "Absolute value of 33.0 is: 33.0\n"
     ]
    }
   ],
   "source": [
    " # Find the absolute value of a number entered through the keyboard.\n",
    "\n",
    "number = float(input(\"Enter a number: \"))\n",
    "\n",
    "# Use the built-in abs() function\n",
    "absolute_value = abs(number)\n",
    "\n",
    "print(f\"Absolute value of {number} is: {absolute_value}\")\n"
   ]
  },
  {
   "cell_type": "code",
   "execution_count": 14,
   "id": "0ce10d8d-7bb8-408f-8a0d-e49060143cc4",
   "metadata": {},
   "outputs": [
    {
     "name": "stdin",
     "output_type": "stream",
     "text": [
      "Enter the length of the rectangle:  33\n",
      "Enter the breadth of the rectangle:  23\n"
     ]
    },
    {
     "name": "stdout",
     "output_type": "stream",
     "text": [
      "Area of the rectangle is greater than its perimeter.\n"
     ]
    }
   ],
   "source": [
    "# Given the length and breadth of a rectangle, write a program to find whether the area\n",
    "# of the rectangle is greater than its perimeter. For example, the area of the rectangle with\n",
    "# length = 5 and breadth = 4 is greater than its perimeter\n",
    "\n",
    "length = float(input(\"Enter the length of the rectangle: \"))\n",
    "breadth = float(input(\"Enter the breadth of the rectangle: \"))\n",
    "\n",
    "# Calculate area and perimeter\n",
    "area = length * breadth\n",
    "perimeter = 2 * (length + breadth)\n",
    "\n",
    "# Check if area is greater than perimeter\n",
    "if area > perimeter:\n",
    "  print(\"Area of the rectangle is greater than its perimeter.\")\n",
    "else:\n",
    "  print(\"Area of the rectangle is not greater than its perimeter.\")\n"
   ]
  },
  {
   "cell_type": "code",
   "execution_count": 15,
   "id": "f9cffffd-8298-4af6-abb9-c29e38cbc4ef",
   "metadata": {},
   "outputs": [
    {
     "name": "stdin",
     "output_type": "stream",
     "text": [
      "Enter a year:  2024\n"
     ]
    },
    {
     "name": "stdout",
     "output_type": "stream",
     "text": [
      "2024 is a leap year.\n"
     ]
    }
   ],
   "source": [
    "# Any year is entered through the keyboard, write a program to determine whether the\n",
    "# year is leap or not. Use the logical operators && and ||.\n",
    "\n",
    "year = int(input(\"Enter a year: \"))\n",
    "\n",
    "# Check for leap year conditions\n",
    "is_leap_year = (year % 4 == 0 and year % 100 != 0) or year % 400 == 0\n",
    "\n",
    "if is_leap_year:\n",
    "  print(f\"{year} is a leap year.\")\n",
    "else:\n",
    "  print(f\"{year} is not a leap year.\")\n"
   ]
  },
  {
   "cell_type": "code",
   "execution_count": 16,
   "id": "7faa9f1b-c76c-4d45-a072-024226cbe83c",
   "metadata": {},
   "outputs": [
    {
     "name": "stdin",
     "output_type": "stream",
     "text": [
      "Enter the hardness of the steel:  2000\n",
      "Enter the carbon content of the steel:  2333\n",
      "Enter the tensile strength of the steel:  232\n"
     ]
    },
    {
     "name": "stdout",
     "output_type": "stream",
     "text": [
      "The steel does not meet the grade criteria.\n"
     ]
    }
   ],
   "source": [
    "#  A certain grade of steel is graded according to the following conditions:\n",
    "# i. Hardness must be greater than 50\n",
    "# ii. Carbon content must be less than 0.7\n",
    "# iii. Tensile strength must be greater than 5600\n",
    "# The grades are as follows:\n",
    "# i. Grade is 10 if all three conditions are met\n",
    "# ii. Grade is 9 if conditions (i) and (ii) are met\n",
    "# iii. Grade is 8 if conditions (ii) and (iii) are met\n",
    "# iv. Grade is 7 if conditions (i) and (iii) are met\n",
    "# v. Grade is 6 if only one condition is met\n",
    "# vi. Grade is 5 if none of the conditions are met\n",
    "# Write a program, which will require the user to give values of hardness, carbon content and\n",
    "# tensile strength of the steel under consideration and output the grade of the steel.\n",
    "hardness = float(input(\"Enter the hardness of the steel: \"))\n",
    "carbon_content = float(input(\"Enter the carbon content of the steel: \"))\n",
    "tensile_strength = float(input(\"Enter the tensile strength of the steel: \"))\n",
    "\n",
    "# Define minimum and maximum values\n",
    "min_hardness = 50\n",
    "max_carbon_content = 0.7\n",
    "min_tensile_strength = 5600\n",
    "\n",
    "# Check for conditions met\n",
    "conditions_met = 0\n",
    "\n",
    "# Check each condition and increment counter if met\n",
    "if hardness > min_hardness:\n",
    "  conditions_met += 1\n",
    "if carbon_content < max_carbon_content:\n",
    "  conditions_met += 1\n",
    "if tensile_strength > min_tensile_strength:\n",
    "  conditions_met += 1\n",
    "\n",
    "# Determine grade based on conditions met\n",
    "if conditions_met == 3:\n",
    "  grade = 10\n",
    "elif conditions_met == 2:\n",
    "  if hardness <= min_hardness and tensile_strength > min_tensile_strength:\n",
    "    grade = 7\n",
    "  else:\n",
    "    grade = 9\n",
    "elif conditions_met == 1:\n",
    "  grade = 6\n",
    "else:\n",
    "  grade = 5\n",
    "\n",
    "# Print the grade\n",
    "print(f\"The grade of the steel is: {grade}\")\n"
   ]
  },
  {
   "cell_type": "code",
   "execution_count": 1,
   "id": "454aa51c-7009-4436-87bb-5469219601e0",
   "metadata": {},
   "outputs": [
    {
     "name": "stdin",
     "output_type": "stream",
     "text": [
      "Enter the number of days the book is late:  32\n"
     ]
    },
    {
     "name": "stdout",
     "output_type": "stream",
     "text": [
      "Book overdue by 32 days. Membership cancelled!\n"
     ]
    }
   ],
   "source": [
    "# #A library charges a fine for every book returned late. For first 5 days the fine is 50\n",
    "# paise, for 6-10 days fine is one rupee and above 10 days fine is 5 rupees. If you return the\n",
    "# book after 30 days your membership will be cancelled. Write a program to accept the\n",
    "# number of days the member is late to return the book and display the fine or the\n",
    "# appropriate message.\n",
    "\n",
    "def calculate_fine(days_late):\n",
    "  if days_late <= 0:\n",
    "    print(\"Book returned on time. No fine!\")\n",
    "  elif days_late <= 5:\n",
    "    fine = days_late * 0.5  # 50 paise per day\n",
    "    print(f\"Fine for {days_late} days late: ₹ {fine:.2f}\")\n",
    "  elif days_late <= 10:\n",
    "    fine = 5 + (days_late - 5) * 1  # ₹1 for days 6-10\n",
    "    print(f\"Fine for {days_late} days late: ₹ {fine:.2f}\")\n",
    "  elif days_late <= 30:\n",
    "    fine = 15 + (days_late - 10) * 5  # ₹5 for days 11-30\n",
    "    print(f\"Fine for {days_late} days late: ₹ {fine:.2f}\")\n",
    "  else:\n",
    "    print(f\"Book overdue by {days_late} days. Membership cancelled!\")\n",
    "\n",
    "# Get number of days late from user\n",
    "days_late = int(input(\"Enter the number of days the book is late: \"))\n",
    "\n",
    "calculate_fine(days_late)\n"
   ]
  },
  {
   "cell_type": "code",
   "execution_count": 2,
   "id": "c1ce95d8-5d67-4aa9-b711-96dc936f9666",
   "metadata": {},
   "outputs": [
    {
     "name": "stdin",
     "output_type": "stream",
     "text": [
      "Enter the time taken by the worker (in hours):  44\n"
     ]
    },
    {
     "name": "stdout",
     "output_type": "stream",
     "text": [
      "Performance below expectations. Job improvement required.\n"
     ]
    }
   ],
   "source": [
    "# . In a company, worker efficiency is determined on the basis of the time required for a\n",
    "# worker to complete a particular job. If the time taken by the worker is between 2 – 3\n",
    "# hours, then the worker is said to be highly efficient. If the time required by the worker is\n",
    "# between 3 – 4 hours, then the worker is ordered to improve speed. If the time taken is\n",
    "# between 4 – 5 hours, the worker is given training to improve his speed, and if the time\n",
    "# taken by the worker is more than 5 hours, then the worker has to leave the company. If the\n",
    "# time taken by the worker is input through the keyboard, find the efficiency of the worker.\n",
    "\n",
    "\n",
    "def evaluate_worker(time_taken):\n",
    "  \"\"\"\n",
    "  This function evaluates worker efficiency based on time taken for a job.\n",
    "\n",
    "  Args:\n",
    "      time_taken (float): Time taken by the worker in hours.\n",
    "\n",
    "  Returns:\n",
    "      str: Message indicating worker efficiency.\n",
    "  \"\"\"\n",
    "  if time_taken <= 0:\n",
    "    return \"Invalid input. Time cannot be zero or negative.\"\n",
    "  elif time_taken <= 2:\n",
    "    return \"Highly Efficient! Great work!\"\n",
    "  elif time_taken <= 3:\n",
    "    return \"Needs improvement in speed. Keep practicing!\"\n",
    "  elif time_taken <= 4:\n",
    "    return \"Training recommended to improve speed.\"\n",
    "  else:\n",
    "    return \"Performance below expectations. Job improvement required.\"\n",
    "\n",
    "# Get time taken from user\n",
    "time_taken = float(input(\"Enter the time taken by the worker (in hours): \"))\n",
    "\n",
    "# Evaluate and display efficiency\n",
    "efficiency_message = evaluate_worker(time_taken)\n",
    "print(efficiency_message)\n"
   ]
  },
  {
   "cell_type": "markdown",
   "id": "98e73263-d042-4e3b-8e7e-a85f0a532536",
   "metadata": {},
   "source": [
    "## TASK 3"
   ]
  },
  {
   "cell_type": "code",
   "execution_count": 4,
   "id": "a988d4d4-c253-439c-9f16-264588f05b2f",
   "metadata": {},
   "outputs": [
    {
     "name": "stdin",
     "output_type": "stream",
     "text": [
      "ENTER DESIRED NUMBER : 22\n"
     ]
    },
    {
     "name": "stdout",
     "output_type": "stream",
     "text": [
      "Factors of 22: [1, 22, 2, 11]\n"
     ]
    }
   ],
   "source": [
    " # Write a program to find the factor of the given number.\n",
    "\n",
    "def find_factors(num):\n",
    "  \"\"\"\n",
    "  This function finds all factors of a given positive integer.\n",
    "\n",
    "  Args:\n",
    "      num (int): The number to find factors for.\n",
    "\n",
    "  Returns:\n",
    "      list: A list containing all factors of the number.\n",
    "  \"\"\"\n",
    "  if num <= 0:\n",
    "    return \"Invalid input. Please enter a positive integer.\"\n",
    "  factors = []\n",
    "  # Iterate from 1 to the square root of the number\n",
    "  for i in range(1, int(num**0.5) + 1):\n",
    "    if num % i == 0:\n",
    "      factors.append(i)\n",
    "      if i != num // i:  # Add the pair only once if it's not a perfect square\n",
    "        factors.append(num // i)\n",
    "  return factors\n",
    "\n",
    "# Example usage (replace with your desired number)\n",
    "number = int(input(\"ENTER DESIRED NUMBER :\"))\n",
    "factors_list = find_factors(number)\n",
    "print(f\"Factors of {number}: {factors_list}\")\n"
   ]
  },
  {
   "cell_type": "code",
   "execution_count": 6,
   "id": "fb5ba454-e0f1-4dfe-80f6-7dbe107e01ed",
   "metadata": {},
   "outputs": [
    {
     "name": "stdin",
     "output_type": "stream",
     "text": [
      "ENTER INPUT 33\n"
     ]
    },
    {
     "name": "stdout",
     "output_type": "stream",
     "text": [
      "33 is not a prime number.\n"
     ]
    }
   ],
   "source": [
    "# . Write a program to find whether the given number is prime or not\n",
    "\n",
    "def is_prime(num):\n",
    "  \"\"\"\n",
    "  This function checks if a given number is prime.\n",
    "\n",
    "  Args:\n",
    "      num (int): The number to check for primality.\n",
    "\n",
    "  Returns:\n",
    "      bool: True if the number is prime, False otherwise.\n",
    "  \"\"\"\n",
    "  if num <= 1:\n",
    "    return False\n",
    "  if num <= 3:\n",
    "    return True\n",
    "  if num % 2 == 0 or num % 3 == 0:\n",
    "    return False\n",
    "  i = 5\n",
    "  while i * i <= num:\n",
    "    if num % i == 0 or num % (i + 2) == 0:\n",
    "      return False\n",
    "    i += 6\n",
    "  return True\n",
    "\n",
    "# Example usage (replace with your desired number)\n",
    "number = int(input(\"ENTER INPUT\"))\n",
    "if is_prime(number):\n",
    "  print(f\"{number} is a prime number.\")\n",
    "else:\n",
    "  print(f\"{number} is not a prime number.\")\n"
   ]
  },
  {
   "cell_type": "code",
   "execution_count": 7,
   "id": "29f89217-2a77-4c63-af85-256575406003",
   "metadata": {},
   "outputs": [
    {
     "name": "stdout",
     "output_type": "stream",
     "text": [
      "153 is an Armstrong number.\n"
     ]
    }
   ],
   "source": [
    "# Write a program to find the given number is Armstrong number or not.\n",
    "\n",
    "def is_armstrong_number(num):\n",
    "  \"\"\"\n",
    "  This function checks if a given number is an Armstrong number.\n",
    "\n",
    "  Args:\n",
    "      num (int): The number to check.\n",
    "\n",
    "  Returns:\n",
    "      bool: True if the number is an Armstrong number, False otherwise.\n",
    "  \"\"\"\n",
    "  original_num = num\n",
    "  sum = 0\n",
    "  while num > 0:\n",
    "    digit = num % 10\n",
    "    sum += digit ** len(str(original_num))\n",
    "    num //= 10\n",
    "  return sum == original_num\n",
    "\n",
    "# Example usage\n",
    "number = 153  # Change this to any number you want to check\n",
    "if is_armstrong_number(number):\n",
    "  print(f\"{number} is an Armstrong number.\")\n",
    "else:\n",
    "  print(f\"{number} is not an Armstrong number.\")\n",
    "\n"
   ]
  },
  {
   "cell_type": "code",
   "execution_count": 8,
   "id": "6d08ed3c-b627-49b8-940c-c7d2082c12a3",
   "metadata": {},
   "outputs": [
    {
     "name": "stdout",
     "output_type": "stream",
     "text": [
      "Armstrong numbers between 100 and 999:\n",
      "153\n",
      "370\n",
      "371\n",
      "407\n"
     ]
    }
   ],
   "source": [
    "# . Write a program to print the Armstrong numbers between 100 to 999.\n",
    "\n",
    "def is_armstrong_number(num):\n",
    "  \"\"\"\n",
    "  This function checks if a given number is an Armstrong number.\n",
    "\n",
    "  Args:\n",
    "      num (int): The number to check.\n",
    "\n",
    "  Returns:\n",
    "      bool: True if the number is an Armstrong number, False otherwise.\n",
    "  \"\"\"\n",
    "  original_num = num\n",
    "  sum = 0\n",
    "  while num > 0:\n",
    "    digit = num % 10\n",
    "    sum += digit ** len(str(original_num))\n",
    "    num //= 10\n",
    "  return sum == original_num\n",
    "\n",
    "# Print Armstrong numbers between 100 and 999\n",
    "print(\"Armstrong numbers between 100 and 999:\")\n",
    "for num in range(100, 1000):\n",
    "  if is_armstrong_number(num):\n",
    "    print(num)\n",
    "\n"
   ]
  },
  {
   "cell_type": "code",
   "execution_count": 9,
   "id": "d0a0dbeb-65a3-44e3-8074-d46034b4ca57",
   "metadata": {},
   "outputs": [
    {
     "name": "stdin",
     "output_type": "stream",
     "text": [
      "Enter the starting number:  44\n",
      "Enter the ending number:  44\n"
     ]
    },
    {
     "name": "stdout",
     "output_type": "stream",
     "text": [
      "Number of even numbers between 44 and 44: 1\n",
      "Number of odd numbers between 44 and 44: 0\n"
     ]
    }
   ],
   "source": [
    " # Write a program to count and print the number of odd and even numbers.\n",
    "\n",
    "def count_odd_even(start, end):\n",
    "  \"\"\"\n",
    "  This function counts the number of odd and even numbers within a given range.\n",
    "\n",
    "  Args:\n",
    "      start (int): The starting number of the range (inclusive).\n",
    "      end (int): The ending number of the range (inclusive).\n",
    "  \"\"\"\n",
    "  count_odd = 0\n",
    "  count_even = 0\n",
    "  for num in range(start, end + 1):\n",
    "    if num % 2 == 0:\n",
    "      count_even += 1\n",
    "    else:\n",
    "      count_odd += 1\n",
    "  print(f\"Number of even numbers between {start} and {end}: {count_even}\")\n",
    "  print(f\"Number of odd numbers between {start} and {end}: {count_odd}\")\n",
    "\n",
    "# Get start and end numbers from user (replace with desired values if needed)\n",
    "start_num = int(input(\"Enter the starting number: \"))\n",
    "end_num = int(input(\"Enter the ending number: \"))\n",
    "\n",
    "count_odd_even(start_num, end_num)\n"
   ]
  },
  {
   "cell_type": "code",
   "execution_count": 10,
   "id": "22b59396-db61-4f5d-8161-0bd14c1e5af8",
   "metadata": {},
   "outputs": [
    {
     "name": "stdout",
     "output_type": "stream",
     "text": [
      "The reverse of 12345 is: 54321\n"
     ]
    }
   ],
   "source": [
    "# Write a program to find the reverse of n digit number using While loop\n",
    "\n",
    "\n",
    "def reverse_number(num):\n",
    "  \"\"\"\n",
    "  This function reverses a given number using a while loop.\n",
    "\n",
    "  Args:\n",
    "      num (int): The number to reverse.\n",
    "\n",
    "  Returns:\n",
    "      int: The reversed number.\n",
    "  \"\"\"\n",
    "  reversed_num = 0\n",
    "  while num > 0:\n",
    "    digit = num % 10  # Extract the last digit\n",
    "    reversed_num = reversed_num * 10 + digit  # Append the digit to the reversed number\n",
    "    num //= 10  # Remove the last digit from the original number\n",
    "  return reversed_num\n",
    "\n",
    "# Example usage (replace with your desired number)\n",
    "number = 12345\n",
    "reversed_number = reverse_number(number)\n",
    "print(f\"The reverse of {number} is: {reversed_number}\")\n"
   ]
  },
  {
   "cell_type": "code",
   "execution_count": 11,
   "id": "82039b8b-f2d5-4d94-bf68-9ef068f49b3e",
   "metadata": {},
   "outputs": [
    {
     "name": "stdout",
     "output_type": "stream",
     "text": [
      "15 in binary: 1111\n"
     ]
    }
   ],
   "source": [
    " # Write a program to find the binary number from given decimal number.\n",
    "\n",
    "def decimal_to_binary(num):\n",
    "  \"\"\"\n",
    "  This function converts a decimal number to its binary representation using a while loop.\n",
    "\n",
    "  Args:\n",
    "      num (int): The decimal number to convert.\n",
    "\n",
    "  Returns:\n",
    "      str: The binary representation of the number (without the '0b' prefix).\n",
    "  \"\"\"\n",
    "  binary_string = \"\"\n",
    "  while num > 0:\n",
    "    remainder = num % 2  # Get the remainder (0 or 1)\n",
    "    binary_string = str(remainder) + binary_string  # Prepend the remainder to the binary string\n",
    "    num //= 2  # Remove the last digit (integer division by 2)\n",
    "  return binary_string\n",
    "\n",
    "# Example usage\n",
    "decimal_number = 15\n",
    "binary_number = decimal_to_binary(decimal_number)\n",
    "print(f\"{decimal_number} in binary: {binary_number}\")\n",
    "\n"
   ]
  },
  {
   "cell_type": "code",
   "execution_count": 12,
   "id": "b66baf16-4956-4438-ba39-92e5d0e47f8d",
   "metadata": {},
   "outputs": [
    {
     "name": "stdout",
     "output_type": "stream",
     "text": [
      "1101 in decimal: 13\n"
     ]
    }
   ],
   "source": [
    "# . Write a program to find the decimal number from given Binary number.\n",
    "\n",
    "def binary_to_decimal(binary_string):\n",
    "  \"\"\"\n",
    "  This function converts a binary string to its decimal equivalent.\n",
    "\n",
    "  Args:\n",
    "      binary_string (str): The binary string to convert.\n",
    "\n",
    "  Returns:\n",
    "      int: The decimal equivalent of the binary number.\n",
    "  \"\"\"\n",
    "  decimal_number = 0\n",
    "  power = 0\n",
    "  for digit in binary_string[::-1]:  # Iterate through digits in reverse order (MSB to LSB)\n",
    "    if digit not in '01':\n",
    "      return \"Invalid binary number. Please enter a string containing only 0s and 1s.\"\n",
    "    decimal_number += int(digit) * 2**power\n",
    "    power += 1\n",
    "  return decimal_number\n",
    "\n",
    "# Example usage (replace with your desired binary string)\n",
    "binary_number = \"1101\"\n",
    "decimal_number = binary_to_decimal(binary_number)\n",
    "print(f\"{binary_number} in decimal: {decimal_number}\")\n"
   ]
  },
  {
   "cell_type": "code",
   "execution_count": 13,
   "id": "0ae2ec24-a097-49a6-9423-24942f1cd659",
   "metadata": {},
   "outputs": [
    {
     "name": "stdout",
     "output_type": "stream",
     "text": [
      "The factorial of 5 is: 120\n"
     ]
    }
   ],
   "source": [
    "# Write a program to find the factorial of the given number\n",
    "\n",
    "def factorial(num):\n",
    "  \"\"\"\n",
    "  This function calculates the factorial of a non-negative integer.\n",
    "\n",
    "  Args:\n",
    "      num (int): The number for which to calculate the factorial.\n",
    "\n",
    "  Returns:\n",
    "      int: The factorial of the number (or an error message for negative input).\n",
    "  \"\"\"\n",
    "  if num < 0:\n",
    "    return \"Factorial is not defined for negative numbers.\"\n",
    "  elif num == 0:\n",
    "    return 1\n",
    "  else:\n",
    "    factorial = 1\n",
    "    for i in range(1, num + 1):\n",
    "      factorial *= i\n",
    "    return factorial\n",
    "\n",
    "# Example usage (replace with the desired number)\n",
    "number = 5\n",
    "result = factorial(number)\n",
    "print(f\"The factorial of {number} is: {result}\")\n"
   ]
  },
  {
   "cell_type": "code",
   "execution_count": 14,
   "id": "e404484d-7746-418e-924a-f9e5171dc7d3",
   "metadata": {},
   "outputs": [
    {
     "name": "stdin",
     "output_type": "stream",
     "text": [
      "Enter the number of terms for the Fibonacci sequence:  33\n"
     ]
    },
    {
     "name": "stdout",
     "output_type": "stream",
     "text": [
      "Fibonacci sequence up to 33 terms: [0, 1, 1, 2, 3, 5, 8, 13, 21, 34, 55, 89, 144, 233, 377, 610, 987, 1597, 2584, 4181, 6765, 10946, 17711, 28657, 46368, 75025, 121393, 196418, 317811, 514229, 832040, 1346269, 2178309]\n"
     ]
    }
   ],
   "source": [
    "# Write a program to find the Fibonacci Series of the given number.\n",
    "\n",
    "def fibonacci_series(num):\n",
    "  \"\"\"\n",
    "  This function generates the Fibonacci sequence up to a given number.\n",
    "\n",
    "  Args:\n",
    "      num (int): The number of terms in the Fibonacci sequence.\n",
    "\n",
    "  Returns:\n",
    "      list: A list containing the Fibonacci sequence up to n terms.\n",
    "  \"\"\"\n",
    "  if num < 1:\n",
    "    return \"Invalid input. Please enter a positive integer.\"\n",
    "  elif num == 1:\n",
    "    return [0]\n",
    "  else:\n",
    "    fibonacci_sequence = [0, 1]\n",
    "    for i in range(2, num):\n",
    "      next_term = fibonacci_sequence[i - 1] + fibonacci_sequence[i - 2]\n",
    "      fibonacci_sequence.append(next_term)\n",
    "    return fibonacci_sequence\n",
    "\n",
    "# Get number of terms from user (replace with desired value if needed)\n",
    "num_terms = int(input(\"Enter the number of terms for the Fibonacci sequence: \"))\n",
    "\n",
    "fibonacci_sequence = fibonacci_series(num_terms)\n",
    "print(f\"Fibonacci sequence up to {num_terms} terms: {fibonacci_sequence}\")\n"
   ]
  },
  {
   "cell_type": "code",
   "execution_count": 16,
   "id": "a35c2616-3244-4555-b528-2db3b8833247",
   "metadata": {},
   "outputs": [
    {
     "name": "stdout",
     "output_type": "stream",
     "text": [
      "6 is a perfect number: True\n",
      "27 is a perfect number: False\n"
     ]
    }
   ],
   "source": [
    "# . Write a program to find the given number is perfect number\n",
    "\n",
    "def is_perfect_number(num):\n",
    "  \"\"\"\n",
    "  This function checks if a given number is a perfect number.\n",
    "\n",
    "  Args:\n",
    "      num (int): The number to check.\n",
    "\n",
    "  Returns:\n",
    "      bool: True if the number is a perfect number, False otherwise.\n",
    "  \"\"\"\n",
    "  if num <= 1:\n",
    "    return False\n",
    "  sum_of_divisors = 1  # Include 1 as a divisor for all numbers\n",
    "  # Iterate efficiently only up to the square root of the number\n",
    "  for i in range(2, int(num**0.5) + 1):\n",
    "    if num % i == 0:\n",
    "      # If a divisor is found, add it and its pair (if applicable)\n",
    "      sum_of_divisors += i\n",
    "      if i * i != num:  # Avoid adding the number twice for perfect squares\n",
    "        sum_of_divisors += num // i\n",
    "  return sum_of_divisors == num\n",
    "\n",
    "# Example usage (replace with desired numbers)\n",
    "number1 = 6  # Perfect number\n",
    "number2 = 27  # Not a perfect number\n",
    "print(f\"{number1} is a perfect number: {is_perfect_number(number1)}\")\n",
    "print(f\"{number2} is a perfect number: {is_perfect_number(number2)}\")\n",
    "\n"
   ]
  },
  {
   "cell_type": "code",
   "execution_count": 17,
   "id": "d95c4681-d3f2-4e38-af59-7cb4b692cc5e",
   "metadata": {},
   "outputs": [
    {
     "name": "stdout",
     "output_type": "stream",
     "text": [
      "Perfect numbers between 1 and 1000:\n",
      "6\n",
      "28\n",
      "496\n"
     ]
    }
   ],
   "source": [
    "# . Write a program to print the perfect number between 1-1000\n",
    "\n",
    "def is_perfect_number(num):\n",
    "  \"\"\"\n",
    "  This function checks if a given number is a perfect number.\n",
    "\n",
    "  Args:\n",
    "      num (int): The number to check.\n",
    "\n",
    "  Returns:\n",
    "      bool: True if the number is a perfect number, False otherwise.\n",
    "  \"\"\"\n",
    "  if num <= 1:\n",
    "    return False\n",
    "  sum_of_divisors = 1  # Include 1 as a divisor for all numbers\n",
    "  # Iterate efficiently only up to the square root of the number\n",
    "  for i in range(2, int(num**0.5) + 1):\n",
    "    if num % i == 0:\n",
    "      # If a divisor is found, add it and its pair (if applicable)\n",
    "      sum_of_divisors += i\n",
    "      if i * i != num:  # Avoid adding the number twice for perfect squares\n",
    "        sum_of_divisors += num // i\n",
    "  return sum_of_divisors == num\n",
    "\n",
    "# Print perfect numbers between 1 and 1000\n",
    "print(\"Perfect numbers between 1 and 1000:\")\n",
    "for num in range(1, 1001):\n",
    "  if is_perfect_number(num):\n",
    "    print(num)\n"
   ]
  },
  {
   "cell_type": "code",
   "execution_count": 18,
   "id": "890aae49-c93f-4ab8-a90e-3fcb39cad32d",
   "metadata": {},
   "outputs": [
    {
     "name": "stdout",
     "output_type": "stream",
     "text": [
      "145 is a strong number: True\n",
      "20 is a strong number: False\n"
     ]
    }
   ],
   "source": [
    "# Write a program to find the given number is strong number\n",
    "\n",
    "def is_strong_number(num):\n",
    "  \"\"\"\n",
    "  This function checks if a given number is a strong number (sum of factorials of its digits is equal to the number itself).\n",
    "\n",
    "  Args:\n",
    "      num (int): The number to check.\n",
    "\n",
    "  Returns:\n",
    "      bool: True if the number is a strong number, False otherwise.\n",
    "  \"\"\"\n",
    "  original_num = num\n",
    "  sum_of_factorials = 0\n",
    "  while num > 0:\n",
    "    digit = num % 10\n",
    "    sum_of_factorials += factorial(digit)\n",
    "    num //= 10\n",
    "  return sum_of_factorials == original_num\n",
    "\n",
    "def factorial(num):\n",
    "  \"\"\"\n",
    "  This function calculates the factorial of a non-negative integer.\n",
    "\n",
    "  Args:\n",
    "      num (int): The number for which to calculate the factorial.\n",
    "\n",
    "  Returns:\n",
    "      int: The factorial of the number (or an error message for negative input).\n",
    "  \"\"\"\n",
    "  if num < 0:\n",
    "    return \"Factorial is not defined for negative numbers.\"\n",
    "  elif num == 0:\n",
    "    return 1\n",
    "  else:\n",
    "    factorial = 1\n",
    "    for i in range(1, num + 1):\n",
    "      factorial *= i\n",
    "    return factorial\n",
    "\n",
    "# Example usage (replace with desired numbers)\n",
    "number1 = 145  # Strong number\n",
    "number2 = 20  # Not a strong number\n",
    "print(f\"{number1} is a strong number: {is_strong_number(number1)}\")\n",
    "print(f\"{number2} is a strong number: {is_strong_number(number2)}\")\n"
   ]
  },
  {
   "cell_type": "code",
   "execution_count": 19,
   "id": "a705803d-ffa6-40ea-b592-28e089a06696",
   "metadata": {},
   "outputs": [
    {
     "name": "stdin",
     "output_type": "stream",
     "text": [
      "Enter the base number:  33\n",
      "Enter the exponent:  33\n"
     ]
    },
    {
     "name": "stdout",
     "output_type": "stream",
     "text": [
      "33.0 raised to the power of 33.0 is: 1.2911004008776103e+50\n"
     ]
    }
   ],
   "source": [
    "# Two numbers are entered through the keyboard. Write a program to find the value of\n",
    "# one number raised to the power of another.\n",
    "\n",
    "def get_number_input(prompt):\n",
    "  \"\"\"\n",
    "  This function gets a number as input from the user with a prompt message.\n",
    "\n",
    "  Args:\n",
    "      prompt (str): The message to display to the user.\n",
    "\n",
    "  Returns:\n",
    "      float: The number entered by the user.\n",
    "  \"\"\"\n",
    "  while True:\n",
    "    try:\n",
    "      number = float(input(prompt))\n",
    "      return number\n",
    "    except ValueError:\n",
    "      print(\"Invalid input. Please enter a number.\")\n",
    "\n",
    "base = get_number_input(\"Enter the base number: \")\n",
    "exponent = get_number_input(\"Enter the exponent: \")\n",
    "\n",
    "# Calculate the power using the built-in operator\n",
    "result = base ** exponent\n",
    "\n",
    "print(f\"{base} raised to the power of {exponent} is: {result}\")\n"
   ]
  },
  {
   "cell_type": "code",
   "execution_count": null,
   "id": "02d8cd21-7f0c-4cf1-961d-c8104bedc97b",
   "metadata": {},
   "outputs": [],
   "source": []
  }
 ],
 "metadata": {
  "kernelspec": {
   "display_name": "Python 3 (ipykernel)",
   "language": "python",
   "name": "python3"
  },
  "language_info": {
   "codemirror_mode": {
    "name": "ipython",
    "version": 3
   },
   "file_extension": ".py",
   "mimetype": "text/x-python",
   "name": "python",
   "nbconvert_exporter": "python",
   "pygments_lexer": "ipython3",
   "version": "3.12.1"
  }
 },
 "nbformat": 4,
 "nbformat_minor": 5
}
